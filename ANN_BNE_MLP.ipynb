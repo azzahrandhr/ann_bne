{
  "nbformat": 4,
  "nbformat_minor": 0,
  "metadata": {
    "kernelspec": {
      "display_name": "Python 3",
      "language": "python",
      "name": "python3"
    },
    "language_info": {
      "codemirror_mode": {
        "name": "ipython",
        "version": 3
      },
      "file_extension": ".py",
      "mimetype": "text/x-python",
      "name": "python",
      "nbconvert_exporter": "python",
      "pygments_lexer": "ipython3",
      "version": "3.5.6"
    },
    "colab": {
      "name": "ANN_BNE_MLP.ipynb",
      "provenance": [],
      "collapsed_sections": []
    }
  },
  "cells": [
    {
      "cell_type": "markdown",
      "metadata": {
        "id": "oi9wWjGcdJvA"
      },
      "source": [
        "## Brazil Nut Effect Analysis with Multilayer Perceptron"
      ]
    },
    {
      "cell_type": "markdown",
      "metadata": {
        "id": "pSPJnEgvUHe_"
      },
      "source": [
        "In this notebook, we are going to build a machine learning model to predict the output of Brazil Nut Effect Phenomena. The aim of this project is classify the output of this phenomena using the feature collected. The output of this dataset is ranging from A to C.  A is when the large ball is on top and C is the large ball does not move from its initial position"
      ]
    },
    {
      "cell_type": "markdown",
      "metadata": {
        "id": "J4AZBUJ5mx5U"
      },
      "source": [
        "Now let's first import the dataset to this notebook"
      ]
    },
    {
      "cell_type": "code",
      "metadata": {
        "id": "a1JEBqiXeDMg"
      },
      "source": [
        "# Code to read csv file into Colaboratory:\n",
        "!pip install -U -q PyDrive\n",
        "from pydrive.auth import GoogleAuth\n",
        "from pydrive.drive import GoogleDrive\n",
        "from google.colab import auth\n",
        "from oauth2client.client import GoogleCredentials\n",
        "\n",
        "# Authenticate and create the PyDrive client.\n",
        "auth.authenticate_user()\n",
        "gauth = GoogleAuth()\n",
        "gauth.credentials = GoogleCredentials.get_application_default()\n",
        "drive = GoogleDrive(gauth)\n"
      ],
      "execution_count": null,
      "outputs": []
    },
    {
      "cell_type": "code",
      "metadata": {
        "id": "e4opkcAae6j-"
      },
      "source": [
        "link = 'https://drive.google.com/file/d/1hmLig8gwOanVSUg4tpoMpEf2rdLrKs-V/view?usp=sharing'\n",
        "fileDownloaded = drive.CreateFile({'id':'1hmLig8gwOanVSUg4tpoMpEf2rdLrKs-V'})"
      ],
      "execution_count": null,
      "outputs": []
    },
    {
      "cell_type": "code",
      "metadata": {
        "id": "U6kGQpX5gwSG"
      },
      "source": [
        "fileDownloaded.GetContentFile('20200606_dataexp.csv')"
      ],
      "execution_count": null,
      "outputs": []
    },
    {
      "cell_type": "code",
      "metadata": {
        "id": "RqIPA-nBfMx2",
        "colab": {
          "base_uri": "https://localhost:8080/",
          "height": 225
        },
        "outputId": "610f28d7-1eb0-4c6a-fb3f-045d2163de06"
      },
      "source": [
        "import pandas as pd\n",
        "import io\n",
        "df3 = pd.read_csv('20200606_dataexp.csv',delimiter=',', index_col='index')\n",
        "df3.head()"
      ],
      "execution_count": null,
      "outputs": [
        {
          "output_type": "execute_result",
          "data": {
            "text/html": [
              "<div>\n",
              "<style scoped>\n",
              "    .dataframe tbody tr th:only-of-type {\n",
              "        vertical-align: middle;\n",
              "    }\n",
              "\n",
              "    .dataframe tbody tr th {\n",
              "        vertical-align: top;\n",
              "    }\n",
              "\n",
              "    .dataframe thead th {\n",
              "        text-align: right;\n",
              "    }\n",
              "</style>\n",
              "<table border=\"1\" class=\"dataframe\">\n",
              "  <thead>\n",
              "    <tr style=\"text-align: right;\">\n",
              "      <th></th>\n",
              "      <th>Unnamed: 0</th>\n",
              "      <th>kn</th>\n",
              "      <th>gn</th>\n",
              "      <th>n_bed</th>\n",
              "      <th>d_int</th>\n",
              "      <th>d_bed</th>\n",
              "      <th>rho_int</th>\n",
              "      <th>rho_bed</th>\n",
              "      <th>freq</th>\n",
              "      <th>amp</th>\n",
              "      <th>gamma</th>\n",
              "      <th>zint_i</th>\n",
              "      <th>deg_i</th>\n",
              "      <th>E_pot</th>\n",
              "      <th>zint_f</th>\n",
              "      <th>deg_f</th>\n",
              "      <th>E_pot.1</th>\n",
              "      <th>label</th>\n",
              "    </tr>\n",
              "    <tr>\n",
              "      <th>index</th>\n",
              "      <th></th>\n",
              "      <th></th>\n",
              "      <th></th>\n",
              "      <th></th>\n",
              "      <th></th>\n",
              "      <th></th>\n",
              "      <th></th>\n",
              "      <th></th>\n",
              "      <th></th>\n",
              "      <th></th>\n",
              "      <th></th>\n",
              "      <th></th>\n",
              "      <th></th>\n",
              "      <th></th>\n",
              "      <th></th>\n",
              "      <th></th>\n",
              "      <th></th>\n",
              "      <th></th>\n",
              "    </tr>\n",
              "  </thead>\n",
              "  <tbody>\n",
              "    <tr>\n",
              "      <th>0</th>\n",
              "      <td>0</td>\n",
              "      <td>1611</td>\n",
              "      <td>384</td>\n",
              "      <td>156</td>\n",
              "      <td>0.0148</td>\n",
              "      <td>0.0050</td>\n",
              "      <td>877.87</td>\n",
              "      <td>1000.33</td>\n",
              "      <td>18.97</td>\n",
              "      <td>0.006588</td>\n",
              "      <td>9.55</td>\n",
              "      <td>0.1074</td>\n",
              "      <td>147</td>\n",
              "      <td>0.0948</td>\n",
              "      <td>1.1074</td>\n",
              "      <td>166</td>\n",
              "      <td>0.1105</td>\n",
              "      <td>A</td>\n",
              "    </tr>\n",
              "    <tr>\n",
              "      <th>1</th>\n",
              "      <td>1</td>\n",
              "      <td>1611</td>\n",
              "      <td>384</td>\n",
              "      <td>156</td>\n",
              "      <td>0.0148</td>\n",
              "      <td>0.0050</td>\n",
              "      <td>791.04</td>\n",
              "      <td>1000.33</td>\n",
              "      <td>18.97</td>\n",
              "      <td>0.006588</td>\n",
              "      <td>9.55</td>\n",
              "      <td>0.1074</td>\n",
              "      <td>147</td>\n",
              "      <td>0.0948</td>\n",
              "      <td>1.1074</td>\n",
              "      <td>166</td>\n",
              "      <td>0.1105</td>\n",
              "      <td>A</td>\n",
              "    </tr>\n",
              "    <tr>\n",
              "      <th>2</th>\n",
              "      <td>2</td>\n",
              "      <td>1730</td>\n",
              "      <td>311</td>\n",
              "      <td>164</td>\n",
              "      <td>0.0128</td>\n",
              "      <td>0.0049</td>\n",
              "      <td>747.53</td>\n",
              "      <td>1106.81</td>\n",
              "      <td>26.60</td>\n",
              "      <td>0.010000</td>\n",
              "      <td>18.60</td>\n",
              "      <td>0.0946</td>\n",
              "      <td>183</td>\n",
              "      <td>0.0897</td>\n",
              "      <td>1.0659</td>\n",
              "      <td>180</td>\n",
              "      <td>0.1010</td>\n",
              "      <td>A</td>\n",
              "    </tr>\n",
              "    <tr>\n",
              "      <th>3</th>\n",
              "      <td>3</td>\n",
              "      <td>1730</td>\n",
              "      <td>311</td>\n",
              "      <td>164</td>\n",
              "      <td>0.0128</td>\n",
              "      <td>0.0049</td>\n",
              "      <td>791.04</td>\n",
              "      <td>1106.81</td>\n",
              "      <td>26.60</td>\n",
              "      <td>0.010000</td>\n",
              "      <td>18.60</td>\n",
              "      <td>0.0946</td>\n",
              "      <td>183</td>\n",
              "      <td>0.0897</td>\n",
              "      <td>1.0659</td>\n",
              "      <td>180</td>\n",
              "      <td>0.1010</td>\n",
              "      <td>A</td>\n",
              "    </tr>\n",
              "    <tr>\n",
              "      <th>4</th>\n",
              "      <td>4</td>\n",
              "      <td>1396</td>\n",
              "      <td>332</td>\n",
              "      <td>102</td>\n",
              "      <td>0.0123</td>\n",
              "      <td>0.0051</td>\n",
              "      <td>700.26</td>\n",
              "      <td>1104.93</td>\n",
              "      <td>28.55</td>\n",
              "      <td>0.010000</td>\n",
              "      <td>25.33</td>\n",
              "      <td>0.1057</td>\n",
              "      <td>144</td>\n",
              "      <td>0.0668</td>\n",
              "      <td>1.0654</td>\n",
              "      <td>156</td>\n",
              "      <td>0.0470</td>\n",
              "      <td>A</td>\n",
              "    </tr>\n",
              "  </tbody>\n",
              "</table>\n",
              "</div>"
            ],
            "text/plain": [
              "       Unnamed: 0    kn   gn  n_bed  ...  zint_f  deg_f  E_pot.1  label\n",
              "index                                ...                               \n",
              "0               0  1611  384    156  ...  1.1074    166   0.1105      A\n",
              "1               1  1611  384    156  ...  1.1074    166   0.1105      A\n",
              "2               2  1730  311    164  ...  1.0659    180   0.1010      A\n",
              "3               3  1730  311    164  ...  1.0659    180   0.1010      A\n",
              "4               4  1396  332    102  ...  1.0654    156   0.0470      A\n",
              "\n",
              "[5 rows x 18 columns]"
            ]
          },
          "metadata": {
            "tags": []
          },
          "execution_count": 215
        }
      ]
    },
    {
      "cell_type": "markdown",
      "metadata": {
        "id": "m9tJs6X8nMIV"
      },
      "source": [
        "Importing libraries that we will be using he. in this notebook we will predict the classification using keras"
      ]
    },
    {
      "cell_type": "code",
      "metadata": {
        "id": "LYpOVugodJvB"
      },
      "source": [
        "import numpy as np\n",
        "from numpy import loadtxt\n",
        "from keras.models import Sequential\n",
        "from keras.layers import Dense, Dropout\n",
        "from keras.optimizers import Adam, SGD\n",
        "import pandas as pd\n",
        "from sklearn import preprocessing\n",
        "import random"
      ],
      "execution_count": null,
      "outputs": []
    },
    {
      "cell_type": "markdown",
      "metadata": {
        "id": "EACliEk5niqN"
      },
      "source": [
        "The target variable is classified based on the end position of the large ball (zint_f). if it does not move from the initial position we label it C, if it is on top then we label it A beside that we label it B"
      ]
    },
    {
      "cell_type": "code",
      "metadata": {
        "id": "dsekXhrIdJvF",
        "colab": {
          "base_uri": "https://localhost:8080/"
        },
        "outputId": "70167157-359b-4435-e0dc-8a90ae45834c"
      },
      "source": [
        "# load dataset\n",
        "data = pd.read_csv('20200606_dataexp.csv')\n",
        "print('Jumlah data : ', data.shape[0])\n",
        "data.head()\n",
        "\n",
        "#Preprocessing :\n",
        "\n",
        "contact_density = [] #kontaktopi\n",
        "Class = []\n",
        "\n",
        "#create a target variable\n",
        "for i in range (data.shape[0]):\n",
        "  if (data.loc[i,'zint_f']<= data.loc[i,'zint_i']*2):\n",
        "        u = 'C'\n",
        "  elif (data.loc[i,'zint_f']>= 1 - (data.loc[i,'zint_i'])*2):\n",
        "        u = 'A'\n",
        "  else:\n",
        "        u = 'B'\n",
        "  Class.append(u)\n",
        "\n",
        "data['Class'] = Class\n",
        "\n",
        "data.drop(data.columns[data.columns.str.contains('Unnamed',case = False)],axis = 1, inplace = True)\n",
        "data.drop(data.columns[data.columns.str.contains('index',case = False)],axis = 1, inplace = True)\n"
      ],
      "execution_count": null,
      "outputs": [
        {
          "output_type": "stream",
          "text": [
            "Jumlah data :  913\n"
          ],
          "name": "stdout"
        }
      ]
    },
    {
      "cell_type": "markdown",
      "metadata": {
        "id": "eSGm47vL7hT3"
      },
      "source": [
        "First take 100 data first to cut run time"
      ]
    },
    {
      "cell_type": "code",
      "metadata": {
        "id": "2qmYMiZwUAhi"
      },
      "source": [
        "df = data.copy()\r\n",
        "data = data.groupby(by = 'Class').head(100)"
      ],
      "execution_count": null,
      "outputs": []
    },
    {
      "cell_type": "markdown",
      "metadata": {
        "id": "Ud9PvzmPorEF"
      },
      "source": [
        "This is how the data points is distributed, we could see that B have more value than anything else"
      ]
    },
    {
      "cell_type": "code",
      "metadata": {
        "id": "GFyEnNLxyyn-",
        "colab": {
          "base_uri": "https://localhost:8080/",
          "height": 279
        },
        "outputId": "7e4be136-6ca4-4fba-ff61-eae987075b26"
      },
      "source": [
        "data['Class'].value_counts().plot(kind='bar')"
      ],
      "execution_count": null,
      "outputs": [
        {
          "output_type": "execute_result",
          "data": {
            "text/plain": [
              "<matplotlib.axes._subplots.AxesSubplot at 0x7fcd1076c090>"
            ]
          },
          "metadata": {
            "tags": []
          },
          "execution_count": 219
        },
        {
          "output_type": "display_data",
          "data": {
            "image/png": "[encoded data removed]",
            "text/plain": [
              "<Figure size 432x288 with 1 Axes>"
            ]
          },
          "metadata": {
            "tags": [],
            "needs_background": "light"
          }
        }
      ]
    },
    {
      "cell_type": "code",
      "metadata": {
        "colab": {
          "base_uri": "https://localhost:8080/"
        },
        "id": "0c40nK29U_RN",
        "outputId": "434ef5a2-4b36-4e0e-bd23-23a7646e3e79"
      },
      "source": [
        "data.shape"
      ],
      "execution_count": 220,
      "outputs": [
        {
          "output_type": "execute_result",
          "data": {
            "text/plain": [
              "(300, 18)"
            ]
          },
          "metadata": {
            "tags": []
          },
          "execution_count": 220
        }
      ]
    },
    {
      "cell_type": "markdown",
      "metadata": {
        "id": "yNPJV6oXwffw"
      },
      "source": [
        "We look at the correlation by looking at the heatmap and pairplot"
      ]
    },
    {
      "cell_type": "code",
      "metadata": {
        "id": "2WP335U3abVV",
        "colab": {
          "base_uri": "https://localhost:8080/",
          "height": 425
        },
        "outputId": "e5623c3b-5b2d-4cbd-9b1e-de8e327f4c08"
      },
      "source": [
        "from matplotlib import pyplot as plt\n",
        "import seaborn as sns\n",
        "\n",
        "corrmat = data.corr()\n",
        "f, ax = plt.subplots(figsize=(9, 6))\n",
        "sns.heatmap(corrmat, vmax=.8, square=True)"
      ],
      "execution_count": null,
      "outputs": [
        {
          "output_type": "execute_result",
          "data": {
            "text/plain": [
              "<matplotlib.axes._subplots.AxesSubplot at 0x7fcd07b49790>"
            ]
          },
          "metadata": {
            "tags": []
          },
          "execution_count": 179
        },
        {
          "output_type": "display_data",
          "data": {
            "image/png": "[encoded data removed]",
            "text/plain": [
              "<Figure size 648x432 with 2 Axes>"
            ]
          },
          "metadata": {
            "tags": [],
            "needs_background": "light"
          }
        }
      ]
    },
    {
      "cell_type": "code",
      "metadata": {
        "id": "EsvuM5mWbCZ5"
      },
      "source": [
        "#sns.pairplot(data)"
      ],
      "execution_count": null,
      "outputs": []
    },
    {
      "cell_type": "markdown",
      "metadata": {
        "id": "CPRLAN6dwyzE"
      },
      "source": [
        "From the data lets take the known initial value as feature for training :\r\n",
        "- kn and gn : is a physics coefficient\r\n",
        "- n_bed : number of grain (small ball)\r\n",
        "- d_int : diameter of the intruder (large ball)\r\n",
        "- d_bed : diameter of the grain \r\n",
        "- rho_int : density of the intruder\r\n",
        "- rho_bed : density of the grain\r\n",
        "- freq : frequency of the shake\r\n",
        "- amp : amplitudo of shake\r\n",
        "- zint_i : intitial position of the intruder"
      ]
    },
    {
      "cell_type": "code",
      "metadata": {
        "id": "TPjQM539dJvL",
        "colab": {
          "base_uri": "https://localhost:8080/"
        },
        "outputId": "ab8eb5b6-fc08-49f1-d9e6-bb8aac822afe"
      },
      "source": [
        "X = data[['kn','gn','n_bed','d_int','d_bed','rho_int','rho_bed','freq','amp','zint_i']]\n",
        "\n",
        "scaler = preprocessing.StandardScaler()\n",
        "fit_scale = scaler.fit(X)\n",
        "X_scaled = fit_scale.transform(X)\n",
        "X_size = X_scaled.shape[1]\n",
        "\n",
        "print(\"Banyak fitur : \", X_size)"
      ],
      "execution_count": null,
      "outputs": [
        {
          "output_type": "stream",
          "text": [
            "Banyak fitur :  10\n"
          ],
          "name": "stdout"
        }
      ]
    },
    {
      "cell_type": "code",
      "metadata": {
        "id": "5jH5DC5odJvN",
        "colab": {
          "base_uri": "https://localhost:8080/"
        },
        "outputId": "6f9f6c18-1bda-4271-e1b3-6bd26f7c448f"
      },
      "source": [
        "from sklearn.externals import joblib\n",
        "scaler_filename = \"scaler.save\"\n",
        "joblib.dump(fit_scale, scaler_filename) "
      ],
      "execution_count": null,
      "outputs": [
        {
          "output_type": "execute_result",
          "data": {
            "text/plain": [
              "['scaler.save']"
            ]
          },
          "metadata": {
            "tags": []
          },
          "execution_count": 182
        }
      ]
    },
    {
      "cell_type": "code",
      "metadata": {
        "scrolled": true,
        "id": "EJS05r7pdJvQ"
      },
      "source": [
        "data2 = pd.DataFrame(X_scaled)\n",
        "\n",
        "from sklearn import preprocessing\n",
        "le = preprocessing.LabelEncoder()\n",
        "le.fit(data[\"Class\"])\n",
        "data2[\"Class\"]=le.transform(data.loc[:,\"Class\"])"
      ],
      "execution_count": null,
      "outputs": []
    },
    {
      "cell_type": "code",
      "metadata": {
        "id": "WyrSZFKcdJvT",
        "colab": {
          "base_uri": "https://localhost:8080/",
          "height": 343
        },
        "outputId": "0b0a6742-6cbe-4109-f36d-540a0a958ea3"
      },
      "source": [
        "order = []\n",
        "for i in np.unique(data2[\"Class\"]):\n",
        "    list_temp = []\n",
        "    for j in range (np.shape(data2)[0]):\n",
        "        if data2.loc[j,\"Class\"] == i:\n",
        "            list_temp.append(data2.loc[j,:])\n",
        "    order.append(list_temp)\n",
        "    \n",
        "neworder = []\n",
        "for k in range (np.shape(data2)[0]):\n",
        "    for i in range (np.shape(order)[0]):\n",
        "        if (np.shape(order[i])[0]) > 0:\n",
        "            neworder.append(order[i].pop(0))\n",
        "            \n",
        "data3 = pd.DataFrame(neworder).reset_index()\n",
        "data3 = data3.drop([\"index\"],axis = 1)\n",
        "data3.head(10)"
      ],
      "execution_count": null,
      "outputs": [
        {
          "output_type": "execute_result",
          "data": {
            "text/html": [
              "<div>\n",
              "<style scoped>\n",
              "    .dataframe tbody tr th:only-of-type {\n",
              "        vertical-align: middle;\n",
              "    }\n",
              "\n",
              "    .dataframe tbody tr th {\n",
              "        vertical-align: top;\n",
              "    }\n",
              "\n",
              "    .dataframe thead th {\n",
              "        text-align: right;\n",
              "    }\n",
              "</style>\n",
              "<table border=\"1\" class=\"dataframe\">\n",
              "  <thead>\n",
              "    <tr style=\"text-align: right;\">\n",
              "      <th></th>\n",
              "      <th>0</th>\n",
              "      <th>1</th>\n",
              "      <th>2</th>\n",
              "      <th>3</th>\n",
              "      <th>4</th>\n",
              "      <th>5</th>\n",
              "      <th>6</th>\n",
              "      <th>7</th>\n",
              "      <th>8</th>\n",
              "      <th>9</th>\n",
              "      <th>Class</th>\n",
              "    </tr>\n",
              "  </thead>\n",
              "  <tbody>\n",
              "    <tr>\n",
              "      <th>0</th>\n",
              "      <td>0.303040</td>\n",
              "      <td>1.212231</td>\n",
              "      <td>0.355288</td>\n",
              "      <td>1.502201</td>\n",
              "      <td>-0.249889</td>\n",
              "      <td>1.827241</td>\n",
              "      <td>-1.581181</td>\n",
              "      <td>-0.837987</td>\n",
              "      <td>-1.576161</td>\n",
              "      <td>0.064993</td>\n",
              "      <td>0.0</td>\n",
              "    </tr>\n",
              "    <tr>\n",
              "      <th>1</th>\n",
              "      <td>0.813379</td>\n",
              "      <td>1.516684</td>\n",
              "      <td>1.541518</td>\n",
              "      <td>-1.580994</td>\n",
              "      <td>0.029837</td>\n",
              "      <td>-0.433463</td>\n",
              "      <td>-1.261100</td>\n",
              "      <td>-0.651501</td>\n",
              "      <td>1.011107</td>\n",
              "      <td>-0.956129</td>\n",
              "      <td>1.0</td>\n",
              "    </tr>\n",
              "    <tr>\n",
              "      <th>2</th>\n",
              "      <td>1.163813</td>\n",
              "      <td>-0.952769</td>\n",
              "      <td>-0.935610</td>\n",
              "      <td>-0.324877</td>\n",
              "      <td>-1.089066</td>\n",
              "      <td>-0.410154</td>\n",
              "      <td>-0.214924</td>\n",
              "      <td>-1.021860</td>\n",
              "      <td>1.011107</td>\n",
              "      <td>1.951758</td>\n",
              "      <td>2.0</td>\n",
              "    </tr>\n",
              "    <tr>\n",
              "      <th>3</th>\n",
              "      <td>0.303040</td>\n",
              "      <td>1.212231</td>\n",
              "      <td>0.355288</td>\n",
              "      <td>1.502201</td>\n",
              "      <td>-0.249889</td>\n",
              "      <td>-0.118798</td>\n",
              "      <td>-1.581181</td>\n",
              "      <td>-0.837987</td>\n",
              "      <td>-1.576161</td>\n",
              "      <td>0.064993</td>\n",
              "      <td>0.0</td>\n",
              "    </tr>\n",
              "    <tr>\n",
              "      <th>4</th>\n",
              "      <td>0.813379</td>\n",
              "      <td>1.516684</td>\n",
              "      <td>1.541518</td>\n",
              "      <td>-1.580994</td>\n",
              "      <td>0.029837</td>\n",
              "      <td>-0.118798</td>\n",
              "      <td>-1.261100</td>\n",
              "      <td>-0.651501</td>\n",
              "      <td>1.011107</td>\n",
              "      <td>-0.956129</td>\n",
              "      <td>1.0</td>\n",
              "    </tr>\n",
              "    <tr>\n",
              "      <th>5</th>\n",
              "      <td>1.214847</td>\n",
              "      <td>1.279887</td>\n",
              "      <td>-1.075167</td>\n",
              "      <td>-1.352609</td>\n",
              "      <td>-0.716099</td>\n",
              "      <td>-0.741629</td>\n",
              "      <td>0.971979</td>\n",
              "      <td>0.091830</td>\n",
              "      <td>-0.308796</td>\n",
              "      <td>1.105025</td>\n",
              "      <td>2.0</td>\n",
              "    </tr>\n",
              "    <tr>\n",
              "      <th>6</th>\n",
              "      <td>0.707909</td>\n",
              "      <td>-1.257222</td>\n",
              "      <td>0.634401</td>\n",
              "      <td>-0.781647</td>\n",
              "      <td>-0.343131</td>\n",
              "      <td>-1.093946</td>\n",
              "      <td>0.230739</td>\n",
              "      <td>-0.173085</td>\n",
              "      <td>1.011107</td>\n",
              "      <td>-0.203944</td>\n",
              "      <td>0.0</td>\n",
              "    </tr>\n",
              "    <tr>\n",
              "      <th>7</th>\n",
              "      <td>1.242065</td>\n",
              "      <td>-1.088082</td>\n",
              "      <td>0.704179</td>\n",
              "      <td>-0.553262</td>\n",
              "      <td>0.123079</td>\n",
              "      <td>-1.821666</td>\n",
              "      <td>1.099773</td>\n",
              "      <td>-1.601362</td>\n",
              "      <td>-1.371110</td>\n",
              "      <td>-0.796447</td>\n",
              "      <td>1.0</td>\n",
              "    </tr>\n",
              "    <tr>\n",
              "      <th>8</th>\n",
              "      <td>1.214847</td>\n",
              "      <td>1.279887</td>\n",
              "      <td>-1.075167</td>\n",
              "      <td>-1.352609</td>\n",
              "      <td>-0.716099</td>\n",
              "      <td>-0.118798</td>\n",
              "      <td>0.971979</td>\n",
              "      <td>0.091830</td>\n",
              "      <td>-0.308796</td>\n",
              "      <td>1.105025</td>\n",
              "      <td>2.0</td>\n",
              "    </tr>\n",
              "    <tr>\n",
              "      <th>9</th>\n",
              "      <td>0.707909</td>\n",
              "      <td>-1.257222</td>\n",
              "      <td>0.634401</td>\n",
              "      <td>-0.781647</td>\n",
              "      <td>-0.343131</td>\n",
              "      <td>-0.118798</td>\n",
              "      <td>0.230739</td>\n",
              "      <td>-0.173085</td>\n",
              "      <td>1.011107</td>\n",
              "      <td>-0.203944</td>\n",
              "      <td>0.0</td>\n",
              "    </tr>\n",
              "  </tbody>\n",
              "</table>\n",
              "</div>"
            ],
            "text/plain": [
              "          0         1         2         3  ...         7         8         9  Class\n",
              "0  0.303040  1.212231  0.355288  1.502201  ... -0.837987 -1.576161  0.064993    0.0\n",
              "1  0.813379  1.516684  1.541518 -1.580994  ... -0.651501  1.011107 -0.956129    1.0\n",
              "2  1.163813 -0.952769 -0.935610 -0.324877  ... -1.021860  1.011107  1.951758    2.0\n",
              "3  0.303040  1.212231  0.355288  1.502201  ... -0.837987 -1.576161  0.064993    0.0\n",
              "4  0.813379  1.516684  1.541518 -1.580994  ... -0.651501  1.011107 -0.956129    1.0\n",
              "5  1.214847  1.279887 -1.075167 -1.352609  ...  0.091830 -0.308796  1.105025    2.0\n",
              "6  0.707909 -1.257222  0.634401 -0.781647  ... -0.173085  1.011107 -0.203944    0.0\n",
              "7  1.242065 -1.088082  0.704179 -0.553262  ... -1.601362 -1.371110 -0.796447    1.0\n",
              "8  1.214847  1.279887 -1.075167 -1.352609  ...  0.091830 -0.308796  1.105025    2.0\n",
              "9  0.707909 -1.257222  0.634401 -0.781647  ... -0.173085  1.011107 -0.203944    0.0\n",
              "\n",
              "[10 rows x 11 columns]"
            ]
          },
          "metadata": {
            "tags": []
          },
          "execution_count": 184
        }
      ]
    },
    {
      "cell_type": "markdown",
      "metadata": {
        "id": "Wyiqm0d5ySla"
      },
      "source": [
        "we use K-Fold for cross validation. we only do 4 fold considering how small the data set is"
      ]
    },
    {
      "cell_type": "code",
      "metadata": {
        "id": "iUCIgwF5dJvV",
        "colab": {
          "base_uri": "https://localhost:8080/"
        },
        "outputId": "28dfb1ed-554e-4285-9dbb-862783610313"
      },
      "source": [
        "nb_fold = 4\n",
        "sz_fold = int(np.shape(data3)[0] / nb_fold)\n",
        "\n",
        "print(\"Number of testing data : \", sz_fold)\n",
        "print(\"Number of train data : \", sz_fold*(nb_fold-1))\n",
        "print(\"Total : \", sz_fold*nb_fold )\n",
        "print(\"Residu : \", data.shape[0] - sz_fold*nb_fold )\n",
        "\n",
        "split_data = []\n",
        "dummy_data = data3\n",
        "#print(np.shape(dummy_data)[0])\n",
        "\n",
        "for k in range (nb_fold):\n",
        "    fold = []\n",
        "    split_data.append(data3.loc[(k*sz_fold):((k+1)*sz_fold),:])"
      ],
      "execution_count": null,
      "outputs": [
        {
          "output_type": "stream",
          "text": [
            "Number of testing data :  150\n",
            "Number of train data :  450\n",
            "Total :  600\n",
            "Residu :  0\n"
          ],
          "name": "stdout"
        }
      ]
    },
    {
      "cell_type": "code",
      "metadata": {
        "id": "Z6ZS2TNRdJvX"
      },
      "source": [
        "from sklearn.preprocessing import OneHotEncoder\n",
        "\n",
        "def get_fold(data, k=0):\n",
        "    data_dummy = list(data)\n",
        "    test = data_dummy.pop(k)\n",
        "    #print(test)\n",
        "    train = pd.concat(data_dummy)\n",
        "    #print(train)\n",
        "    \n",
        "    X_train = train.loc[:,[0,1,2,3,4,5,6,7,8,9]]\n",
        "    X_test = test.loc[:,[0,1,2,3,4,5,6,7,8,9]]\n",
        "    \n",
        "    enc = OneHotEncoder()\n",
        "    Y_test = enc.fit_transform(test[[\"Class\"]]).toarray()\n",
        "    Y_train = enc.fit_transform(train[[\"Class\"]]).toarray()\n",
        "\n",
        "    return X_train, X_test, Y_train, Y_test"
      ],
      "execution_count": null,
      "outputs": []
    },
    {
      "cell_type": "code",
      "metadata": {
        "id": "hOfLueqq1jzn",
        "colab": {
          "base_uri": "https://localhost:8080/"
        },
        "outputId": "11614379-fe88-4eef-85bc-c49797159a06"
      },
      "source": [
        "uhu = list(data)\n",
        "testi = uhu.pop(0)\n",
        "print(testi)"
      ],
      "execution_count": null,
      "outputs": [
        {
          "output_type": "stream",
          "text": [
            "kn\n"
          ],
          "name": "stdout"
        }
      ]
    },
    {
      "cell_type": "code",
      "metadata": {
        "id": "cL0uC55Sqm6t"
      },
      "source": [
        "#Y_train"
      ],
      "execution_count": null,
      "outputs": []
    },
    {
      "cell_type": "markdown",
      "metadata": {
        "id": "nFcC4bUVyozA"
      },
      "source": [
        "On creating the model here we use Stochastic Gradient Descent with variation in activation function"
      ]
    },
    {
      "cell_type": "code",
      "metadata": {
        "id": "cdgl0cTWdJva"
      },
      "source": [
        "def build_model(X_size, Y_size,layer = 1, nodes = 1 ):\n",
        "    opt = SGD(lr=0.001)\n",
        "    model = Sequential()\n",
        "    model.add(Dense(nodes, input_dim = X_size, activation = 'sigmoid', use_bias=True))\n",
        "    model.add(Dropout(0.2))\n",
        "    if layer != 1:\n",
        "      for i in range (layer-1):\n",
        "        model.add(Dense(nodes, activation = 'sigmoid', use_bias=True))\n",
        "        model.add(Dropout(0.2))   \n",
        "    model.add(Dense(Y_size, activation = 'softmax'))\n",
        "    \n",
        "    # compile model\n",
        "    model.compile(opt, loss = 'categorical_crossentropy', metrics = ['accuracy'])\n",
        "    \n",
        "    return model"
      ],
      "execution_count": null,
      "outputs": []
    },
    {
      "cell_type": "code",
      "metadata": {
        "id": "ERiQAnVPrl8v"
      },
      "source": [
        "#for k in range (nb_fold):\n",
        "#    X_train, X_test, Y_train, Y_test = get_fold(split_data, k)\n",
        "#    print(Y_test)"
      ],
      "execution_count": null,
      "outputs": []
    },
    {
      "cell_type": "code",
      "metadata": {
        "id": "AxHKgP4edJvf",
        "colab": {
          "base_uri": "https://localhost:8080/"
        },
        "outputId": "383161bf-0647-4bc6-d73e-09debaec5483"
      },
      "source": [
        "model.summary()"
      ],
      "execution_count": null,
      "outputs": [
        {
          "output_type": "stream",
          "text": [
            "Model: \"sequential_193\"\n",
            "_________________________________________________________________\n",
            "Layer (type)                 Output Shape              Param #   \n",
            "=================================================================\n",
            "dense_573 (Dense)            (None, 50)                550       \n",
            "_________________________________________________________________\n",
            "dropout_380 (Dropout)        (None, 50)                0         \n",
            "_________________________________________________________________\n",
            "dense_574 (Dense)            (None, 50)                2550      \n",
            "_________________________________________________________________\n",
            "dropout_381 (Dropout)        (None, 50)                0         \n",
            "_________________________________________________________________\n",
            "dense_575 (Dense)            (None, 3)                 153       \n",
            "=================================================================\n",
            "Total params: 3,253\n",
            "Trainable params: 3,253\n",
            "Non-trainable params: 0\n",
            "_________________________________________________________________\n"
          ],
          "name": "stdout"
        }
      ]
    },
    {
      "cell_type": "code",
      "metadata": {
        "id": "zrHs2eN6f9r3"
      },
      "source": [
        "import warnings\n",
        "warnings.simplefilter(action='ignore', category=FutureWarning)\n",
        "\n",
        "from keras.callbacks import TensorBoard\n",
        "cb = TensorBoard()\n",
        "\n",
        "\n",
        "def try_model (layer=1, nodes=50):  \n",
        "  list_acc = []\n",
        "\n",
        "  for k in range (nb_fold):\n",
        "      X_train, X_test, Y_train, Y_test = get_fold(split_data, k)\n",
        "\n",
        "      X_size = np.shape(X_train)[1]\n",
        "      Y_size = np.shape(Y_train)[1]\n",
        "\n",
        "      model = build_model(X_size, Y_size, layer=layer,nodes=nodes)\n",
        "\n",
        "      model.fit(X_train, Y_train,\n",
        "                              batch_size = 5,\n",
        "                              epochs = 100,\n",
        "                              verbose = 0,\n",
        "                              validation_data = (X_test, Y_test), callbacks = [cb])\n",
        "      score = model.evaluate(X_test, Y_test, verbose = 0)\n",
        "\n",
        "      print('Test los [fold : %.2f%%] = ' % (score[0]*100))\n",
        "      print('Test acc (fold-%.f) : %.2f%%' % (k, score[1]*100))\n",
        "\n",
        "      list_acc.append(score[1])\n",
        "\n",
        "  print(\"mean acc of %.f layer %.f nodes = %.2f%% (+/- %.2f%%)\" % (layer, nodes, np.mean(list_acc), np.std(list_acc)))"
      ],
      "execution_count": null,
      "outputs": []
    },
    {
      "cell_type": "markdown",
      "metadata": {
        "id": "NXY8t9mkKBht"
      },
      "source": [
        "In here we look at each fold accuracy. we can see how the accuracy different depend on how much layer and how many nodes we use. From here we pick the best number of layer and nodes for the model"
      ]
    },
    {
      "cell_type": "code",
      "metadata": {
        "id": "yrOpUE9UjCt1",
        "colab": {
          "base_uri": "https://localhost:8080/"
        },
        "outputId": "79c8dd38-4c5f-4689-ff3f-25f8daf18e47"
      },
      "source": [
        "%%time\n",
        "for layer in (1,2):\n",
        "  for nodes in (1,3,5,10,20,50):\n",
        "    try_model(layer=layer,nodes=nodes)"
      ],
      "execution_count": null,
      "outputs": [
        {
          "output_type": "stream",
          "text": [
            "Test los [fold : 111.12%] = \n",
            "Test acc (fold-0) : 35.53%\n",
            "Test los [fold : 105.92%] = \n",
            "Test acc (fold-1) : 32.89%\n",
            "Test los [fold : 108.28%] = \n",
            "Test acc (fold-2) : 39.47%\n",
            "Test los [fold : 104.16%] = \n",
            "Test acc (fold-3) : 46.67%\n",
            "mean acc of 1 layer 1 nodes = 0.39% (+/- 0.05%)\n",
            "Test los [fold : 111.25%] = \n",
            "Test acc (fold-0) : 35.53%\n",
            "Test los [fold : 112.06%] = \n",
            "Test acc (fold-1) : 34.21%\n",
            "Test los [fold : 104.30%] = \n",
            "Test acc (fold-2) : 51.32%\n",
            "Test los [fold : 100.49%] = \n",
            "Test acc (fold-3) : 40.00%\n",
            "mean acc of 1 layer 3 nodes = 0.40% (+/- 0.07%)\n",
            "Test los [fold : 116.99%] = \n",
            "Test acc (fold-0) : 26.32%\n",
            "Test los [fold : 103.34%] = \n",
            "Test acc (fold-1) : 53.95%\n",
            "Test los [fold : 100.77%] = \n",
            "Test acc (fold-2) : 59.21%\n",
            "Test los [fold : 106.18%] = \n",
            "Test acc (fold-3) : 52.00%\n",
            "mean acc of 1 layer 5 nodes = 0.48% (+/- 0.13%)\n",
            "Test los [fold : 118.57%] = \n",
            "Test acc (fold-0) : 38.16%\n",
            "Test los [fold : 94.65%] = \n",
            "Test acc (fold-1) : 67.11%\n",
            "Test los [fold : 105.58%] = \n",
            "Test acc (fold-2) : 55.26%\n",
            "Test los [fold : 106.07%] = \n",
            "Test acc (fold-3) : 40.00%\n",
            "mean acc of 1 layer 10 nodes = 0.50% (+/- 0.12%)\n",
            "Test los [fold : 119.37%] = \n",
            "Test acc (fold-0) : 32.89%\n",
            "Test los [fold : 91.21%] = \n",
            "Test acc (fold-1) : 52.63%\n",
            "Test los [fold : 97.98%] = \n",
            "Test acc (fold-2) : 64.47%\n",
            "Test los [fold : 95.58%] = \n",
            "Test acc (fold-3) : 57.33%\n",
            "mean acc of 1 layer 20 nodes = 0.52% (+/- 0.12%)\n",
            "Test los [fold : 124.99%] = \n",
            "Test acc (fold-0) : 43.42%\n",
            "Test los [fold : 93.78%] = \n",
            "Test acc (fold-1) : 61.84%\n",
            "Test los [fold : 96.65%] = \n",
            "Test acc (fold-2) : 53.95%\n",
            "Test los [fold : 94.74%] = \n",
            "Test acc (fold-3) : 56.00%\n",
            "mean acc of 1 layer 50 nodes = 0.54% (+/- 0.07%)\n",
            "Test los [fold : 110.42%] = \n",
            "Test acc (fold-0) : 30.26%\n",
            "Test los [fold : 109.00%] = \n",
            "Test acc (fold-1) : 53.95%\n",
            "Test los [fold : 109.57%] = \n",
            "Test acc (fold-2) : 39.47%\n",
            "Test los [fold : 110.11%] = \n",
            "Test acc (fold-3) : 18.67%\n",
            "mean acc of 2 layer 1 nodes = 0.36% (+/- 0.13%)\n",
            "Test los [fold : 109.62%] = \n",
            "Test acc (fold-0) : 23.68%\n",
            "Test los [fold : 109.62%] = \n",
            "Test acc (fold-1) : 32.89%\n",
            "Test los [fold : 107.58%] = \n",
            "Test acc (fold-2) : 52.63%\n",
            "Test los [fold : 109.32%] = \n",
            "Test acc (fold-3) : 48.00%\n",
            "mean acc of 2 layer 3 nodes = 0.39% (+/- 0.12%)\n",
            "Test los [fold : 109.56%] = \n",
            "Test acc (fold-0) : 43.42%\n",
            "Test los [fold : 108.28%] = \n",
            "Test acc (fold-1) : 40.79%\n",
            "Test los [fold : 108.33%] = \n",
            "Test acc (fold-2) : 47.37%\n",
            "Test los [fold : 108.19%] = \n",
            "Test acc (fold-3) : 38.67%\n",
            "mean acc of 2 layer 5 nodes = 0.43% (+/- 0.03%)\n",
            "Test los [fold : 109.45%] = \n",
            "Test acc (fold-0) : 38.16%\n",
            "Test los [fold : 107.66%] = \n",
            "Test acc (fold-1) : 53.95%\n",
            "Test los [fold : 108.30%] = \n",
            "Test acc (fold-2) : 47.37%\n",
            "Test los [fold : 110.25%] = \n",
            "Test acc (fold-3) : 36.00%\n",
            "mean acc of 2 layer 10 nodes = 0.44% (+/- 0.07%)\n",
            "Test los [fold : 109.63%] = \n",
            "Test acc (fold-0) : 34.21%\n",
            "Test los [fold : 107.98%] = \n",
            "Test acc (fold-1) : 46.05%\n",
            "Test los [fold : 108.12%] = \n",
            "Test acc (fold-2) : 40.79%\n",
            "Test los [fold : 107.28%] = \n",
            "Test acc (fold-3) : 53.33%\n",
            "mean acc of 2 layer 20 nodes = 0.44% (+/- 0.07%)\n",
            "Test los [fold : 109.71%] = \n",
            "Test acc (fold-0) : 39.47%\n",
            "Test los [fold : 107.51%] = \n",
            "Test acc (fold-1) : 61.84%\n",
            "Test los [fold : 107.64%] = \n",
            "Test acc (fold-2) : 56.58%\n",
            "Test los [fold : 106.77%] = \n",
            "Test acc (fold-3) : 64.00%\n",
            "mean acc of 2 layer 50 nodes = 0.55% (+/- 0.10%)\n",
            "CPU times: user 11min 12s, sys: 28.8 s, total: 11min 41s\n",
            "Wall time: 10min 35s\n"
          ],
          "name": "stdout"
        }
      ]
    },
    {
      "cell_type": "code",
      "metadata": {
        "colab": {
          "base_uri": "https://localhost:8080/"
        },
        "id": "X-x2W7BJLkPF",
        "outputId": "950a6fcf-a45e-4f6f-f70d-8aeb66369625"
      },
      "source": [
        "%%time\r\n",
        "for layer in (3,4):\r\n",
        "  for nodes in (1,3,5,10,20,50):\r\n",
        "    try_model(layer=layer,nodes=nodes)"
      ],
      "execution_count": null,
      "outputs": [
        {
          "output_type": "stream",
          "text": [
            "Test los [fold : 109.88%] = \n",
            "Test acc (fold-0) : 34.21%\n",
            "Test los [fold : 109.86%] = \n",
            "Test acc (fold-1) : 34.21%\n",
            "Test los [fold : 109.84%] = \n",
            "Test acc (fold-2) : 34.21%\n",
            "Test los [fold : 109.94%] = \n",
            "Test acc (fold-3) : 33.33%\n",
            "mean acc of 3 layer 1 nodes = 0.34% (+/- 0.00%)\n",
            "Test los [fold : 109.90%] = \n",
            "Test acc (fold-0) : 40.79%\n",
            "Test los [fold : 110.01%] = \n",
            "Test acc (fold-1) : 15.79%\n",
            "Test los [fold : 109.73%] = \n",
            "Test acc (fold-2) : 43.42%\n",
            "Test los [fold : 109.88%] = \n",
            "Test acc (fold-3) : 33.33%\n",
            "mean acc of 3 layer 3 nodes = 0.33% (+/- 0.11%)\n",
            "Test los [fold : 109.87%] = \n",
            "Test acc (fold-0) : 31.58%\n",
            "Test los [fold : 109.66%] = \n",
            "Test acc (fold-1) : 34.21%\n",
            "Test los [fold : 109.49%] = \n",
            "Test acc (fold-2) : 34.21%\n",
            "Test los [fold : 109.88%] = \n",
            "Test acc (fold-3) : 33.33%\n",
            "mean acc of 3 layer 5 nodes = 0.33% (+/- 0.01%)\n",
            "Test los [fold : 110.12%] = \n",
            "Test acc (fold-0) : 26.32%\n",
            "Test los [fold : 109.24%] = \n",
            "Test acc (fold-1) : 38.16%\n",
            "Test los [fold : 109.74%] = \n",
            "Test acc (fold-2) : 34.21%\n",
            "Test los [fold : 109.51%] = \n",
            "Test acc (fold-3) : 33.33%\n",
            "mean acc of 3 layer 10 nodes = 0.33% (+/- 0.04%)\n",
            "Test los [fold : 109.81%] = \n",
            "Test acc (fold-0) : 36.84%\n",
            "Test los [fold : 109.10%] = \n",
            "Test acc (fold-1) : 50.00%\n",
            "Test los [fold : 109.66%] = \n",
            "Test acc (fold-2) : 36.84%\n",
            "Test los [fold : 109.49%] = \n",
            "Test acc (fold-3) : 33.33%\n",
            "mean acc of 3 layer 20 nodes = 0.39% (+/- 0.06%)\n",
            "Test los [fold : 109.88%] = \n",
            "Test acc (fold-0) : 34.21%\n",
            "Test los [fold : 109.77%] = \n",
            "Test acc (fold-1) : 34.21%\n",
            "Test los [fold : 109.87%] = \n",
            "Test acc (fold-2) : 34.21%\n",
            "Test los [fold : 109.61%] = \n",
            "Test acc (fold-3) : 33.33%\n",
            "mean acc of 3 layer 50 nodes = 0.34% (+/- 0.00%)\n",
            "Test los [fold : 109.85%] = \n",
            "Test acc (fold-0) : 34.21%\n",
            "Test los [fold : 109.86%] = \n",
            "Test acc (fold-1) : 34.21%\n",
            "Test los [fold : 109.90%] = \n",
            "Test acc (fold-2) : 32.89%\n",
            "Test los [fold : 109.91%] = \n",
            "Test acc (fold-3) : 33.33%\n",
            "mean acc of 4 layer 1 nodes = 0.34% (+/- 0.01%)\n",
            "Test los [fold : 109.86%] = \n",
            "Test acc (fold-0) : 34.21%\n",
            "Test los [fold : 109.71%] = \n",
            "Test acc (fold-1) : 34.21%\n",
            "Test los [fold : 109.89%] = \n",
            "Test acc (fold-2) : 32.89%\n",
            "Test los [fold : 109.85%] = \n",
            "Test acc (fold-3) : 33.33%\n",
            "mean acc of 4 layer 3 nodes = 0.34% (+/- 0.01%)\n",
            "Test los [fold : 109.86%] = \n",
            "Test acc (fold-0) : 34.21%\n",
            "Test los [fold : 109.69%] = \n",
            "Test acc (fold-1) : 34.21%\n",
            "Test los [fold : 109.74%] = \n",
            "Test acc (fold-2) : 34.21%\n",
            "Test los [fold : 109.99%] = \n",
            "Test acc (fold-3) : 33.33%\n",
            "mean acc of 4 layer 5 nodes = 0.34% (+/- 0.00%)\n",
            "Test los [fold : 109.75%] = \n",
            "Test acc (fold-0) : 34.21%\n",
            "Test los [fold : 109.90%] = \n",
            "Test acc (fold-1) : 34.21%\n",
            "Test los [fold : 109.90%] = \n",
            "Test acc (fold-2) : 34.21%\n",
            "Test los [fold : 109.84%] = \n",
            "Test acc (fold-3) : 33.33%\n",
            "mean acc of 4 layer 10 nodes = 0.34% (+/- 0.00%)\n",
            "Test los [fold : 109.92%] = \n",
            "Test acc (fold-0) : 34.21%\n",
            "Test los [fold : 109.91%] = \n",
            "Test acc (fold-1) : 34.21%\n",
            "Test los [fold : 109.80%] = \n",
            "Test acc (fold-2) : 34.21%\n",
            "Test los [fold : 109.93%] = \n",
            "Test acc (fold-3) : 33.33%\n",
            "mean acc of 4 layer 20 nodes = 0.34% (+/- 0.00%)\n",
            "Test los [fold : 109.78%] = \n",
            "Test acc (fold-0) : 34.21%\n",
            "Test los [fold : 109.85%] = \n",
            "Test acc (fold-1) : 34.21%\n",
            "Test los [fold : 109.79%] = \n",
            "Test acc (fold-2) : 34.21%\n",
            "Test los [fold : 109.90%] = \n",
            "Test acc (fold-3) : 33.33%\n",
            "mean acc of 4 layer 50 nodes = 0.34% (+/- 0.00%)\n",
            "CPU times: user 11min 43s, sys: 27.3 s, total: 12min 10s\n",
            "Wall time: 10min 48s\n"
          ],
          "name": "stdout"
        }
      ]
    },
    {
      "cell_type": "markdown",
      "metadata": {
        "id": "nAoSNx418gBW"
      },
      "source": [
        "After selecting the highest accuracy based on the number of nodes and layer we now add the number of data to get a better result"
      ]
    },
    {
      "cell_type": "code",
      "metadata": {
        "id": "sq2lbYJxjYtd",
        "colab": {
          "base_uri": "https://localhost:8080/",
          "height": 422
        },
        "outputId": "93769459-c029-4ac7-ca63-8bf255d6b3ad"
      },
      "source": [
        "from keras.callbacks import TensorBoard\n",
        "\n",
        "cb = TensorBoard()\n",
        "\n",
        "layer = 1\n",
        "nodes = 50\n",
        "\n",
        "X_train, X_test, Y_train, Y_test = get_fold(split_data, 1)\n",
        "\n",
        "X_size = np.shape(X_train)[1]\n",
        "Y_size = np.shape(Y_train)[1]\n",
        "\n",
        "model = build_model(X_size, Y_size, layer=layer,nodes=nodes)\n",
        "\n",
        "history_callback = model.fit(X_train, Y_train,\n",
        "                          batch_size = 5,\n",
        "                          epochs = 100,\n",
        "                          verbose = 0,\n",
        "                          validation_data = (X_test, Y_test), callbacks = [cb])\n",
        "score = model.evaluate(X_test, Y_test, verbose = 0)\n",
        "\n",
        "import matplotlib.pyplot as plt\n",
        "% matplotlib inline\n",
        "\n",
        "fig, (ax1,ax2) = plt.subplots(2, figsize = (8,6))\n",
        "\n",
        "acc = history_callback.history['accuracy']\n",
        "loss = history_callback.history['loss']\n",
        "val_acc = history_callback.history['val_accuracy']\n",
        "val_loss = history_callback.history['val_loss']\n",
        "ax1.plot(acc, label='train')\n",
        "ax1.plot(val_acc, label='test')\n",
        "ax2.plot(loss, label='train')\n",
        "ax2.plot(val_loss, label='test')\n",
        "ax1.set_ylabel('accuracy')\n",
        "ax2.set_ylabel('loss')\n",
        "ax2.set_xlabel('epochs')\n",
        "\n",
        "ax1.legend()\n",
        "ax2.legend()\n",
        "plt.show()\n",
        "\n",
        "print('Test loss:', score[0])\n",
        "print('Test accuracy:', score[1])"
      ],
      "execution_count": null,
      "outputs": [
        {
          "output_type": "display_data",
          "data": {
            "image/png": "[encoded data removed]",
            "text/plain": [
              "<Figure size 576x432 with 2 Axes>"
            ]
          },
          "metadata": {
            "tags": [],
            "needs_background": "light"
          }
        },
        {
          "output_type": "stream",
          "text": [
            "Test loss: 0.7558841109275818\n",
            "Test accuracy: 0.6423841118812561\n"
          ],
          "name": "stdout"
        }
      ]
    },
    {
      "cell_type": "code",
      "metadata": {
        "id": "D5k8YHhvxj99",
        "colab": {
          "base_uri": "https://localhost:8080/"
        },
        "outputId": "a4f6d543-8a3f-4b72-b6db-50acbd5c3575"
      },
      "source": [
        "pred_test = np.argmax(model.predict(X_test),axis=1)\n",
        "act_test = np.argmax(Y_test, axis=1)\n",
        "\n",
        "n = 0\n",
        "\n",
        "    \n",
        "def backtoclass(value):\n",
        "    if value == 0:\n",
        "        return 'A'\n",
        "    elif value == 1:\n",
        "        return 'B'\n",
        "    elif value == 2:\n",
        "        return 'C'\n",
        "\n",
        "\n",
        "print('Pred \\t Actual \\t Conclusion')\n",
        "for i in range (pred_test.shape[0]):\n",
        "    print(backtoclass(pred_test[i]),\n",
        "          \"\\t\", \n",
        "          backtoclass(act_test[i]),\n",
        "          \"\\t\\t\",\n",
        "          'True' if pred_test[i] == act_test[i] else 'False')\n",
        "    if pred_test[i] == act_test[i]: n=n+1\n",
        "    \n",
        "print('\\n Right Prediction = ', n, ', dari From Total = ', pred_test.shape[0])\n"
      ],
      "execution_count": null,
      "outputs": [
        {
          "output_type": "stream",
          "text": [
            "Pred \t Actual \t Conclusion\n",
            "A \t A \t\t True\n",
            "A \t B \t\t False\n",
            "C \t C \t\t True\n",
            "A \t A \t\t True\n",
            "A \t B \t\t False\n",
            "C \t C \t\t True\n",
            "A \t A \t\t True\n",
            "A \t B \t\t False\n",
            "C \t C \t\t True\n",
            "B \t A \t\t False\n",
            "A \t B \t\t False\n",
            "C \t C \t\t True\n",
            "B \t A \t\t False\n",
            "C \t B \t\t False\n",
            "C \t C \t\t True\n",
            "A \t A \t\t True\n",
            "C \t B \t\t False\n",
            "C \t C \t\t True\n",
            "A \t A \t\t True\n",
            "B \t B \t\t True\n",
            "C \t C \t\t True\n",
            "A \t A \t\t True\n",
            "B \t B \t\t True\n",
            "C \t C \t\t True\n",
            "B \t A \t\t False\n",
            "B \t B \t\t True\n",
            "C \t C \t\t True\n",
            "A \t A \t\t True\n",
            "B \t B \t\t True\n",
            "C \t C \t\t True\n",
            "A \t A \t\t True\n",
            "A \t B \t\t False\n",
            "C \t C \t\t True\n",
            "A \t A \t\t True\n",
            "B \t B \t\t True\n",
            "C \t C \t\t True\n",
            "A \t A \t\t True\n",
            "A \t B \t\t False\n",
            "C \t C \t\t True\n",
            "A \t A \t\t True\n",
            "A \t B \t\t False\n",
            "C \t C \t\t True\n",
            "A \t A \t\t True\n",
            "B \t B \t\t True\n",
            "C \t C \t\t True\n",
            "B \t A \t\t False\n",
            "B \t B \t\t True\n",
            "C \t C \t\t True\n",
            "B \t A \t\t False\n",
            "B \t B \t\t True\n",
            "C \t C \t\t True\n",
            "A \t A \t\t True\n",
            "B \t B \t\t True\n",
            "C \t C \t\t True\n",
            "B \t A \t\t False\n",
            "A \t B \t\t False\n",
            "C \t C \t\t True\n",
            "B \t A \t\t False\n",
            "A \t B \t\t False\n",
            "C \t C \t\t True\n",
            "A \t A \t\t True\n",
            "A \t B \t\t False\n",
            "C \t C \t\t True\n",
            "B \t A \t\t False\n",
            "A \t B \t\t False\n",
            "C \t C \t\t True\n",
            "B \t A \t\t False\n",
            "A \t B \t\t False\n",
            "C \t C \t\t True\n",
            "B \t A \t\t False\n",
            "A \t B \t\t False\n",
            "C \t C \t\t True\n",
            "A \t A \t\t True\n",
            "B \t B \t\t True\n",
            "C \t C \t\t True\n",
            "A \t A \t\t True\n",
            "A \t B \t\t False\n",
            "C \t C \t\t True\n",
            "A \t A \t\t True\n",
            "A \t B \t\t False\n",
            "C \t C \t\t True\n",
            "A \t A \t\t True\n",
            "A \t B \t\t False\n",
            "C \t C \t\t True\n",
            "A \t A \t\t True\n",
            "B \t B \t\t True\n",
            "C \t C \t\t True\n",
            "B \t A \t\t False\n",
            "A \t B \t\t False\n",
            "C \t C \t\t True\n",
            "A \t A \t\t True\n",
            "A \t B \t\t False\n",
            "C \t C \t\t True\n",
            "A \t A \t\t True\n",
            "A \t B \t\t False\n",
            "C \t C \t\t True\n",
            "A \t A \t\t True\n",
            "B \t B \t\t True\n",
            "C \t C \t\t True\n",
            "A \t A \t\t True\n",
            "A \t B \t\t False\n",
            "C \t C \t\t True\n",
            "A \t A \t\t True\n",
            "B \t B \t\t True\n",
            "C \t C \t\t True\n",
            "A \t A \t\t True\n",
            "B \t B \t\t True\n",
            "C \t C \t\t True\n",
            "A \t A \t\t True\n",
            "B \t B \t\t True\n",
            "C \t C \t\t True\n",
            "A \t A \t\t True\n",
            "B \t B \t\t True\n",
            "C \t C \t\t True\n",
            "A \t A \t\t True\n",
            "B \t B \t\t True\n",
            "C \t C \t\t True\n",
            "A \t A \t\t True\n",
            "B \t B \t\t True\n",
            "C \t C \t\t True\n",
            "A \t A \t\t True\n",
            "B \t B \t\t True\n",
            "C \t C \t\t True\n",
            "A \t A \t\t True\n",
            "A \t B \t\t False\n",
            "C \t C \t\t True\n",
            "A \t A \t\t True\n",
            "A \t B \t\t False\n",
            "C \t C \t\t True\n",
            "A \t A \t\t True\n",
            "A \t B \t\t False\n",
            "C \t C \t\t True\n",
            "A \t A \t\t True\n",
            "A \t B \t\t False\n",
            "C \t C \t\t True\n",
            "A \t A \t\t True\n",
            "B \t B \t\t True\n",
            "C \t C \t\t True\n",
            "A \t A \t\t True\n",
            "B \t B \t\t True\n",
            "C \t C \t\t True\n",
            "A \t A \t\t True\n",
            "A \t B \t\t False\n",
            "C \t C \t\t True\n",
            "A \t A \t\t True\n",
            "A \t B \t\t False\n",
            "C \t C \t\t True\n",
            "A \t A \t\t True\n",
            "C \t B \t\t False\n",
            "C \t C \t\t True\n",
            "A \t A \t\t True\n",
            "\n",
            " Right Prediction =  111 , dari From Total =  151\n"
          ],
          "name": "stdout"
        }
      ]
    },
    {
      "cell_type": "markdown",
      "metadata": {
        "id": "XOa5SaGIEj4C"
      },
      "source": [
        "Looking the result if we dont add Drop Out Nodes"
      ]
    },
    {
      "cell_type": "code",
      "metadata": {
        "id": "9hM-hNfXjmmr",
        "colab": {
          "base_uri": "https://localhost:8080/",
          "height": 422
        },
        "outputId": "6afa2bee-af95-4d06-8334-a92eaa8416c1"
      },
      "source": [
        "def build_model_noDO(layer = 1, nodes = 1 ):\n",
        "    opt = Adam(lr=0.001)\n",
        "    model = Sequential()\n",
        "    model.add(Dense(nodes, input_dim = X_size, activation = 'relu', use_bias=True))\n",
        "    model.add(Dropout(0.2))\n",
        "    for i in range (layer-1):\n",
        "        model.add(Dense(nodes, activation = 'relu', use_bias=True))\n",
        "        model.add(Dropout(0.2))   \n",
        "    model.add(Dense(Y_size, activation = 'softmax'))\n",
        "    \n",
        "    # compile model\n",
        "    model.compile(opt, loss = 'categorical_crossentropy', metrics = ['accuracy'])\n",
        "    \n",
        "    return model\n",
        "\n",
        "\n",
        "from keras.callbacks import TensorBoard\n",
        "\n",
        "cb = TensorBoard()\n",
        "\n",
        "layer = 2\n",
        "nodes = 50\n",
        "\n",
        "X_train, X_test, Y_train, Y_test = get_fold(split_data, 2)\n",
        "\n",
        "X_size = np.shape(X_train)[1]\n",
        "Y_size = np.shape(Y_train)[1]\n",
        "\n",
        "model = build_model_noDO(layer=2,nodes=5)\n",
        "\n",
        "history_callback = model.fit(X_train, Y_train,\n",
        "                          batch_size = 5,\n",
        "                          epochs = 100,\n",
        "                          verbose = 0,\n",
        "                          validation_data = (X_test, Y_test), callbacks = [cb])\n",
        "score = model.evaluate(X_test, Y_test, verbose = 0)\n",
        "\n",
        "import matplotlib.pyplot as plt\n",
        "% matplotlib inline\n",
        "\n",
        "fig, (ax1,ax2) = plt.subplots(2, figsize = (8,6))\n",
        "\n",
        "acc = history_callback.history['accuracy']\n",
        "loss = history_callback.history['loss']\n",
        "val_acc = history_callback.history['val_accuracy']\n",
        "val_loss = history_callback.history['val_loss']\n",
        "ax1.plot(acc, label='test')\n",
        "ax1.plot(val_acc, label='train')\n",
        "ax2.plot(loss, label='test')\n",
        "ax2.plot(val_loss, label='train')\n",
        "ax1.set_ylabel('accuracy')\n",
        "ax2.set_ylabel('loss')\n",
        "ax2.set_xlabel('epochs')\n",
        "\n",
        "ax1.legend()\n",
        "ax2.legend()\n",
        "plt.show()\n",
        "\n",
        "print('Test loss:', score[0])\n",
        "print('Test accuracy:', score[1])"
      ],
      "execution_count": null,
      "outputs": [
        {
          "output_type": "display_data",
          "data": {
            "image/png": "[encoded data removed]",
            "text/plain": [
              "<Figure size 576x432 with 2 Axes>"
            ]
          },
          "metadata": {
            "tags": [],
            "needs_background": "light"
          }
        },
        {
          "output_type": "stream",
          "text": [
            "Test loss: 0.531082272529602\n",
            "Test accuracy: 0.7947019934654236\n"
          ],
          "name": "stdout"
        }
      ]
    },
    {
      "cell_type": "code",
      "metadata": {
        "id": "_UogZUPxPNKF"
      },
      "source": [
        "#for i in range (np.shape(acc)[0]):\n",
        "#  print(loss[i], val_loss[i])"
      ],
      "execution_count": null,
      "outputs": []
    },
    {
      "cell_type": "markdown",
      "metadata": {
        "id": "CR2v4uM1FTB-"
      },
      "source": [
        "From the result above we could see that the accuracy of the model is still low, this is because the number of dataset is not sufficient enough to create a good model. But even though it's low, it is still above 30% (the data is classified into A, B and C). By adding more data points the model could perform better"
      ]
    },
    {
      "cell_type": "code",
      "metadata": {
        "id": "NLHZdr8xFxbN"
      },
      "source": [
        ""
      ],
      "execution_count": null,
      "outputs": []
    }
  ]
}
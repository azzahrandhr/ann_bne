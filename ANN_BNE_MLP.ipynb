{
  "nbformat": 4,
  "nbformat_minor": 0,
  "metadata": {
    "kernelspec": {
      "display_name": "Python 3",
      "language": "python",
      "name": "python3"
    },
    "language_info": {
      "codemirror_mode": {
        "name": "ipython",
        "version": 3
      },
      "file_extension": ".py",
      "mimetype": "text/x-python",
      "name": "python",
      "nbconvert_exporter": "python",
      "pygments_lexer": "ipython3",
      "version": "3.5.6"
    },
    "colab": {
      "name": "ANN_BNE_MLP.ipynb",
      "provenance": [],
      "collapsed_sections": [],
      "include_colab_link": true
    }
  },
  "cells": [
    {
      "cell_type": "markdown",
      "metadata": {
        "id": "view-in-github",
        "colab_type": "text"
      },
      "source": [
        "<a href=\"https://colab.research.google.com/github/azzahrandhr/ann_bne/blob/main/ANN_BNE_MLP.ipynb\" target=\"_parent\"><img src=\"https://colab.research.google.com/assets/colab-badge.svg\" alt=\"Open In Colab\"/></a>"
      ]
    },
    {
      "cell_type": "markdown",
      "metadata": {
        "id": "oi9wWjGcdJvA"
      },
      "source": [
        "## Brazil Nut Effect Analysis with Multilayer Perceptron"
      ]
    },
    {
      "cell_type": "markdown",
      "metadata": {
        "id": "pSPJnEgvUHe_"
      },
      "source": [
        "In this notebook, we are going to build a machine learning model to predict the output of Brazil Nut Effect Phenomena. The aim of this project is classify the output of this phenomena using the feature collected. The output of this dataset is ranging from A to C.  A is when the large ball is on top and C is the large ball does not move from its initial position"
      ]
    },
    {
      "cell_type": "markdown",
      "metadata": {
        "id": "J4AZBUJ5mx5U"
      },
      "source": [
        "Now let's first import the dataset to this notebook"
      ]
    },
    {
      "cell_type": "code",
      "metadata": {
        "id": "a1JEBqiXeDMg"
      },
      "source": [
        "# Code to read csv file into Colaboratory:\n",
        "!pip install -U -q PyDrive\n",
        "from pydrive.auth import GoogleAuth\n",
        "from pydrive.drive import GoogleDrive\n",
        "from google.colab import auth\n",
        "from oauth2client.client import GoogleCredentials\n",
        "\n",
        "# Authenticate and create the PyDrive client.\n",
        "auth.authenticate_user()\n",
        "gauth = GoogleAuth()\n",
        "gauth.credentials = GoogleCredentials.get_application_default()\n",
        "drive = GoogleDrive(gauth)\n"
      ],
      "execution_count": 118,
      "outputs": []
    },
    {
      "cell_type": "code",
      "metadata": {
        "id": "e4opkcAae6j-"
      },
      "source": [
        "link = 'https://drive.google.com/file/d/1hmLig8gwOanVSUg4tpoMpEf2rdLrKs-V/view?usp=sharing'\n",
        "fileDownloaded = drive.CreateFile({'id':'1hmLig8gwOanVSUg4tpoMpEf2rdLrKs-V'})"
      ],
      "execution_count": 119,
      "outputs": []
    },
    {
      "cell_type": "code",
      "metadata": {
        "id": "U6kGQpX5gwSG"
      },
      "source": [
        "fileDownloaded.GetContentFile('20200606_dataexp.csv')"
      ],
      "execution_count": 120,
      "outputs": []
    },
    {
      "cell_type": "code",
      "metadata": {
        "id": "RqIPA-nBfMx2",
        "colab": {
          "base_uri": "https://localhost:8080/",
          "height": 225
        },
        "outputId": "fd62f696-7893-4209-98bf-461ed9090bb2"
      },
      "source": [
        "import pandas as pd\n",
        "import io\n",
        "df3 = pd.read_csv('20200606_dataexp.csv',delimiter=',', index_col='index')\n",
        "df3.head()"
      ],
      "execution_count": 121,
      "outputs": [
        {
          "output_type": "execute_result",
          "data": {
            "text/html": [
              "<div>\n",
              "<style scoped>\n",
              "    .dataframe tbody tr th:only-of-type {\n",
              "        vertical-align: middle;\n",
              "    }\n",
              "\n",
              "    .dataframe tbody tr th {\n",
              "        vertical-align: top;\n",
              "    }\n",
              "\n",
              "    .dataframe thead th {\n",
              "        text-align: right;\n",
              "    }\n",
              "</style>\n",
              "<table border=\"1\" class=\"dataframe\">\n",
              "  <thead>\n",
              "    <tr style=\"text-align: right;\">\n",
              "      <th></th>\n",
              "      <th>Unnamed: 0</th>\n",
              "      <th>kn</th>\n",
              "      <th>gn</th>\n",
              "      <th>n_bed</th>\n",
              "      <th>d_int</th>\n",
              "      <th>d_bed</th>\n",
              "      <th>rho_int</th>\n",
              "      <th>rho_bed</th>\n",
              "      <th>freq</th>\n",
              "      <th>amp</th>\n",
              "      <th>gamma</th>\n",
              "      <th>zint_i</th>\n",
              "      <th>deg_i</th>\n",
              "      <th>E_pot</th>\n",
              "      <th>zint_f</th>\n",
              "      <th>deg_f</th>\n",
              "      <th>E_pot.1</th>\n",
              "      <th>label</th>\n",
              "    </tr>\n",
              "    <tr>\n",
              "      <th>index</th>\n",
              "      <th></th>\n",
              "      <th></th>\n",
              "      <th></th>\n",
              "      <th></th>\n",
              "      <th></th>\n",
              "      <th></th>\n",
              "      <th></th>\n",
              "      <th></th>\n",
              "      <th></th>\n",
              "      <th></th>\n",
              "      <th></th>\n",
              "      <th></th>\n",
              "      <th></th>\n",
              "      <th></th>\n",
              "      <th></th>\n",
              "      <th></th>\n",
              "      <th></th>\n",
              "      <th></th>\n",
              "    </tr>\n",
              "  </thead>\n",
              "  <tbody>\n",
              "    <tr>\n",
              "      <th>0</th>\n",
              "      <td>0</td>\n",
              "      <td>1611</td>\n",
              "      <td>384</td>\n",
              "      <td>156</td>\n",
              "      <td>0.0148</td>\n",
              "      <td>0.0050</td>\n",
              "      <td>877.87</td>\n",
              "      <td>1000.33</td>\n",
              "      <td>18.97</td>\n",
              "      <td>0.006588</td>\n",
              "      <td>9.55</td>\n",
              "      <td>0.1074</td>\n",
              "      <td>147</td>\n",
              "      <td>0.0948</td>\n",
              "      <td>1.1074</td>\n",
              "      <td>166</td>\n",
              "      <td>0.1105</td>\n",
              "      <td>A</td>\n",
              "    </tr>\n",
              "    <tr>\n",
              "      <th>1</th>\n",
              "      <td>1</td>\n",
              "      <td>1611</td>\n",
              "      <td>384</td>\n",
              "      <td>156</td>\n",
              "      <td>0.0148</td>\n",
              "      <td>0.0050</td>\n",
              "      <td>791.04</td>\n",
              "      <td>1000.33</td>\n",
              "      <td>18.97</td>\n",
              "      <td>0.006588</td>\n",
              "      <td>9.55</td>\n",
              "      <td>0.1074</td>\n",
              "      <td>147</td>\n",
              "      <td>0.0948</td>\n",
              "      <td>1.1074</td>\n",
              "      <td>166</td>\n",
              "      <td>0.1105</td>\n",
              "      <td>A</td>\n",
              "    </tr>\n",
              "    <tr>\n",
              "      <th>2</th>\n",
              "      <td>2</td>\n",
              "      <td>1730</td>\n",
              "      <td>311</td>\n",
              "      <td>164</td>\n",
              "      <td>0.0128</td>\n",
              "      <td>0.0049</td>\n",
              "      <td>747.53</td>\n",
              "      <td>1106.81</td>\n",
              "      <td>26.60</td>\n",
              "      <td>0.010000</td>\n",
              "      <td>18.60</td>\n",
              "      <td>0.0946</td>\n",
              "      <td>183</td>\n",
              "      <td>0.0897</td>\n",
              "      <td>1.0659</td>\n",
              "      <td>180</td>\n",
              "      <td>0.1010</td>\n",
              "      <td>A</td>\n",
              "    </tr>\n",
              "    <tr>\n",
              "      <th>3</th>\n",
              "      <td>3</td>\n",
              "      <td>1730</td>\n",
              "      <td>311</td>\n",
              "      <td>164</td>\n",
              "      <td>0.0128</td>\n",
              "      <td>0.0049</td>\n",
              "      <td>791.04</td>\n",
              "      <td>1106.81</td>\n",
              "      <td>26.60</td>\n",
              "      <td>0.010000</td>\n",
              "      <td>18.60</td>\n",
              "      <td>0.0946</td>\n",
              "      <td>183</td>\n",
              "      <td>0.0897</td>\n",
              "      <td>1.0659</td>\n",
              "      <td>180</td>\n",
              "      <td>0.1010</td>\n",
              "      <td>A</td>\n",
              "    </tr>\n",
              "    <tr>\n",
              "      <th>4</th>\n",
              "      <td>4</td>\n",
              "      <td>1396</td>\n",
              "      <td>332</td>\n",
              "      <td>102</td>\n",
              "      <td>0.0123</td>\n",
              "      <td>0.0051</td>\n",
              "      <td>700.26</td>\n",
              "      <td>1104.93</td>\n",
              "      <td>28.55</td>\n",
              "      <td>0.010000</td>\n",
              "      <td>25.33</td>\n",
              "      <td>0.1057</td>\n",
              "      <td>144</td>\n",
              "      <td>0.0668</td>\n",
              "      <td>1.0654</td>\n",
              "      <td>156</td>\n",
              "      <td>0.0470</td>\n",
              "      <td>A</td>\n",
              "    </tr>\n",
              "  </tbody>\n",
              "</table>\n",
              "</div>"
            ],
            "text/plain": [
              "       Unnamed: 0    kn   gn  n_bed  ...  zint_f  deg_f  E_pot.1  label\n",
              "index                                ...                               \n",
              "0               0  1611  384    156  ...  1.1074    166   0.1105      A\n",
              "1               1  1611  384    156  ...  1.1074    166   0.1105      A\n",
              "2               2  1730  311    164  ...  1.0659    180   0.1010      A\n",
              "3               3  1730  311    164  ...  1.0659    180   0.1010      A\n",
              "4               4  1396  332    102  ...  1.0654    156   0.0470      A\n",
              "\n",
              "[5 rows x 18 columns]"
            ]
          },
          "metadata": {
            "tags": []
          },
          "execution_count": 121
        }
      ]
    },
    {
      "cell_type": "markdown",
      "metadata": {
        "id": "m9tJs6X8nMIV"
      },
      "source": [
        "Importing libraries that we will be using he. in this notebook we will predict the classification using keras"
      ]
    },
    {
      "cell_type": "code",
      "metadata": {
        "id": "LYpOVugodJvB"
      },
      "source": [
        "import numpy as np\n",
        "from numpy import loadtxt\n",
        "from keras.models import Sequential\n",
        "from keras.layers import Dense, Dropout\n",
        "from keras.optimizers import Adam, SGD\n",
        "import pandas as pd\n",
        "from sklearn import preprocessing\n",
        "import random"
      ],
      "execution_count": 122,
      "outputs": []
    },
    {
      "cell_type": "markdown",
      "metadata": {
        "id": "EACliEk5niqN"
      },
      "source": [
        "The target variable is classified based on the end position of the large ball (zint_f). if it does not move from the initial position we label it C, if it is on top then we label it A beside that we label it B"
      ]
    },
    {
      "cell_type": "code",
      "metadata": {
        "id": "dsekXhrIdJvF",
        "colab": {
          "base_uri": "https://localhost:8080/"
        },
        "outputId": "491bfd41-60f3-4ef8-b0a4-64d519aa7433"
      },
      "source": [
        "# load dataset\n",
        "data = pd.read_csv('20200606_dataexp.csv')\n",
        "print('Jumlah data : ', data.shape[0])\n",
        "data.head()\n",
        "\n",
        "#Preprocessing :\n",
        "\n",
        "contact_density = [] #kontaktopi\n",
        "Class = []\n",
        "\n",
        "#create a target variable\n",
        "for i in range (data.shape[0]):\n",
        "  if (data.loc[i,'zint_f']<= data.loc[i,'zint_i']*2):\n",
        "        u = 'C'\n",
        "  elif (data.loc[i,'zint_f']>= 1 - (data.loc[i,'zint_i'])*2):\n",
        "        u = 'A'\n",
        "  else:\n",
        "        u = 'B'\n",
        "  Class.append(u)\n",
        "\n",
        "data['Class'] = Class\n",
        "\n",
        "data.drop(data.columns[data.columns.str.contains('Unnamed',case = False)],axis = 1, inplace = True)\n",
        "data.drop(data.columns[data.columns.str.contains('index',case = False)],axis = 1, inplace = True)\n"
      ],
      "execution_count": 123,
      "outputs": [
        {
          "output_type": "stream",
          "text": [
            "Jumlah data :  913\n"
          ],
          "name": "stdout"
        }
      ]
    },
    {
      "cell_type": "markdown",
      "metadata": {
        "id": "eSGm47vL7hT3"
      },
      "source": [
        "First take 100 data first to cut run time"
      ]
    },
    {
      "cell_type": "code",
      "metadata": {
        "id": "2qmYMiZwUAhi"
      },
      "source": [
        "df = data.copy()\r\n",
        "data = data.groupby(by = 'Class').head(100)"
      ],
      "execution_count": 124,
      "outputs": []
    },
    {
      "cell_type": "markdown",
      "metadata": {
        "id": "Ud9PvzmPorEF"
      },
      "source": [
        "This is how the data points is distributed, we could see that B have more value than anything else"
      ]
    },
    {
      "cell_type": "code",
      "metadata": {
        "id": "GFyEnNLxyyn-",
        "colab": {
          "base_uri": "https://localhost:8080/",
          "height": 279
        },
        "outputId": "ce2fa14a-38e0-4113-a62e-6363f98d2b37"
      },
      "source": [
        "data['Class'].value_counts().plot(kind='bar')"
      ],
      "execution_count": 125,
      "outputs": [
        {
          "output_type": "execute_result",
          "data": {
            "text/plain": [
              "<matplotlib.axes._subplots.AxesSubplot at 0x7fcd09a103d0>"
            ]
          },
          "metadata": {
            "tags": []
          },
          "execution_count": 125
        },
        {
          "output_type": "display_data",
          "data": {
            "image/png": "[encoded data removed]",
            "text/plain": [
              "<Figure size 432x288 with 1 Axes>"
            ]
          },
          "metadata": {
            "tags": [],
            "needs_background": "light"
          }
        }
      ]
    },
    {
      "cell_type": "code",
      "metadata": {
        "colab": {
          "base_uri": "https://localhost:8080/"
        },
        "id": "0c40nK29U_RN",
        "outputId": "07d4775c-91a5-44ec-ac8a-8e0d119a02f9"
      },
      "source": [
        "data.shape"
      ],
      "execution_count": 126,
      "outputs": [
        {
          "output_type": "execute_result",
          "data": {
            "text/plain": [
              "(300, 18)"
            ]
          },
          "metadata": {
            "tags": []
          },
          "execution_count": 126
        }
      ]
    },
    {
      "cell_type": "markdown",
      "metadata": {
        "id": "yNPJV6oXwffw"
      },
      "source": [
        "We look at the correlation by looking at the heatmap and pairplot"
      ]
    },
    {
      "cell_type": "code",
      "metadata": {
        "id": "2WP335U3abVV",
        "colab": {
          "base_uri": "https://localhost:8080/",
          "height": 425
        },
        "outputId": "24ffa4bc-fbe1-4b48-fc22-20d3db5d4e8f"
      },
      "source": [
        "from matplotlib import pyplot as plt\n",
        "import seaborn as sns\n",
        "\n",
        "corrmat = data.corr()\n",
        "f, ax = plt.subplots(figsize=(9, 6))\n",
        "sns.heatmap(corrmat, vmax=.8, square=True)"
      ],
      "execution_count": 127,
      "outputs": [
        {
          "output_type": "execute_result",
          "data": {
            "text/plain": [
              "<matplotlib.axes._subplots.AxesSubplot at 0x7fcd09a2f7d0>"
            ]
          },
          "metadata": {
            "tags": []
          },
          "execution_count": 127
        },
        {
          "output_type": "display_data",
          "data": {
            "image/png": "[encoded data removed]",
            "text/plain": [
              "<Figure size 648x432 with 2 Axes>"
            ]
          },
          "metadata": {
            "tags": [],
            "needs_background": "light"
          }
        }
      ]
    },
    {
      "cell_type": "code",
      "metadata": {
        "id": "EsvuM5mWbCZ5"
      },
      "source": [
        "#sns.pairplot(data)"
      ],
      "execution_count": 128,
      "outputs": []
    },
    {
      "cell_type": "markdown",
      "metadata": {
        "id": "CPRLAN6dwyzE"
      },
      "source": [
        "From the data lets take the known initial value as feature for training :\r\n",
        "- kn and gn : is a physics coefficient\r\n",
        "- n_bed : number of grain (small ball)\r\n",
        "- d_int : diameter of the intruder (large ball)\r\n",
        "- d_bed : diameter of the grain \r\n",
        "- rho_int : density of the intruder\r\n",
        "- rho_bed : density of the grain\r\n",
        "- freq : frequency of the shake\r\n",
        "- amp : amplitudo of shake\r\n",
        "- zint_i : intitial position of the intruder"
      ]
    },
    {
      "cell_type": "code",
      "metadata": {
        "id": "TPjQM539dJvL",
        "colab": {
          "base_uri": "https://localhost:8080/"
        },
        "outputId": "ac254793-a9ee-4061-b03d-c0f53d44d96c"
      },
      "source": [
        "X = data[['kn','gn','n_bed','d_int','d_bed','rho_int','rho_bed','freq','amp','zint_i']]\n",
        "\n",
        "scaler = preprocessing.StandardScaler()\n",
        "fit_scale = scaler.fit(X)\n",
        "X_scaled = fit_scale.transform(X)\n",
        "X_size = X_scaled.shape[1]\n",
        "\n",
        "print(\"Banyak fitur : \", X_size)"
      ],
      "execution_count": 129,
      "outputs": [
        {
          "output_type": "stream",
          "text": [
            "Banyak fitur :  10\n"
          ],
          "name": "stdout"
        }
      ]
    },
    {
      "cell_type": "code",
      "metadata": {
        "id": "5jH5DC5odJvN",
        "colab": {
          "base_uri": "https://localhost:8080/"
        },
        "outputId": "e93bbf39-7d87-45b7-8c02-c65328010c95"
      },
      "source": [
        "from sklearn.externals import joblib\n",
        "scaler_filename = \"scaler.save\"\n",
        "joblib.dump(fit_scale, scaler_filename) "
      ],
      "execution_count": 130,
      "outputs": [
        {
          "output_type": "execute_result",
          "data": {
            "text/plain": [
              "['scaler.save']"
            ]
          },
          "metadata": {
            "tags": []
          },
          "execution_count": 130
        }
      ]
    },
    {
      "cell_type": "code",
      "metadata": {
        "scrolled": true,
        "id": "EJS05r7pdJvQ"
      },
      "source": [
        "data2 = pd.DataFrame(X_scaled)\n",
        "\n",
        "from sklearn import preprocessing\n",
        "le = preprocessing.LabelEncoder()\n",
        "le.fit(data[\"Class\"])\n",
        "data2[\"Class\"]=le.transform(data.loc[:,\"Class\"])"
      ],
      "execution_count": 131,
      "outputs": []
    },
    {
      "cell_type": "code",
      "metadata": {
        "id": "WyrSZFKcdJvT",
        "colab": {
          "base_uri": "https://localhost:8080/",
          "height": 343
        },
        "outputId": "65ca2cc5-9b5d-44a5-d9f8-acfa0ec07bfd"
      },
      "source": [
        "order = []\n",
        "for i in np.unique(data2[\"Class\"]):\n",
        "    list_temp = []\n",
        "    for j in range (np.shape(data2)[0]):\n",
        "        if data2.loc[j,\"Class\"] == i:\n",
        "            list_temp.append(data2.loc[j,:])\n",
        "    order.append(list_temp)\n",
        "    \n",
        "neworder = []\n",
        "for k in range (np.shape(data2)[0]):\n",
        "    for i in range (np.shape(order)[0]):\n",
        "        if (np.shape(order[i])[0]) > 0:\n",
        "            neworder.append(order[i].pop(0))\n",
        "            \n",
        "data3 = pd.DataFrame(neworder).reset_index()\n",
        "data3 = data3.drop([\"index\"],axis = 1)\n",
        "data3.head(10)"
      ],
      "execution_count": 132,
      "outputs": [
        {
          "output_type": "execute_result",
          "data": {
            "text/html": [
              "<div>\n",
              "<style scoped>\n",
              "    .dataframe tbody tr th:only-of-type {\n",
              "        vertical-align: middle;\n",
              "    }\n",
              "\n",
              "    .dataframe tbody tr th {\n",
              "        vertical-align: top;\n",
              "    }\n",
              "\n",
              "    .dataframe thead th {\n",
              "        text-align: right;\n",
              "    }\n",
              "</style>\n",
              "<table border=\"1\" class=\"dataframe\">\n",
              "  <thead>\n",
              "    <tr style=\"text-align: right;\">\n",
              "      <th></th>\n",
              "      <th>0</th>\n",
              "      <th>1</th>\n",
              "      <th>2</th>\n",
              "      <th>3</th>\n",
              "      <th>4</th>\n",
              "      <th>5</th>\n",
              "      <th>6</th>\n",
              "      <th>7</th>\n",
              "      <th>8</th>\n",
              "      <th>9</th>\n",
              "      <th>Class</th>\n",
              "    </tr>\n",
              "  </thead>\n",
              "  <tbody>\n",
              "    <tr>\n",
              "      <th>0</th>\n",
              "      <td>0.229883</td>\n",
              "      <td>1.262589</td>\n",
              "      <td>0.500636</td>\n",
              "      <td>1.539305</td>\n",
              "      <td>-0.196935</td>\n",
              "      <td>1.828516</td>\n",
              "      <td>-1.570777</td>\n",
              "      <td>-0.774800</td>\n",
              "      <td>-1.521825</td>\n",
              "      <td>0.075343</td>\n",
              "      <td>0.0</td>\n",
              "    </tr>\n",
              "    <tr>\n",
              "      <th>1</th>\n",
              "      <td>0.729242</td>\n",
              "      <td>1.563231</td>\n",
              "      <td>1.795383</td>\n",
              "      <td>-1.588736</td>\n",
              "      <td>0.165522</td>\n",
              "      <td>-0.462536</td>\n",
              "      <td>-1.242366</td>\n",
              "      <td>-0.582129</td>\n",
              "      <td>1.144603</td>\n",
              "      <td>-1.167733</td>\n",
              "      <td>1.0</td>\n",
              "    </tr>\n",
              "    <tr>\n",
              "      <th>2</th>\n",
              "      <td>1.072135</td>\n",
              "      <td>-0.875316</td>\n",
              "      <td>-0.908354</td>\n",
              "      <td>-0.314349</td>\n",
              "      <td>-1.284303</td>\n",
              "      <td>-0.438914</td>\n",
              "      <td>-0.168963</td>\n",
              "      <td>-0.964770</td>\n",
              "      <td>1.144603</td>\n",
              "      <td>2.372222</td>\n",
              "      <td>2.0</td>\n",
              "    </tr>\n",
              "    <tr>\n",
              "      <th>3</th>\n",
              "      <td>0.229883</td>\n",
              "      <td>1.262589</td>\n",
              "      <td>0.500636</td>\n",
              "      <td>1.539305</td>\n",
              "      <td>-0.196935</td>\n",
              "      <td>-0.143646</td>\n",
              "      <td>-1.570777</td>\n",
              "      <td>-0.774800</td>\n",
              "      <td>-1.521825</td>\n",
              "      <td>0.075343</td>\n",
              "      <td>0.0</td>\n",
              "    </tr>\n",
              "    <tr>\n",
              "      <th>4</th>\n",
              "      <td>0.729242</td>\n",
              "      <td>1.563231</td>\n",
              "      <td>1.795383</td>\n",
              "      <td>-1.588736</td>\n",
              "      <td>0.165522</td>\n",
              "      <td>-0.143646</td>\n",
              "      <td>-1.242366</td>\n",
              "      <td>-0.582129</td>\n",
              "      <td>1.144603</td>\n",
              "      <td>-1.167733</td>\n",
              "      <td>1.0</td>\n",
              "    </tr>\n",
              "    <tr>\n",
              "      <th>5</th>\n",
              "      <td>1.122071</td>\n",
              "      <td>1.329398</td>\n",
              "      <td>-1.060677</td>\n",
              "      <td>-1.357029</td>\n",
              "      <td>-0.801028</td>\n",
              "      <td>-0.774838</td>\n",
              "      <td>1.048830</td>\n",
              "      <td>0.185852</td>\n",
              "      <td>-0.215683</td>\n",
              "      <td>1.341440</td>\n",
              "      <td>2.0</td>\n",
              "    </tr>\n",
              "    <tr>\n",
              "      <th>6</th>\n",
              "      <td>0.626041</td>\n",
              "      <td>-1.175959</td>\n",
              "      <td>0.805282</td>\n",
              "      <td>-0.777762</td>\n",
              "      <td>-0.317753</td>\n",
              "      <td>-1.131885</td>\n",
              "      <td>0.288299</td>\n",
              "      <td>-0.087848</td>\n",
              "      <td>1.144603</td>\n",
              "      <td>-0.252051</td>\n",
              "      <td>0.0</td>\n",
              "    </tr>\n",
              "    <tr>\n",
              "      <th>7</th>\n",
              "      <td>1.148704</td>\n",
              "      <td>-1.008935</td>\n",
              "      <td>0.881444</td>\n",
              "      <td>-0.546056</td>\n",
              "      <td>0.286340</td>\n",
              "      <td>-1.869373</td>\n",
              "      <td>1.179950</td>\n",
              "      <td>-1.563489</td>\n",
              "      <td>-1.310500</td>\n",
              "      <td>-0.973343</td>\n",
              "      <td>1.0</td>\n",
              "    </tr>\n",
              "    <tr>\n",
              "      <th>8</th>\n",
              "      <td>1.122071</td>\n",
              "      <td>1.329398</td>\n",
              "      <td>-1.060677</td>\n",
              "      <td>-1.357029</td>\n",
              "      <td>-0.801028</td>\n",
              "      <td>-0.143646</td>\n",
              "      <td>1.048830</td>\n",
              "      <td>0.185852</td>\n",
              "      <td>-0.215683</td>\n",
              "      <td>1.341440</td>\n",
              "      <td>2.0</td>\n",
              "    </tr>\n",
              "    <tr>\n",
              "      <th>9</th>\n",
              "      <td>0.626041</td>\n",
              "      <td>-1.175959</td>\n",
              "      <td>0.805282</td>\n",
              "      <td>-0.777762</td>\n",
              "      <td>-0.317753</td>\n",
              "      <td>-0.143646</td>\n",
              "      <td>0.288299</td>\n",
              "      <td>-0.087848</td>\n",
              "      <td>1.144603</td>\n",
              "      <td>-0.252051</td>\n",
              "      <td>0.0</td>\n",
              "    </tr>\n",
              "  </tbody>\n",
              "</table>\n",
              "</div>"
            ],
            "text/plain": [
              "          0         1         2         3  ...         7         8         9  Class\n",
              "0  0.229883  1.262589  0.500636  1.539305  ... -0.774800 -1.521825  0.075343    0.0\n",
              "1  0.729242  1.563231  1.795383 -1.588736  ... -0.582129  1.144603 -1.167733    1.0\n",
              "2  1.072135 -0.875316 -0.908354 -0.314349  ... -0.964770  1.144603  2.372222    2.0\n",
              "3  0.229883  1.262589  0.500636  1.539305  ... -0.774800 -1.521825  0.075343    0.0\n",
              "4  0.729242  1.563231  1.795383 -1.588736  ... -0.582129  1.144603 -1.167733    1.0\n",
              "5  1.122071  1.329398 -1.060677 -1.357029  ...  0.185852 -0.215683  1.341440    2.0\n",
              "6  0.626041 -1.175959  0.805282 -0.777762  ... -0.087848  1.144603 -0.252051    0.0\n",
              "7  1.148704 -1.008935  0.881444 -0.546056  ... -1.563489 -1.310500 -0.973343    1.0\n",
              "8  1.122071  1.329398 -1.060677 -1.357029  ...  0.185852 -0.215683  1.341440    2.0\n",
              "9  0.626041 -1.175959  0.805282 -0.777762  ... -0.087848  1.144603 -0.252051    0.0\n",
              "\n",
              "[10 rows x 11 columns]"
            ]
          },
          "metadata": {
            "tags": []
          },
          "execution_count": 132
        }
      ]
    },
    {
      "cell_type": "markdown",
      "metadata": {
        "id": "Wyiqm0d5ySla"
      },
      "source": [
        "we use K-Fold for cross validation. we only do 4 fold considering how small the data set is"
      ]
    },
    {
      "cell_type": "code",
      "metadata": {
        "id": "iUCIgwF5dJvV",
        "colab": {
          "base_uri": "https://localhost:8080/"
        },
        "outputId": "afdabb2f-7825-454d-fea0-15dfa49960f1"
      },
      "source": [
        "nb_fold = 4\n",
        "sz_fold = int(np.shape(data3)[0] / nb_fold)\n",
        "\n",
        "print(\"Number of testing data : \", sz_fold)\n",
        "print(\"Number of train data : \", sz_fold*(nb_fold-1))\n",
        "print(\"Total : \", sz_fold*nb_fold )\n",
        "print(\"Residu : \", data.shape[0] - sz_fold*nb_fold )\n",
        "\n",
        "split_data = []\n",
        "dummy_data = data3\n",
        "#print(np.shape(dummy_data)[0])\n",
        "\n",
        "for k in range (nb_fold):\n",
        "    fold = []\n",
        "    split_data.append(data3.loc[(k*sz_fold):((k+1)*sz_fold),:])"
      ],
      "execution_count": 133,
      "outputs": [
        {
          "output_type": "stream",
          "text": [
            "Number of testing data :  75\n",
            "Number of train data :  225\n",
            "Total :  300\n",
            "Residu :  0\n"
          ],
          "name": "stdout"
        }
      ]
    },
    {
      "cell_type": "code",
      "metadata": {
        "id": "Z6ZS2TNRdJvX"
      },
      "source": [
        "from sklearn.preprocessing import OneHotEncoder\n",
        "\n",
        "def get_fold(data, k=0):\n",
        "    data_dummy = list(data)\n",
        "    test = data_dummy.pop(k)\n",
        "    #print(test)\n",
        "    train = pd.concat(data_dummy)\n",
        "    #print(train)\n",
        "    \n",
        "    X_train = train.loc[:,[0,1,2,3,4,5,6,7,8,9]]\n",
        "    X_test = test.loc[:,[0,1,2,3,4,5,6,7,8,9]]\n",
        "    \n",
        "    enc = OneHotEncoder()\n",
        "    Y_test = enc.fit_transform(test[[\"Class\"]]).toarray()\n",
        "    Y_train = enc.fit_transform(train[[\"Class\"]]).toarray()\n",
        "\n",
        "    return X_train, X_test, Y_train, Y_test"
      ],
      "execution_count": 134,
      "outputs": []
    },
    {
      "cell_type": "code",
      "metadata": {
        "id": "hOfLueqq1jzn",
        "colab": {
          "base_uri": "https://localhost:8080/"
        },
        "outputId": "50f3f94f-0e1d-43cb-f19f-42f1d665b343"
      },
      "source": [
        "uhu = list(data)\n",
        "testi = uhu.pop(0)\n",
        "print(testi)"
      ],
      "execution_count": 135,
      "outputs": [
        {
          "output_type": "stream",
          "text": [
            "kn\n"
          ],
          "name": "stdout"
        }
      ]
    },
    {
      "cell_type": "code",
      "metadata": {
        "id": "cL0uC55Sqm6t"
      },
      "source": [
        "#Y_train"
      ],
      "execution_count": 136,
      "outputs": []
    },
    {
      "cell_type": "markdown",
      "metadata": {
        "id": "nFcC4bUVyozA"
      },
      "source": [
        "On creating the model here we use Stochastic Gradient Descent with variation in activation function"
      ]
    },
    {
      "cell_type": "code",
      "metadata": {
        "id": "cdgl0cTWdJva"
      },
      "source": [
        "def build_model(X_size, Y_size,layer = 1, nodes = 1 ):\n",
        "    opt = SGD(lr=0.001)\n",
        "    model = Sequential()\n",
        "    model.add(Dense(nodes, input_dim = X_size, activation = 'sigmoid', use_bias=True))\n",
        "    model.add(Dropout(0.2))\n",
        "    if layer != 1:\n",
        "      for i in range (layer-1):\n",
        "        model.add(Dense(nodes, activation = 'sigmoid', use_bias=True))\n",
        "        model.add(Dropout(0.2))   \n",
        "    model.add(Dense(Y_size, activation = 'softmax'))\n",
        "    \n",
        "    # compile model\n",
        "    model.compile(opt, loss = 'categorical_crossentropy', metrics = ['accuracy'])\n",
        "    \n",
        "    return model"
      ],
      "execution_count": 137,
      "outputs": []
    },
    {
      "cell_type": "code",
      "metadata": {
        "id": "ERiQAnVPrl8v"
      },
      "source": [
        "#for k in range (nb_fold):\n",
        "#    X_train, X_test, Y_train, Y_test = get_fold(split_data, k)\n",
        "#    print(Y_test)"
      ],
      "execution_count": 138,
      "outputs": []
    },
    {
      "cell_type": "code",
      "metadata": {
        "id": "AxHKgP4edJvf",
        "colab": {
          "base_uri": "https://localhost:8080/"
        },
        "outputId": "9aa93c92-8097-41c6-8658-73cfa2059367"
      },
      "source": [
        "model.summary()"
      ],
      "execution_count": 103,
      "outputs": [
        {
          "output_type": "stream",
          "text": [
            "Model: \"sequential_34\"\n",
            "_________________________________________________________________\n",
            "Layer (type)                 Output Shape              Param #   \n",
            "=================================================================\n",
            "dense_68 (Dense)             (None, 50)                550       \n",
            "_________________________________________________________________\n",
            "dropout_34 (Dropout)         (None, 50)                0         \n",
            "_________________________________________________________________\n",
            "dense_69 (Dense)             (None, 3)                 153       \n",
            "=================================================================\n",
            "Total params: 703\n",
            "Trainable params: 703\n",
            "Non-trainable params: 0\n",
            "_________________________________________________________________\n"
          ],
          "name": "stdout"
        }
      ]
    },
    {
      "cell_type": "code",
      "metadata": {
        "id": "zrHs2eN6f9r3"
      },
      "source": [
        "import warnings\n",
        "warnings.simplefilter(action='ignore', category=FutureWarning)\n",
        "\n",
        "from keras.callbacks import TensorBoard\n",
        "cb = TensorBoard()\n",
        "\n",
        "\n",
        "def try_model (layer=1, nodes=50):  \n",
        "  list_acc = []\n",
        "\n",
        "  for k in range (nb_fold):\n",
        "      X_train, X_test, Y_train, Y_test = get_fold(split_data, k)\n",
        "\n",
        "      X_size = np.shape(X_train)[1]\n",
        "      Y_size = np.shape(Y_train)[1]\n",
        "\n",
        "      model = build_model(X_size, Y_size, layer=layer,nodes=nodes)\n",
        "\n",
        "      model.fit(X_train, Y_train,\n",
        "                              batch_size = 5,\n",
        "                              epochs = 100,\n",
        "                              verbose = 0,\n",
        "                              validation_data = (X_test, Y_test), callbacks = [cb])\n",
        "      score = model.evaluate(X_test, Y_test, verbose = 0)\n",
        "\n",
        "      print('Test los [fold : %.2f%%] = ' % (score[0]*100))\n",
        "      print('Test acc (fold-%.f) : %.2f%%' % (k, score[1]*100))\n",
        "\n",
        "      list_acc.append(score[1])\n",
        "\n",
        "  print(\"mean acc of %.f layer %.f nodes = %.2f%% (+/- %.2f%%)\" % (layer, nodes, np.mean(list_acc), np.std(list_acc)))"
      ],
      "execution_count": 142,
      "outputs": []
    },
    {
      "cell_type": "markdown",
      "metadata": {
        "id": "NXY8t9mkKBht"
      },
      "source": [
        "In here we look at each fold accuracy. we can see how the accuracy different depend on how much layer and how many nodes we use. From here we pick the best number of layer and nodes for the model"
      ]
    },
    {
      "cell_type": "code",
      "metadata": {
        "id": "yrOpUE9UjCt1",
        "colab": {
          "base_uri": "https://localhost:8080/"
        },
        "outputId": "79c8dd38-4c5f-4689-ff3f-25f8daf18e47"
      },
      "source": [
        "%%time\n",
        "for layer in (1,2):\n",
        "  for nodes in (1,3,5,10,20,50):\n",
        "    try_model(layer=layer,nodes=nodes)"
      ],
      "execution_count": 143,
      "outputs": [
        {
          "output_type": "stream",
          "text": [
            "Test los [fold : 111.12%] = \n",
            "Test acc (fold-0) : 35.53%\n",
            "Test los [fold : 105.92%] = \n",
            "Test acc (fold-1) : 32.89%\n",
            "Test los [fold : 108.28%] = \n",
            "Test acc (fold-2) : 39.47%\n",
            "Test los [fold : 104.16%] = \n",
            "Test acc (fold-3) : 46.67%\n",
            "mean acc of 1 layer 1 nodes = 0.39% (+/- 0.05%)\n",
            "Test los [fold : 111.25%] = \n",
            "Test acc (fold-0) : 35.53%\n",
            "Test los [fold : 112.06%] = \n",
            "Test acc (fold-1) : 34.21%\n",
            "Test los [fold : 104.30%] = \n",
            "Test acc (fold-2) : 51.32%\n",
            "Test los [fold : 100.49%] = \n",
            "Test acc (fold-3) : 40.00%\n",
            "mean acc of 1 layer 3 nodes = 0.40% (+/- 0.07%)\n",
            "Test los [fold : 116.99%] = \n",
            "Test acc (fold-0) : 26.32%\n",
            "Test los [fold : 103.34%] = \n",
            "Test acc (fold-1) : 53.95%\n",
            "Test los [fold : 100.77%] = \n",
            "Test acc (fold-2) : 59.21%\n",
            "Test los [fold : 106.18%] = \n",
            "Test acc (fold-3) : 52.00%\n",
            "mean acc of 1 layer 5 nodes = 0.48% (+/- 0.13%)\n",
            "Test los [fold : 118.57%] = \n",
            "Test acc (fold-0) : 38.16%\n",
            "Test los [fold : 94.65%] = \n",
            "Test acc (fold-1) : 67.11%\n",
            "Test los [fold : 105.58%] = \n",
            "Test acc (fold-2) : 55.26%\n",
            "Test los [fold : 106.07%] = \n",
            "Test acc (fold-3) : 40.00%\n",
            "mean acc of 1 layer 10 nodes = 0.50% (+/- 0.12%)\n",
            "Test los [fold : 119.37%] = \n",
            "Test acc (fold-0) : 32.89%\n",
            "Test los [fold : 91.21%] = \n",
            "Test acc (fold-1) : 52.63%\n",
            "Test los [fold : 97.98%] = \n",
            "Test acc (fold-2) : 64.47%\n",
            "Test los [fold : 95.58%] = \n",
            "Test acc (fold-3) : 57.33%\n",
            "mean acc of 1 layer 20 nodes = 0.52% (+/- 0.12%)\n",
            "Test los [fold : 124.99%] = \n",
            "Test acc (fold-0) : 43.42%\n",
            "Test los [fold : 93.78%] = \n",
            "Test acc (fold-1) : 61.84%\n",
            "Test los [fold : 96.65%] = \n",
            "Test acc (fold-2) : 53.95%\n",
            "Test los [fold : 94.74%] = \n",
            "Test acc (fold-3) : 56.00%\n",
            "mean acc of 1 layer 50 nodes = 0.54% (+/- 0.07%)\n",
            "Test los [fold : 110.42%] = \n",
            "Test acc (fold-0) : 30.26%\n",
            "Test los [fold : 109.00%] = \n",
            "Test acc (fold-1) : 53.95%\n",
            "Test los [fold : 109.57%] = \n",
            "Test acc (fold-2) : 39.47%\n",
            "Test los [fold : 110.11%] = \n",
            "Test acc (fold-3) : 18.67%\n",
            "mean acc of 2 layer 1 nodes = 0.36% (+/- 0.13%)\n",
            "Test los [fold : 109.62%] = \n",
            "Test acc (fold-0) : 23.68%\n",
            "Test los [fold : 109.62%] = \n",
            "Test acc (fold-1) : 32.89%\n",
            "Test los [fold : 107.58%] = \n",
            "Test acc (fold-2) : 52.63%\n",
            "Test los [fold : 109.32%] = \n",
            "Test acc (fold-3) : 48.00%\n",
            "mean acc of 2 layer 3 nodes = 0.39% (+/- 0.12%)\n",
            "Test los [fold : 109.56%] = \n",
            "Test acc (fold-0) : 43.42%\n",
            "Test los [fold : 108.28%] = \n",
            "Test acc (fold-1) : 40.79%\n",
            "Test los [fold : 108.33%] = \n",
            "Test acc (fold-2) : 47.37%\n",
            "Test los [fold : 108.19%] = \n",
            "Test acc (fold-3) : 38.67%\n",
            "mean acc of 2 layer 5 nodes = 0.43% (+/- 0.03%)\n",
            "Test los [fold : 109.45%] = \n",
            "Test acc (fold-0) : 38.16%\n",
            "Test los [fold : 107.66%] = \n",
            "Test acc (fold-1) : 53.95%\n",
            "Test los [fold : 108.30%] = \n",
            "Test acc (fold-2) : 47.37%\n",
            "Test los [fold : 110.25%] = \n",
            "Test acc (fold-3) : 36.00%\n",
            "mean acc of 2 layer 10 nodes = 0.44% (+/- 0.07%)\n",
            "Test los [fold : 109.63%] = \n",
            "Test acc (fold-0) : 34.21%\n",
            "Test los [fold : 107.98%] = \n",
            "Test acc (fold-1) : 46.05%\n",
            "Test los [fold : 108.12%] = \n",
            "Test acc (fold-2) : 40.79%\n",
            "Test los [fold : 107.28%] = \n",
            "Test acc (fold-3) : 53.33%\n",
            "mean acc of 2 layer 20 nodes = 0.44% (+/- 0.07%)\n",
            "Test los [fold : 109.71%] = \n",
            "Test acc (fold-0) : 39.47%\n",
            "Test los [fold : 107.51%] = \n",
            "Test acc (fold-1) : 61.84%\n",
            "Test los [fold : 107.64%] = \n",
            "Test acc (fold-2) : 56.58%\n",
            "Test los [fold : 106.77%] = \n",
            "Test acc (fold-3) : 64.00%\n",
            "mean acc of 2 layer 50 nodes = 0.55% (+/- 0.10%)\n",
            "CPU times: user 11min 12s, sys: 28.8 s, total: 11min 41s\n",
            "Wall time: 10min 35s\n"
          ],
          "name": "stdout"
        }
      ]
    },
    {
      "cell_type": "code",
      "metadata": {
        "colab": {
          "base_uri": "https://localhost:8080/"
        },
        "id": "X-x2W7BJLkPF",
        "outputId": "950a6fcf-a45e-4f6f-f70d-8aeb66369625"
      },
      "source": [
        "%%time\r\n",
        "for layer in (3,4):\r\n",
        "  for nodes in (1,3,5,10,20,50):\r\n",
        "    try_model(layer=layer,nodes=nodes)"
      ],
      "execution_count": null,
      "outputs": [
        {
          "output_type": "stream",
          "text": [
            "Test los [fold : 109.88%] = \n",
            "Test acc (fold-0) : 34.21%\n",
            "Test los [fold : 109.86%] = \n",
            "Test acc (fold-1) : 34.21%\n",
            "Test los [fold : 109.84%] = \n",
            "Test acc (fold-2) : 34.21%\n",
            "Test los [fold : 109.94%] = \n",
            "Test acc (fold-3) : 33.33%\n",
            "mean acc of 3 layer 1 nodes = 0.34% (+/- 0.00%)\n",
            "Test los [fold : 109.90%] = \n",
            "Test acc (fold-0) : 40.79%\n",
            "Test los [fold : 110.01%] = \n",
            "Test acc (fold-1) : 15.79%\n",
            "Test los [fold : 109.73%] = \n",
            "Test acc (fold-2) : 43.42%\n",
            "Test los [fold : 109.88%] = \n",
            "Test acc (fold-3) : 33.33%\n",
            "mean acc of 3 layer 3 nodes = 0.33% (+/- 0.11%)\n",
            "Test los [fold : 109.87%] = \n",
            "Test acc (fold-0) : 31.58%\n",
            "Test los [fold : 109.66%] = \n",
            "Test acc (fold-1) : 34.21%\n",
            "Test los [fold : 109.49%] = \n",
            "Test acc (fold-2) : 34.21%\n",
            "Test los [fold : 109.88%] = \n",
            "Test acc (fold-3) : 33.33%\n",
            "mean acc of 3 layer 5 nodes = 0.33% (+/- 0.01%)\n",
            "Test los [fold : 110.12%] = \n",
            "Test acc (fold-0) : 26.32%\n",
            "Test los [fold : 109.24%] = \n",
            "Test acc (fold-1) : 38.16%\n",
            "Test los [fold : 109.74%] = \n",
            "Test acc (fold-2) : 34.21%\n",
            "Test los [fold : 109.51%] = \n",
            "Test acc (fold-3) : 33.33%\n",
            "mean acc of 3 layer 10 nodes = 0.33% (+/- 0.04%)\n",
            "Test los [fold : 109.81%] = \n",
            "Test acc (fold-0) : 36.84%\n",
            "Test los [fold : 109.10%] = \n",
            "Test acc (fold-1) : 50.00%\n"
          ],
          "name": "stdout"
        }
      ]
    },
    {
      "cell_type": "markdown",
      "metadata": {
        "id": "nAoSNx418gBW"
      },
      "source": [
        "After selecting the highest accuracy based on the number of nodes and layer we now add the number of data to get a better result"
      ]
    },
    {
      "cell_type": "code",
      "metadata": {
        "id": "8NwKKAao8Sj8"
      },
      "source": [
        "data = data.groupby(by = 'Class').head(250)"
      ],
      "execution_count": null,
      "outputs": []
    },
    {
      "cell_type": "code",
      "metadata": {
        "scrolled": true,
        "id": "jD5_HGpjdJvc",
        "colab": {
          "base_uri": "https://localhost:8080/"
        },
        "outputId": "7d1f3908-32ea-4fd3-ec72-0a07de03a4f9"
      },
      "source": [
        "%%time\n",
        "layer = 1\n",
        "nodes = 50\n",
        "\n",
        "import warnings\n",
        "warnings.simplefilter(action='ignore', category=FutureWarning)\n",
        "\n",
        "from keras.callbacks import TensorBoard\n",
        "cb = TensorBoard()\n",
        "\n",
        "list_acc = []\n",
        "\n",
        "for k in range (nb_fold):\n",
        "    X_train, X_test, Y_train, Y_test = get_fold(split_data, k)\n",
        "    \n",
        "    X_size = np.shape(X_train)[1]\n",
        "    Y_size = np.shape(Y_train)[1]\n",
        "    \n",
        "    model = build_model(X_size, Y_size, layer=layer,nodes=nodes)\n",
        "    \n",
        "    print(Y_train[2,:])\n",
        "    print(Y_test[2,:])\n",
        "    model.fit(X_train, Y_train,\n",
        "                            batch_size = 5,\n",
        "                            epochs = 10,\n",
        "                            verbose = 0,\n",
        "                            validation_data = (X_test, Y_test), callbacks = [cb])\n",
        "    print(Y_train[2,:])\n",
        "    print(Y_test[2,:])\n",
        "    score = model.evaluate(X_test, Y_test, verbose = 0)\n",
        "    \n",
        "    #print('Test los [fold : %.2f%%] = ' % (score[0]*100))\n",
        "    print('Test acc (fold-%.f) : %.2f%%' % (k, score[1]*100))\n",
        "    \n",
        "    list_acc.append(score[1])\n",
        "    \n",
        "print(\"mean acc of %.f layer %.f nodes = %.2f%% (+/- %.2f%%)\" % (layer, nodes, np.mean(list_acc), np.std(list_acc)))"
      ],
      "execution_count": 141,
      "outputs": [
        {
          "output_type": "stream",
          "text": [
            "[0. 0. 1.]\n",
            "[0. 0. 1.]\n",
            "[0. 0. 1.]\n",
            "[0. 0. 1.]\n",
            "Test acc (fold-0) : 36.84%\n",
            "[0. 0. 1.]\n",
            "[0. 0. 1.]\n",
            "[0. 0. 1.]\n",
            "[0. 0. 1.]\n",
            "Test acc (fold-1) : 30.26%\n",
            "[0. 0. 1.]\n",
            "[0. 0. 1.]\n",
            "[0. 0. 1.]\n",
            "[0. 0. 1.]\n",
            "Test acc (fold-2) : 50.00%\n",
            "[0. 0. 1.]\n",
            "[0. 0. 1.]\n",
            "[0. 0. 1.]\n",
            "[0. 0. 1.]\n",
            "Test acc (fold-3) : 38.67%\n",
            "mean acc of 1 layer 50 nodes = 0.39% (+/- 0.07%)\n",
            "CPU times: user 7.59 s, sys: 289 ms, total: 7.88 s\n",
            "Wall time: 7.33 s\n"
          ],
          "name": "stdout"
        }
      ]
    },
    {
      "cell_type": "code",
      "metadata": {
        "id": "sq2lbYJxjYtd"
      },
      "source": [
        "from keras.callbacks import TensorBoard\n",
        "\n",
        "cb = TensorBoard()\n",
        "\n",
        "layer = 1\n",
        "nodes = 50\n",
        "\n",
        "X_train, X_test, Y_train, Y_test = get_fold(split_data, 1)\n",
        "\n",
        "X_size = np.shape(X_train)[1]\n",
        "Y_size = np.shape(Y_train)[1]\n",
        "\n",
        "model = build_model(X_size, Y_size, layer=layer,nodes=nodes)\n",
        "\n",
        "history_callback = model.fit(X_train, Y_train,\n",
        "                          batch_size = 5,\n",
        "                          epochs = 100,\n",
        "                          verbose = 0,\n",
        "                          validation_data = (X_test, Y_test), callbacks = [cb])\n",
        "score = model.evaluate(X_test, Y_test, verbose = 0)\n",
        "\n",
        "import matplotlib.pyplot as plt\n",
        "% matplotlib inline\n",
        "\n",
        "fig, (ax1,ax2) = plt.subplots(2, figsize = (8,6))\n",
        "\n",
        "acc = history_callback.history['accuracy']\n",
        "loss = history_callback.history['loss']\n",
        "val_acc = history_callback.history['val_accuracy']\n",
        "val_loss = history_callback.history['val_loss']\n",
        "ax1.plot(acc, label='train')\n",
        "ax1.plot(val_acc, label='test')\n",
        "ax2.plot(loss, label='train')\n",
        "ax2.plot(val_loss, label='test')\n",
        "ax1.set_ylabel('accuracy')\n",
        "ax2.set_ylabel('loss')\n",
        "ax2.set_xlabel('epochs')\n",
        "\n",
        "ax1.legend()\n",
        "ax2.legend()\n",
        "plt.show()\n",
        "\n",
        "print('Test loss:', score[0])\n",
        "print('Test accuracy:', score[1])"
      ],
      "execution_count": null,
      "outputs": []
    },
    {
      "cell_type": "code",
      "metadata": {
        "id": "oHdeCA-TXHre"
      },
      "source": [
        "for i in range (np.shape(acc)[0]):\n",
        "  print(acc[i], val_acc[i])"
      ],
      "execution_count": null,
      "outputs": []
    },
    {
      "cell_type": "code",
      "metadata": {
        "id": "D5k8YHhvxj99",
        "colab": {
          "base_uri": "https://localhost:8080/",
          "height": 1000
        },
        "outputId": "01145711-3c80-410b-9436-3a4f722be656"
      },
      "source": [
        "pred_test = np.argmax(model.predict(X_test),axis=1)\n",
        "act_test = np.argmax(Y_test, axis=1)\n",
        "\n",
        "n = 0\n",
        "\n",
        "    \n",
        "def backtoclass(value):\n",
        "    if value == 0:\n",
        "        return 'A'\n",
        "    elif value == 1:\n",
        "        return 'B'\n",
        "    elif value == 2:\n",
        "        return 'C'\n",
        "\n",
        "\n",
        "print('Pred \\t Actual \\t Conclusion')\n",
        "for i in range (pred_test.shape[0]):\n",
        "    print(backtoclass(pred_test[i]),\n",
        "          \"\\t\", \n",
        "          backtoclass(act_test[i]),\n",
        "          \"\\t\\t\",\n",
        "          'True' if pred_test[i] == act_test[i] else 'False')\n",
        "    if pred_test[i] == act_test[i]: n=n+1\n",
        "    \n",
        "print('\\n Prediksi benar = ', n, ', dari jumlat uji = ', pred_test.shape[0])\n",
        "\n",
        "\n",
        "from sklearn.metrics import classification_report, confusion_matrix\n",
        "#import seaborn as sns\n",
        "\n",
        "\n",
        "print(classification_report(act_test, pred_test)) # Precision , Recall, F1-Score & Support\n",
        "cm = confusion_matrix(act_test, pred_test)\n",
        "print(cm)\n",
        "\n",
        "df_cm = pd.DataFrame(cm)\n",
        "#heatmap = sns.heatmap(df_cm, annot=True, fmt=\"d\")\n",
        "plt.imshow(df_cm, cmap='Blues', interpolation='nearest')\n",
        "ticks=np.arange(0,3)\n",
        "plt.yticks(ticks)\n",
        "plt.colorbar()\n",
        "plt.show()"
      ],
      "execution_count": 217,
      "outputs": [
        {
          "output_type": "stream",
          "text": [
            "Pred \t Actual \t Conclusion\n",
            "B \t B \t\t True\n",
            "C \t C \t\t True\n",
            "A \t A \t\t True\n",
            "A \t B \t\t False\n",
            "C \t C \t\t True\n",
            "A \t A \t\t True\n",
            "B \t B \t\t True\n",
            "C \t C \t\t True\n",
            "B \t A \t\t False\n",
            "A \t B \t\t False\n",
            "C \t C \t\t True\n",
            "B \t A \t\t False\n",
            "B \t B \t\t True\n",
            "C \t C \t\t True\n",
            "B \t A \t\t False\n",
            "A \t B \t\t False\n",
            "C \t C \t\t True\n",
            "B \t A \t\t False\n",
            "A \t B \t\t False\n",
            "C \t C \t\t True\n",
            "B \t A \t\t False\n",
            "A \t B \t\t False\n",
            "C \t C \t\t True\n",
            "A \t A \t\t True\n",
            "A \t B \t\t False\n",
            "C \t C \t\t True\n",
            "B \t A \t\t False\n",
            "A \t B \t\t False\n",
            "C \t C \t\t True\n",
            "B \t A \t\t False\n",
            "A \t B \t\t False\n",
            "C \t C \t\t True\n",
            "A \t A \t\t True\n",
            "B \t B \t\t True\n",
            "C \t C \t\t True\n",
            "A \t A \t\t True\n",
            "A \t B \t\t False\n",
            "C \t C \t\t True\n",
            "A \t A \t\t True\n",
            "A \t B \t\t False\n",
            "C \t C \t\t True\n",
            "A \t A \t\t True\n",
            "B \t B \t\t True\n",
            "C \t C \t\t True\n",
            "A \t A \t\t True\n",
            "B \t B \t\t True\n",
            "C \t C \t\t True\n",
            "A \t A \t\t True\n",
            "B \t B \t\t True\n",
            "C \t C \t\t True\n",
            "B \t A \t\t False\n",
            "B \t B \t\t True\n",
            "C \t C \t\t True\n",
            "B \t A \t\t False\n",
            "A \t B \t\t False\n",
            "C \t C \t\t True\n",
            "B \t A \t\t False\n",
            "A \t B \t\t False\n",
            "C \t C \t\t True\n",
            "B \t A \t\t False\n",
            "B \t B \t\t True\n",
            "C \t C \t\t True\n",
            "A \t A \t\t True\n",
            "B \t B \t\t True\n",
            "C \t C \t\t True\n",
            "B \t A \t\t False\n",
            "B \t B \t\t True\n",
            "C \t C \t\t True\n",
            "A \t A \t\t True\n",
            "B \t B \t\t True\n",
            "C \t C \t\t True\n",
            "A \t A \t\t True\n",
            "A \t B \t\t False\n",
            "C \t C \t\t True\n",
            "A \t A \t\t True\n",
            "A \t B \t\t False\n",
            "C \t C \t\t True\n",
            "A \t A \t\t True\n",
            "B \t B \t\t True\n",
            "C \t C \t\t True\n",
            "B \t A \t\t False\n",
            "A \t B \t\t False\n",
            "C \t C \t\t True\n",
            "B \t A \t\t False\n",
            "A \t B \t\t False\n",
            "C \t C \t\t True\n",
            "A \t A \t\t True\n",
            "A \t B \t\t False\n",
            "C \t C \t\t True\n",
            "A \t A \t\t True\n",
            "A \t B \t\t False\n",
            "C \t C \t\t True\n",
            "A \t A \t\t True\n",
            "A \t B \t\t False\n",
            "C \t C \t\t True\n",
            "A \t A \t\t True\n",
            "C \t B \t\t False\n",
            "C \t C \t\t True\n",
            "B \t A \t\t False\n",
            "C \t B \t\t False\n",
            "C \t C \t\t True\n",
            "A \t A \t\t True\n",
            "B \t B \t\t True\n",
            "C \t C \t\t True\n",
            "A \t A \t\t True\n",
            "B \t B \t\t True\n",
            "C \t C \t\t True\n",
            "B \t A \t\t False\n",
            "B \t B \t\t True\n",
            "C \t C \t\t True\n",
            "B \t A \t\t False\n",
            "B \t B \t\t True\n",
            "C \t C \t\t True\n",
            "A \t A \t\t True\n",
            "B \t B \t\t True\n",
            "C \t C \t\t True\n",
            "A \t A \t\t True\n",
            "B \t B \t\t True\n",
            "C \t C \t\t True\n",
            "A \t A \t\t True\n",
            "A \t B \t\t False\n",
            "C \t C \t\t True\n",
            "B \t A \t\t False\n",
            "A \t B \t\t False\n",
            "C \t C \t\t True\n",
            "B \t A \t\t False\n",
            "C \t B \t\t False\n",
            "C \t C \t\t True\n",
            "A \t A \t\t True\n",
            "C \t B \t\t False\n",
            "C \t C \t\t True\n",
            "A \t A \t\t True\n",
            "B \t B \t\t True\n",
            "C \t C \t\t True\n",
            "B \t A \t\t False\n",
            "B \t B \t\t True\n",
            "C \t C \t\t True\n",
            "B \t A \t\t False\n",
            "B \t B \t\t True\n",
            "C \t C \t\t True\n",
            "A \t A \t\t True\n",
            "B \t B \t\t True\n",
            "C \t C \t\t True\n",
            "A \t A \t\t True\n",
            "C \t B \t\t False\n",
            "C \t C \t\t True\n",
            "A \t A \t\t True\n",
            "C \t B \t\t False\n",
            "C \t C \t\t True\n",
            "B \t A \t\t False\n",
            "B \t B \t\t True\n",
            "C \t C \t\t True\n",
            "B \t A \t\t False\n",
            "B \t B \t\t True\n",
            "C \t C \t\t True\n",
            "A \t A \t\t True\n",
            "B \t B \t\t True\n",
            "C \t C \t\t True\n",
            "B \t A \t\t False\n",
            "B \t B \t\t True\n",
            "C \t C \t\t True\n",
            "B \t A \t\t False\n",
            "B \t B \t\t True\n",
            "C \t C \t\t True\n",
            "A \t A \t\t True\n",
            "B \t B \t\t True\n",
            "C \t C \t\t True\n",
            "A \t A \t\t True\n",
            "A \t B \t\t False\n",
            "C \t C \t\t True\n",
            "A \t A \t\t True\n",
            "B \t B \t\t True\n",
            "C \t C \t\t True\n",
            "A \t A \t\t True\n",
            "A \t B \t\t False\n",
            "C \t C \t\t True\n",
            "B \t A \t\t False\n",
            "A \t B \t\t False\n",
            "C \t C \t\t True\n",
            "B \t A \t\t False\n",
            "A \t B \t\t False\n",
            "C \t C \t\t True\n",
            "A \t A \t\t True\n",
            "B \t B \t\t True\n",
            "C \t C \t\t True\n",
            "A \t A \t\t True\n",
            "C \t B \t\t False\n",
            "C \t C \t\t True\n",
            "\n",
            " Prediksi benar =  129 , dari jumlat uji =  188\n",
            "              precision    recall  f1-score   support\n",
            "\n",
            "           0       0.58      0.56      0.57        62\n",
            "           1       0.53      0.49      0.51        63\n",
            "           2       0.90      1.00      0.95        63\n",
            "\n",
            "    accuracy                           0.69       188\n",
            "   macro avg       0.67      0.69      0.68       188\n",
            "weighted avg       0.67      0.69      0.68       188\n",
            "\n",
            "[[35 27  0]\n",
            " [25 31  7]\n",
            " [ 0  0 63]]\n"
          ],
          "name": "stdout"
        },
        {
          "output_type": "display_data",
          "data": {
            "image/png": "[encoded data removed]",
            "text/plain": [
              "<Figure size 432x288 with 2 Axes>"
            ]
          },
          "metadata": {
            "tags": [],
            "needs_background": "light"
          }
        }
      ]
    },
    {
      "cell_type": "code",
      "metadata": {
        "id": "nzT6arWaiWl0",
        "colab": {
          "base_uri": "https://localhost:8080/"
        },
        "outputId": "7f99c958-b052-42bd-95cf-05fe3c1dca46"
      },
      "source": [
        "for i in range (np.shape(acc)[0]):\n",
        "  print(loss[i], val_loss[i])"
      ],
      "execution_count": 218,
      "outputs": [
        {
          "output_type": "stream",
          "text": [
            "1.1868752241134644 1.1076431274414062\n",
            "1.1528096199035645 1.094113826751709\n",
            "1.1243329048156738 1.088570237159729\n",
            "1.1228057146072388 1.0863031148910522\n",
            "1.1352064609527588 1.0850578546524048\n",
            "1.1681289672851562 1.0840604305267334\n",
            "1.1335068941116333 1.083074688911438\n",
            "1.118509292602539 1.0821999311447144\n",
            "1.1300932168960571 1.081154227256775\n",
            "1.1229993104934692 1.0802781581878662\n",
            "1.1478586196899414 1.0794342756271362\n",
            "1.1246414184570312 1.0786200761795044\n",
            "1.1181492805480957 1.0776478052139282\n",
            "1.1256872415542603 1.076650619506836\n",
            "1.1370275020599365 1.0758646726608276\n",
            "1.1133617162704468 1.0749192237854004\n",
            "1.1301395893096924 1.074012279510498\n",
            "1.1563421487808228 1.0730150938034058\n",
            "1.130778193473816 1.0721986293792725\n",
            "1.1212100982666016 1.0713293552398682\n",
            "1.125584602355957 1.0705056190490723\n",
            "1.0996252298355103 1.0696355104446411\n",
            "1.1239467859268188 1.068726658821106\n",
            "1.1207773685455322 1.0679078102111816\n",
            "1.1069389581680298 1.0670005083084106\n",
            "1.1135872602462769 1.0659655332565308\n",
            "1.092982530593872 1.065071940422058\n",
            "1.109750509262085 1.0642203092575073\n",
            "1.0988622903823853 1.0633052587509155\n",
            "1.0991579294204712 1.0624496936798096\n",
            "1.0938502550125122 1.0617170333862305\n",
            "1.0922179222106934 1.0608090162277222\n",
            "1.1093186140060425 1.0599465370178223\n",
            "1.0996317863464355 1.0591353178024292\n",
            "1.1237818002700806 1.0583783388137817\n",
            "1.10955810546875 1.0575624704360962\n",
            "1.1054669618606567 1.0566753149032593\n",
            "1.1129919290542603 1.055844783782959\n",
            "1.1030155420303345 1.055014729499817\n",
            "1.1115002632141113 1.0540879964828491\n",
            "1.0886400938034058 1.0531266927719116\n",
            "1.1012438535690308 1.0523531436920166\n",
            "1.1015596389770508 1.0515438318252563\n",
            "1.068061351776123 1.0507274866104126\n",
            "1.1041380167007446 1.0498831272125244\n",
            "1.0939449071884155 1.0489928722381592\n",
            "1.112295150756836 1.0481213331222534\n",
            "1.0772639513015747 1.0471625328063965\n",
            "1.1079142093658447 1.046323537826538\n",
            "1.0946961641311646 1.0454740524291992\n",
            "1.0907689332962036 1.044594645500183\n",
            "1.081173062324524 1.0435892343521118\n",
            "1.0793342590332031 1.04268217086792\n",
            "1.1097923517227173 1.0419046878814697\n",
            "1.0780162811279297 1.0409722328186035\n",
            "1.0882278680801392 1.0401031970977783\n",
            "1.0891871452331543 1.0391466617584229\n",
            "1.098246693611145 1.0382651090621948\n",
            "1.0756571292877197 1.037288784980774\n",
            "1.0748213529586792 1.036419153213501\n",
            "1.06833815574646 1.0355546474456787\n",
            "1.0723974704742432 1.034593105316162\n",
            "1.0779743194580078 1.033671498298645\n",
            "1.0867201089859009 1.0327626466751099\n",
            "1.0790164470672607 1.0318557024002075\n",
            "1.066848635673523 1.031014323234558\n",
            "1.0666922330856323 1.0301014184951782\n",
            "1.0730291604995728 1.0291098356246948\n",
            "1.079142689704895 1.028212070465088\n",
            "1.0626945495605469 1.0272529125213623\n",
            "1.0604946613311768 1.0262560844421387\n",
            "1.074242353439331 1.025256872177124\n",
            "1.0624178647994995 1.0242524147033691\n",
            "1.0721518993377686 1.0233458280563354\n",
            "1.038893222808838 1.0223408937454224\n",
            "1.055971622467041 1.0213388204574585\n",
            "1.0680484771728516 1.0203777551651\n",
            "1.0757648944854736 1.0194220542907715\n",
            "1.0751458406448364 1.0185004472732544\n",
            "1.069671630859375 1.0175279378890991\n",
            "1.0290240049362183 1.0164819955825806\n",
            "1.0683934688568115 1.0154141187667847\n",
            "1.0764479637145996 1.0144590139389038\n",
            "1.0535318851470947 1.0134793519973755\n",
            "1.0539268255233765 1.0123727321624756\n",
            "1.0790241956710815 1.0113983154296875\n",
            "1.0579607486724854 1.010319471359253\n",
            "1.043145775794983 1.0093166828155518\n",
            "1.0563976764678955 1.0082532167434692\n",
            "1.0628736019134521 1.0072803497314453\n",
            "1.053708791732788 1.0062123537063599\n",
            "1.061718463897705 1.0051360130310059\n",
            "1.0465117692947388 1.004102110862732\n",
            "1.0279455184936523 1.0029147863388062\n",
            "1.0405608415603638 1.0018049478530884\n",
            "1.0681264400482178 1.0007797479629517\n",
            "1.0468403100967407 0.9997928142547607\n",
            "1.0523172616958618 0.9985893964767456\n",
            "1.0371695756912231 0.9973788857460022\n",
            "1.0375421047210693 0.9961799383163452\n"
          ],
          "name": "stdout"
        }
      ]
    },
    {
      "cell_type": "code",
      "metadata": {
        "id": "9hM-hNfXjmmr",
        "colab": {
          "base_uri": "https://localhost:8080/",
          "height": 422
        },
        "outputId": "62aa2637-af16-439c-cb70-6675b701521b"
      },
      "source": [
        "def build_model_noDO(layer = 1, nodes = 1 ):\n",
        "    opt = Adam(lr=0.001)\n",
        "    model = Sequential()\n",
        "    model.add(Dense(nodes, input_dim = X_size, activation = 'relu', use_bias=True))\n",
        "    model.add(Dropout(0.2))\n",
        "    for i in range (layer-1):\n",
        "        model.add(Dense(nodes, activation = 'relu', use_bias=True))\n",
        "        model.add(Dropout(0.2))   \n",
        "    model.add(Dense(Y_size, activation = 'softmax'))\n",
        "    \n",
        "    # compile model\n",
        "    model.compile(opt, loss = 'categorical_crossentropy', metrics = ['accuracy'])\n",
        "    \n",
        "    return model\n",
        "\n",
        "\n",
        "from keras.callbacks import TensorBoard\n",
        "\n",
        "cb = TensorBoard()\n",
        "\n",
        "layer = 2\n",
        "nodes = 50\n",
        "\n",
        "X_train, X_test, Y_train, Y_test = get_fold(split_data, 2)\n",
        "\n",
        "X_size = np.shape(X_train)[1]\n",
        "Y_size = np.shape(Y_train)[1]\n",
        "\n",
        "model = build_model_noDO(layer=2,nodes=5)\n",
        "\n",
        "history_callback = model.fit(X_train, Y_train,\n",
        "                          batch_size = 5,\n",
        "                          epochs = 100,\n",
        "                          verbose = 0,\n",
        "                          validation_data = (X_test, Y_test), callbacks = [cb])\n",
        "score = model.evaluate(X_test, Y_test, verbose = 0)\n",
        "\n",
        "import matplotlib.pyplot as plt\n",
        "% matplotlib inline\n",
        "\n",
        "fig, (ax1,ax2) = plt.subplots(2, figsize = (8,6))\n",
        "\n",
        "acc = history_callback.history['accuracy']\n",
        "loss = history_callback.history['loss']\n",
        "val_acc = history_callback.history['val_accuracy']\n",
        "val_loss = history_callback.history['val_loss']\n",
        "ax1.plot(acc, label='test')\n",
        "ax1.plot(val_acc, label='train')\n",
        "ax2.plot(loss, label='test')\n",
        "ax2.plot(val_loss, label='train')\n",
        "ax1.set_ylabel('accuracy')\n",
        "ax2.set_ylabel('loss')\n",
        "ax2.set_xlabel('epochs')\n",
        "\n",
        "ax1.legend()\n",
        "ax2.legend()\n",
        "plt.show()\n",
        "\n",
        "print('Test loss:', score[0])\n",
        "print('Test accuracy:', score[1])"
      ],
      "execution_count": 219,
      "outputs": [
        {
          "output_type": "display_data",
          "data": {
            "image/png": "[encoded data removed]",
            "text/plain": [
              "<Figure size 576x432 with 2 Axes>"
            ]
          },
          "metadata": {
            "tags": [],
            "needs_background": "light"
          }
        },
        {
          "output_type": "stream",
          "text": [
            "Test loss: 0.5100796222686768\n",
            "Test accuracy: 0.7606382966041565\n"
          ],
          "name": "stdout"
        }
      ]
    },
    {
      "cell_type": "code",
      "metadata": {
        "id": "6_JFuKBel_Lm"
      },
      "source": [
        "for i in range (np.shape(acc)[0]):\n",
        "  print(acc[i], val_acc[i])"
      ],
      "execution_count": null,
      "outputs": []
    },
    {
      "cell_type": "code",
      "metadata": {
        "id": "_UogZUPxPNKF",
        "colab": {
          "base_uri": "https://localhost:8080/"
        },
        "outputId": "e046fa39-01b5-4a5e-eb6a-979568390593"
      },
      "source": [
        "for i in range (np.shape(acc)[0]):\n",
        "  print(loss[i], val_loss[i])"
      ],
      "execution_count": 221,
      "outputs": [
        {
          "output_type": "stream",
          "text": [
            "1.2021760940551758 1.1228857040405273\n",
            "1.125523328781128 1.0654757022857666\n",
            "1.1056121587753296 1.026485562324524\n",
            "1.0604594945907593 0.9884703755378723\n",
            "1.032636046409607 0.9334498643875122\n",
            "0.995564341545105 0.8661320209503174\n",
            "0.9537332057952881 0.793875515460968\n",
            "0.9221702218055725 0.7489087581634521\n",
            "0.912209153175354 0.7137140035629272\n",
            "0.887189507484436 0.6825482845306396\n",
            "0.8812126517295837 0.6639900207519531\n",
            "0.8483448624610901 0.647243320941925\n",
            "0.8216397166252136 0.634401261806488\n",
            "0.8202052116394043 0.6243959069252014\n",
            "0.8065618276596069 0.6166625618934631\n",
            "0.7825661301612854 0.6092287302017212\n",
            "0.790283739566803 0.6044954061508179\n",
            "0.8011354207992554 0.5985101461410522\n",
            "0.7567108273506165 0.5942968130111694\n",
            "0.7797322273254395 0.5942655801773071\n",
            "0.7716920971870422 0.5875161290168762\n",
            "0.7679036259651184 0.5874623656272888\n",
            "0.7360559105873108 0.5828761458396912\n",
            "0.7447498440742493 0.5812170505523682\n",
            "0.7367662191390991 0.5757331252098083\n",
            "0.7330660820007324 0.5706685781478882\n",
            "0.7163485288619995 0.5688885450363159\n",
            "0.7159291505813599 0.5657622814178467\n",
            "0.7080623507499695 0.5629326701164246\n",
            "0.7304401993751526 0.5615609884262085\n",
            "0.7215820550918579 0.5601897835731506\n",
            "0.7099003791809082 0.558278501033783\n",
            "0.6917901039123535 0.5557170510292053\n",
            "0.6701118350028992 0.5502048134803772\n",
            "0.6906388998031616 0.5471096634864807\n",
            "0.6898806095123291 0.5450482368469238\n",
            "0.6914832592010498 0.5458151698112488\n",
            "0.6964290738105774 0.5440264940261841\n",
            "0.7035554051399231 0.5438727736473083\n",
            "0.7145951390266418 0.5443035364151001\n",
            "0.6589435338973999 0.539848804473877\n",
            "0.6804789304733276 0.5386738777160645\n",
            "0.6759423017501831 0.5338801741600037\n",
            "0.6772269606590271 0.5323991775512695\n",
            "0.6903409957885742 0.5318488478660583\n",
            "0.6722930669784546 0.5301750898361206\n",
            "0.6513848304748535 0.5273088216781616\n",
            "0.642119288444519 0.5258936285972595\n",
            "0.6651778817176819 0.5235569477081299\n",
            "0.6606075763702393 0.5224277377128601\n",
            "0.6679941415786743 0.5248111486434937\n",
            "0.6570085287094116 0.52236407995224\n",
            "0.6523755788803101 0.5203195214271545\n",
            "0.6548285484313965 0.5192645192146301\n",
            "0.6560589671134949 0.5176375508308411\n",
            "0.6570224761962891 0.5179874300956726\n",
            "0.6538693308830261 0.5168790817260742\n",
            "0.6756058931350708 0.5184797048568726\n",
            "0.6376979947090149 0.5161105394363403\n",
            "0.6369054317474365 0.5165408849716187\n",
            "0.6425321698188782 0.5145053267478943\n",
            "0.6622031927108765 0.5129554867744446\n",
            "0.641383707523346 0.5122882723808289\n",
            "0.6356356143951416 0.5130459666252136\n",
            "0.6482353210449219 0.5095400214195251\n",
            "0.6527369022369385 0.5106424689292908\n",
            "0.6434351801872253 0.5101932287216187\n",
            "0.6546559929847717 0.5115047097206116\n",
            "0.6303510665893555 0.51075279712677\n",
            "0.6313573718070984 0.5074480772018433\n",
            "0.6529202461242676 0.5084795355796814\n",
            "0.6265676617622375 0.5131964087486267\n",
            "0.6499989628791809 0.5079735517501831\n",
            "0.6539587378501892 0.5082300305366516\n",
            "0.6466880440711975 0.506533145904541\n",
            "0.6194342374801636 0.5046049356460571\n",
            "0.6379673480987549 0.5040291547775269\n",
            "0.6286078095436096 0.5075677633285522\n",
            "0.6249323487281799 0.5071931481361389\n",
            "0.6331213712692261 0.5068235397338867\n",
            "0.6226125955581665 0.5019899606704712\n",
            "0.6253278255462646 0.503612220287323\n",
            "0.6240833401679993 0.5008559823036194\n",
            "0.6299900412559509 0.505992591381073\n",
            "0.632474958896637 0.5045977830886841\n",
            "0.6316810250282288 0.5064625144004822\n",
            "0.6427659392356873 0.507300615310669\n",
            "0.6251732707023621 0.5107777118682861\n",
            "0.6149312853813171 0.5096207857131958\n",
            "0.6463164687156677 0.5107089281082153\n",
            "0.6141501069068909 0.5085914134979248\n",
            "0.6310028433799744 0.5067827701568604\n",
            "0.6259105205535889 0.5064942240715027\n",
            "0.6324606537818909 0.5116159915924072\n",
            "0.6255640387535095 0.5085380673408508\n",
            "0.6335455179214478 0.5087376236915588\n",
            "0.634355902671814 0.512875497341156\n",
            "0.617755651473999 0.513026237487793\n",
            "0.6285539865493774 0.5135672688484192\n",
            "0.6302844882011414 0.5100796222686768\n",
            "1.2021760940551758 1.1228857040405273\n",
            "1.125523328781128 1.0654757022857666\n",
            "1.1056121587753296 1.026485562324524\n",
            "1.0604594945907593 0.9884703755378723\n",
            "1.032636046409607 0.9334498643875122\n",
            "0.995564341545105 0.8661320209503174\n",
            "0.9537332057952881 0.793875515460968\n",
            "0.9221702218055725 0.7489087581634521\n",
            "0.912209153175354 0.7137140035629272\n",
            "0.887189507484436 0.6825482845306396\n",
            "0.8812126517295837 0.6639900207519531\n",
            "0.8483448624610901 0.647243320941925\n",
            "0.8216397166252136 0.634401261806488\n",
            "0.8202052116394043 0.6243959069252014\n",
            "0.8065618276596069 0.6166625618934631\n",
            "0.7825661301612854 0.6092287302017212\n",
            "0.790283739566803 0.6044954061508179\n",
            "0.8011354207992554 0.5985101461410522\n",
            "0.7567108273506165 0.5942968130111694\n",
            "0.7797322273254395 0.5942655801773071\n",
            "0.7716920971870422 0.5875161290168762\n",
            "0.7679036259651184 0.5874623656272888\n",
            "0.7360559105873108 0.5828761458396912\n",
            "0.7447498440742493 0.5812170505523682\n",
            "0.7367662191390991 0.5757331252098083\n",
            "0.7330660820007324 0.5706685781478882\n",
            "0.7163485288619995 0.5688885450363159\n",
            "0.7159291505813599 0.5657622814178467\n",
            "0.7080623507499695 0.5629326701164246\n",
            "0.7304401993751526 0.5615609884262085\n",
            "0.7215820550918579 0.5601897835731506\n",
            "0.7099003791809082 0.558278501033783\n",
            "0.6917901039123535 0.5557170510292053\n",
            "0.6701118350028992 0.5502048134803772\n",
            "0.6906388998031616 0.5471096634864807\n",
            "0.6898806095123291 0.5450482368469238\n",
            "0.6914832592010498 0.5458151698112488\n",
            "0.6964290738105774 0.5440264940261841\n",
            "0.7035554051399231 0.5438727736473083\n",
            "0.7145951390266418 0.5443035364151001\n",
            "0.6589435338973999 0.539848804473877\n",
            "0.6804789304733276 0.5386738777160645\n",
            "0.6759423017501831 0.5338801741600037\n",
            "0.6772269606590271 0.5323991775512695\n",
            "0.6903409957885742 0.5318488478660583\n",
            "0.6722930669784546 0.5301750898361206\n",
            "0.6513848304748535 0.5273088216781616\n",
            "0.642119288444519 0.5258936285972595\n",
            "0.6651778817176819 0.5235569477081299\n",
            "0.6606075763702393 0.5224277377128601\n",
            "0.6679941415786743 0.5248111486434937\n",
            "0.6570085287094116 0.52236407995224\n",
            "0.6523755788803101 0.5203195214271545\n",
            "0.6548285484313965 0.5192645192146301\n",
            "0.6560589671134949 0.5176375508308411\n",
            "0.6570224761962891 0.5179874300956726\n",
            "0.6538693308830261 0.5168790817260742\n",
            "0.6756058931350708 0.5184797048568726\n",
            "0.6376979947090149 0.5161105394363403\n",
            "0.6369054317474365 0.5165408849716187\n",
            "0.6425321698188782 0.5145053267478943\n",
            "0.6622031927108765 0.5129554867744446\n",
            "0.641383707523346 0.5122882723808289\n",
            "0.6356356143951416 0.5130459666252136\n",
            "0.6482353210449219 0.5095400214195251\n",
            "0.6527369022369385 0.5106424689292908\n",
            "0.6434351801872253 0.5101932287216187\n",
            "0.6546559929847717 0.5115047097206116\n",
            "0.6303510665893555 0.51075279712677\n",
            "0.6313573718070984 0.5074480772018433\n",
            "0.6529202461242676 0.5084795355796814\n",
            "0.6265676617622375 0.5131964087486267\n",
            "0.6499989628791809 0.5079735517501831\n",
            "0.6539587378501892 0.5082300305366516\n",
            "0.6466880440711975 0.506533145904541\n",
            "0.6194342374801636 0.5046049356460571\n",
            "0.6379673480987549 0.5040291547775269\n",
            "0.6286078095436096 0.5075677633285522\n",
            "0.6249323487281799 0.5071931481361389\n",
            "0.6331213712692261 0.5068235397338867\n",
            "0.6226125955581665 0.5019899606704712\n",
            "0.6253278255462646 0.503612220287323\n",
            "0.6240833401679993 0.5008559823036194\n",
            "0.6299900412559509 0.505992591381073\n",
            "0.632474958896637 0.5045977830886841\n",
            "0.6316810250282288 0.5064625144004822\n",
            "0.6427659392356873 0.507300615310669\n",
            "0.6251732707023621 0.5107777118682861\n",
            "0.6149312853813171 0.5096207857131958\n",
            "0.6463164687156677 0.5107089281082153\n",
            "0.6141501069068909 0.5085914134979248\n",
            "0.6310028433799744 0.5067827701568604\n",
            "0.6259105205535889 0.5064942240715027\n",
            "0.6324606537818909 0.5116159915924072\n",
            "0.6255640387535095 0.5085380673408508\n",
            "0.6335455179214478 0.5087376236915588\n",
            "0.634355902671814 0.512875497341156\n",
            "0.617755651473999 0.513026237487793\n",
            "0.6285539865493774 0.5135672688484192\n",
            "0.6302844882011414 0.5100796222686768\n"
          ],
          "name": "stdout"
        }
      ]
    },
    {
      "cell_type": "code",
      "metadata": {
        "id": "K0Spri1gJ2yA"
      },
      "source": [
        ""
      ],
      "execution_count": null,
      "outputs": []
    }
  ]
}
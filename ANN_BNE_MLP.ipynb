{
  "nbformat": 4,
  "nbformat_minor": 0,
  "metadata": {
    "kernelspec": {
      "display_name": "Python 3",
      "language": "python",
      "name": "python3"
    },
    "language_info": {
      "codemirror_mode": {
        "name": "ipython",
        "version": 3
      },
      "file_extension": ".py",
      "mimetype": "text/x-python",
      "name": "python",
      "nbconvert_exporter": "python",
      "pygments_lexer": "ipython3",
      "version": "3.5.6"
    },
    "colab": {
      "name": "ANN_BNE_MLP.ipynb",
      "provenance": [],
      "collapsed_sections": [],
      "include_colab_link": true
    }
  },
  "cells": [
    {
      "cell_type": "markdown",
      "metadata": {
        "id": "view-in-github",
        "colab_type": "text"
      },
      "source": [
        "<a href=\"https://colab.research.google.com/github/azzahrandhr/ann_bne/blob/main/ANN_BNE_MLP.ipynb\" target=\"_parent\"><img src=\"https://colab.research.google.com/assets/colab-badge.svg\" alt=\"Open In Colab\"/></a>"
      ]
    },
    {
      "cell_type": "markdown",
      "metadata": {
        "id": "oi9wWjGcdJvA"
      },
      "source": [
        "## Brazil Nut Effect Analysis with Multilayer Perceptron"
      ]
    },
    {
      "cell_type": "markdown",
      "metadata": {
        "id": "pSPJnEgvUHe_"
      },
      "source": [
        "In this notebook, we are going to build a machine learning model to predict the output of Brazil Nut Effect Phenomena. The aim of this project is classify the output of this phenomena using the feature collected. The output of this dataset is ranging from A to C.  A is when the large ball is on top and C is the large ball does not move from its initial position.\r\n",
        "\r\n",
        "*(Note :  In this notebook I will use 100 dataset, Adam as my Optimizer and ReLU as my activation function)*"
      ]
    },
    {
      "cell_type": "markdown",
      "metadata": {
        "id": "J4AZBUJ5mx5U"
      },
      "source": [
        "Now let's first import the dataset to this notebook"
      ]
    },
    {
      "cell_type": "code",
      "metadata": {
        "id": "a1JEBqiXeDMg"
      },
      "source": [
        "# Code to read csv file into Colaboratory:\n",
        "!pip install -U -q PyDrive\n",
        "from pydrive.auth import GoogleAuth\n",
        "from pydrive.drive import GoogleDrive\n",
        "from google.colab import auth\n",
        "from oauth2client.client import GoogleCredentials\n",
        "\n",
        "# Authenticate and create the PyDrive client.\n",
        "auth.authenticate_user()\n",
        "gauth = GoogleAuth()\n",
        "gauth.credentials = GoogleCredentials.get_application_default()\n",
        "drive = GoogleDrive(gauth)\n"
      ],
      "execution_count": 1,
      "outputs": []
    },
    {
      "cell_type": "code",
      "metadata": {
        "id": "e4opkcAae6j-"
      },
      "source": [
        "link = 'https://drive.google.com/file/d/1hmLig8gwOanVSUg4tpoMpEf2rdLrKs-V/view?usp=sharing'\n",
        "fileDownloaded = drive.CreateFile({'id':'1hmLig8gwOanVSUg4tpoMpEf2rdLrKs-V'})"
      ],
      "execution_count": 2,
      "outputs": []
    },
    {
      "cell_type": "code",
      "metadata": {
        "id": "U6kGQpX5gwSG"
      },
      "source": [
        "fileDownloaded.GetContentFile('20200606_dataexp.csv')"
      ],
      "execution_count": 3,
      "outputs": []
    },
    {
      "cell_type": "code",
      "metadata": {
        "id": "RqIPA-nBfMx2",
        "colab": {
          "base_uri": "https://localhost:8080/",
          "height": 225
        },
        "outputId": "4dc90de5-5c2a-4067-e73e-874c1a6d0546"
      },
      "source": [
        "import pandas as pd\n",
        "import io\n",
        "df3 = pd.read_csv('20200606_dataexp.csv',delimiter=',', index_col='index')\n",
        "df3.head()"
      ],
      "execution_count": 4,
      "outputs": [
        {
          "output_type": "execute_result",
          "data": {
            "text/html": [
              "<div>\n",
              "<style scoped>\n",
              "    .dataframe tbody tr th:only-of-type {\n",
              "        vertical-align: middle;\n",
              "    }\n",
              "\n",
              "    .dataframe tbody tr th {\n",
              "        vertical-align: top;\n",
              "    }\n",
              "\n",
              "    .dataframe thead th {\n",
              "        text-align: right;\n",
              "    }\n",
              "</style>\n",
              "<table border=\"1\" class=\"dataframe\">\n",
              "  <thead>\n",
              "    <tr style=\"text-align: right;\">\n",
              "      <th></th>\n",
              "      <th>Unnamed: 0</th>\n",
              "      <th>kn</th>\n",
              "      <th>gn</th>\n",
              "      <th>n_bed</th>\n",
              "      <th>d_int</th>\n",
              "      <th>d_bed</th>\n",
              "      <th>rho_int</th>\n",
              "      <th>rho_bed</th>\n",
              "      <th>freq</th>\n",
              "      <th>amp</th>\n",
              "      <th>gamma</th>\n",
              "      <th>zint_i</th>\n",
              "      <th>deg_i</th>\n",
              "      <th>E_pot</th>\n",
              "      <th>zint_f</th>\n",
              "      <th>deg_f</th>\n",
              "      <th>E_pot.1</th>\n",
              "      <th>label</th>\n",
              "    </tr>\n",
              "    <tr>\n",
              "      <th>index</th>\n",
              "      <th></th>\n",
              "      <th></th>\n",
              "      <th></th>\n",
              "      <th></th>\n",
              "      <th></th>\n",
              "      <th></th>\n",
              "      <th></th>\n",
              "      <th></th>\n",
              "      <th></th>\n",
              "      <th></th>\n",
              "      <th></th>\n",
              "      <th></th>\n",
              "      <th></th>\n",
              "      <th></th>\n",
              "      <th></th>\n",
              "      <th></th>\n",
              "      <th></th>\n",
              "      <th></th>\n",
              "    </tr>\n",
              "  </thead>\n",
              "  <tbody>\n",
              "    <tr>\n",
              "      <th>0</th>\n",
              "      <td>0</td>\n",
              "      <td>1611</td>\n",
              "      <td>384</td>\n",
              "      <td>156</td>\n",
              "      <td>0.0148</td>\n",
              "      <td>0.0050</td>\n",
              "      <td>877.87</td>\n",
              "      <td>1000.33</td>\n",
              "      <td>18.97</td>\n",
              "      <td>0.006588</td>\n",
              "      <td>9.55</td>\n",
              "      <td>0.1074</td>\n",
              "      <td>147</td>\n",
              "      <td>0.0948</td>\n",
              "      <td>1.1074</td>\n",
              "      <td>166</td>\n",
              "      <td>0.1105</td>\n",
              "      <td>A</td>\n",
              "    </tr>\n",
              "    <tr>\n",
              "      <th>1</th>\n",
              "      <td>1</td>\n",
              "      <td>1611</td>\n",
              "      <td>384</td>\n",
              "      <td>156</td>\n",
              "      <td>0.0148</td>\n",
              "      <td>0.0050</td>\n",
              "      <td>791.04</td>\n",
              "      <td>1000.33</td>\n",
              "      <td>18.97</td>\n",
              "      <td>0.006588</td>\n",
              "      <td>9.55</td>\n",
              "      <td>0.1074</td>\n",
              "      <td>147</td>\n",
              "      <td>0.0948</td>\n",
              "      <td>1.1074</td>\n",
              "      <td>166</td>\n",
              "      <td>0.1105</td>\n",
              "      <td>A</td>\n",
              "    </tr>\n",
              "    <tr>\n",
              "      <th>2</th>\n",
              "      <td>2</td>\n",
              "      <td>1730</td>\n",
              "      <td>311</td>\n",
              "      <td>164</td>\n",
              "      <td>0.0128</td>\n",
              "      <td>0.0049</td>\n",
              "      <td>747.53</td>\n",
              "      <td>1106.81</td>\n",
              "      <td>26.60</td>\n",
              "      <td>0.010000</td>\n",
              "      <td>18.60</td>\n",
              "      <td>0.0946</td>\n",
              "      <td>183</td>\n",
              "      <td>0.0897</td>\n",
              "      <td>1.0659</td>\n",
              "      <td>180</td>\n",
              "      <td>0.1010</td>\n",
              "      <td>A</td>\n",
              "    </tr>\n",
              "    <tr>\n",
              "      <th>3</th>\n",
              "      <td>3</td>\n",
              "      <td>1730</td>\n",
              "      <td>311</td>\n",
              "      <td>164</td>\n",
              "      <td>0.0128</td>\n",
              "      <td>0.0049</td>\n",
              "      <td>791.04</td>\n",
              "      <td>1106.81</td>\n",
              "      <td>26.60</td>\n",
              "      <td>0.010000</td>\n",
              "      <td>18.60</td>\n",
              "      <td>0.0946</td>\n",
              "      <td>183</td>\n",
              "      <td>0.0897</td>\n",
              "      <td>1.0659</td>\n",
              "      <td>180</td>\n",
              "      <td>0.1010</td>\n",
              "      <td>A</td>\n",
              "    </tr>\n",
              "    <tr>\n",
              "      <th>4</th>\n",
              "      <td>4</td>\n",
              "      <td>1396</td>\n",
              "      <td>332</td>\n",
              "      <td>102</td>\n",
              "      <td>0.0123</td>\n",
              "      <td>0.0051</td>\n",
              "      <td>700.26</td>\n",
              "      <td>1104.93</td>\n",
              "      <td>28.55</td>\n",
              "      <td>0.010000</td>\n",
              "      <td>25.33</td>\n",
              "      <td>0.1057</td>\n",
              "      <td>144</td>\n",
              "      <td>0.0668</td>\n",
              "      <td>1.0654</td>\n",
              "      <td>156</td>\n",
              "      <td>0.0470</td>\n",
              "      <td>A</td>\n",
              "    </tr>\n",
              "  </tbody>\n",
              "</table>\n",
              "</div>"
            ],
            "text/plain": [
              "       Unnamed: 0    kn   gn  n_bed  ...  zint_f  deg_f  E_pot.1  label\n",
              "index                                ...                               \n",
              "0               0  1611  384    156  ...  1.1074    166   0.1105      A\n",
              "1               1  1611  384    156  ...  1.1074    166   0.1105      A\n",
              "2               2  1730  311    164  ...  1.0659    180   0.1010      A\n",
              "3               3  1730  311    164  ...  1.0659    180   0.1010      A\n",
              "4               4  1396  332    102  ...  1.0654    156   0.0470      A\n",
              "\n",
              "[5 rows x 18 columns]"
            ]
          },
          "metadata": {
            "tags": []
          },
          "execution_count": 4
        }
      ]
    },
    {
      "cell_type": "markdown",
      "metadata": {
        "id": "m9tJs6X8nMIV"
      },
      "source": [
        "Importing libraries that we will be using he. in this notebook we will predict the classification using keras"
      ]
    },
    {
      "cell_type": "code",
      "metadata": {
        "id": "LYpOVugodJvB"
      },
      "source": [
        "import numpy as np\n",
        "from numpy import loadtxt\n",
        "from keras.models import Sequential\n",
        "from keras.layers import Dense, Dropout\n",
        "from keras.optimizers import Adam, SGD\n",
        "import pandas as pd\n",
        "from sklearn import preprocessing\n",
        "import random"
      ],
      "execution_count": 5,
      "outputs": []
    },
    {
      "cell_type": "markdown",
      "metadata": {
        "id": "EACliEk5niqN"
      },
      "source": [
        "The target variable is classified based on the end position of the large ball (zint_f). if it does not move from the initial position we label it C, if it is on top then we label it A beside that we label it B"
      ]
    },
    {
      "cell_type": "code",
      "metadata": {
        "id": "dsekXhrIdJvF",
        "colab": {
          "base_uri": "https://localhost:8080/"
        },
        "outputId": "3631136a-7a5b-4138-9c9a-9164cdd37b7a"
      },
      "source": [
        "# load dataset\n",
        "data = pd.read_csv('20200606_dataexp.csv')\n",
        "print('Jumlah data : ', data.shape[0])\n",
        "data.head()\n",
        "\n",
        "#Preprocessing :\n",
        "\n",
        "contact_density = [] #kontaktopi\n",
        "Class = []\n",
        "\n",
        "#create a target variable\n",
        "for i in range (data.shape[0]):\n",
        "  if (data.loc[i,'zint_f']<= data.loc[i,'zint_i']*2):\n",
        "        u = 'C'\n",
        "  elif (data.loc[i,'zint_f']>= 1 - (data.loc[i,'zint_i'])*2):\n",
        "        u = 'A'\n",
        "  else:\n",
        "        u = 'B'\n",
        "  Class.append(u)\n",
        "\n",
        "data['Class'] = Class\n",
        "\n",
        "data.drop(data.columns[data.columns.str.contains('Unnamed',case = False)],axis = 1, inplace = True)\n",
        "data.drop(data.columns[data.columns.str.contains('index',case = False)],axis = 1, inplace = True)\n"
      ],
      "execution_count": 6,
      "outputs": [
        {
          "output_type": "stream",
          "text": [
            "Jumlah data :  913\n"
          ],
          "name": "stdout"
        }
      ]
    },
    {
      "cell_type": "markdown",
      "metadata": {
        "id": "eSGm47vL7hT3"
      },
      "source": [
        "First take 100 data first to cut run time"
      ]
    },
    {
      "cell_type": "code",
      "metadata": {
        "id": "2qmYMiZwUAhi"
      },
      "source": [
        "df = data.copy()\r\n",
        "data = data.groupby(by = 'Class', sort = 'zint_f').head(250)"
      ],
      "execution_count": 7,
      "outputs": []
    },
    {
      "cell_type": "markdown",
      "metadata": {
        "id": "Ud9PvzmPorEF"
      },
      "source": [
        "This is how the data points is distributed, we could see that B have more value than anything else"
      ]
    },
    {
      "cell_type": "code",
      "metadata": {
        "id": "GFyEnNLxyyn-",
        "colab": {
          "base_uri": "https://localhost:8080/",
          "height": 279
        },
        "outputId": "5c26d3ce-051f-461c-a0ac-5e61a633e957"
      },
      "source": [
        "data['Class'].value_counts().plot(kind='bar')"
      ],
      "execution_count": 8,
      "outputs": [
        {
          "output_type": "execute_result",
          "data": {
            "text/plain": [
              "<matplotlib.axes._subplots.AxesSubplot at 0x7f3d344f6b90>"
            ]
          },
          "metadata": {
            "tags": []
          },
          "execution_count": 8
        },
        {
          "output_type": "display_data",
          "data": {
            "image/png": "[encoded data removed]",
            "text/plain": [
              "<Figure size 432x288 with 1 Axes>"
            ]
          },
          "metadata": {
            "tags": [],
            "needs_background": "light"
          }
        }
      ]
    },
    {
      "cell_type": "code",
      "metadata": {
        "colab": {
          "base_uri": "https://localhost:8080/"
        },
        "id": "0c40nK29U_RN",
        "outputId": "1aed334d-39b9-4155-feeb-f93c391e4438"
      },
      "source": [
        "data.shape"
      ],
      "execution_count": 9,
      "outputs": [
        {
          "output_type": "execute_result",
          "data": {
            "text/plain": [
              "(750, 18)"
            ]
          },
          "metadata": {
            "tags": []
          },
          "execution_count": 9
        }
      ]
    },
    {
      "cell_type": "markdown",
      "metadata": {
        "id": "yNPJV6oXwffw"
      },
      "source": [
        "We look at the correlation by looking at the heatmap and pairplot"
      ]
    },
    {
      "cell_type": "code",
      "metadata": {
        "id": "2WP335U3abVV",
        "colab": {
          "base_uri": "https://localhost:8080/",
          "height": 425
        },
        "outputId": "eb58708d-4d5e-4c8d-914c-d6194b733ae1"
      },
      "source": [
        "from matplotlib import pyplot as plt\n",
        "import seaborn as sns\n",
        "\n",
        "corrmat = data.corr()\n",
        "f, ax = plt.subplots(figsize=(9, 6))\n",
        "sns.heatmap(corrmat, vmax=.8, square=True)"
      ],
      "execution_count": 10,
      "outputs": [
        {
          "output_type": "execute_result",
          "data": {
            "text/plain": [
              "<matplotlib.axes._subplots.AxesSubplot at 0x7f3d3448b510>"
            ]
          },
          "metadata": {
            "tags": []
          },
          "execution_count": 10
        },
        {
          "output_type": "display_data",
          "data": {
            "image/png": "[encoded data removed]",
            "text/plain": [
              "<Figure size 648x432 with 2 Axes>"
            ]
          },
          "metadata": {
            "tags": [],
            "needs_background": "light"
          }
        }
      ]
    },
    {
      "cell_type": "code",
      "metadata": {
        "id": "EsvuM5mWbCZ5"
      },
      "source": [
        "#sns.pairplot(data)"
      ],
      "execution_count": 11,
      "outputs": []
    },
    {
      "cell_type": "markdown",
      "metadata": {
        "id": "CPRLAN6dwyzE"
      },
      "source": [
        "From the data lets take the known initial value as feature for training :\r\n",
        "- kn and gn : is a physics coefficient\r\n",
        "- n_bed : number of grain (small ball)\r\n",
        "- d_int : diameter of the intruder (large ball)\r\n",
        "- d_bed : diameter of the grain \r\n",
        "- rho_int : density of the intruder\r\n",
        "- rho_bed : density of the grain\r\n",
        "- freq : frequency of the shake\r\n",
        "- amp : amplitudo of shake\r\n",
        "- zint_i : intitial position of the intruder"
      ]
    },
    {
      "cell_type": "code",
      "metadata": {
        "id": "TPjQM539dJvL",
        "colab": {
          "base_uri": "https://localhost:8080/"
        },
        "outputId": "7cd3e47b-5c80-428d-f89e-8762459c95eb"
      },
      "source": [
        "X = data[['kn','gn','n_bed','d_int','d_bed','rho_int','rho_bed','freq','amp','zint_i']]\n",
        "\n",
        "scaler = preprocessing.StandardScaler()\n",
        "fit_scale = scaler.fit(X)\n",
        "X_scaled = fit_scale.transform(X)\n",
        "X_size = X_scaled.shape[1]\n",
        "\n",
        "print(\"Banyak fitur : \", X_size)"
      ],
      "execution_count": 12,
      "outputs": [
        {
          "output_type": "stream",
          "text": [
            "Banyak fitur :  10\n"
          ],
          "name": "stdout"
        }
      ]
    },
    {
      "cell_type": "code",
      "metadata": {
        "id": "5jH5DC5odJvN",
        "colab": {
          "base_uri": "https://localhost:8080/"
        },
        "outputId": "1ab8519c-52be-40a2-839b-af01dd9c9316"
      },
      "source": [
        "from sklearn.externals import joblib\n",
        "scaler_filename = \"scaler.save\"\n",
        "joblib.dump(fit_scale, scaler_filename) "
      ],
      "execution_count": 13,
      "outputs": [
        {
          "output_type": "stream",
          "text": [
            "/usr/local/lib/python3.7/dist-packages/sklearn/externals/joblib/__init__.py:15: FutureWarning: sklearn.externals.joblib is deprecated in 0.21 and will be removed in 0.23. Please import this functionality directly from joblib, which can be installed with: pip install joblib. If this warning is raised when loading pickled models, you may need to re-serialize those models with scikit-learn 0.21+.\n",
            "  warnings.warn(msg, category=FutureWarning)\n"
          ],
          "name": "stderr"
        },
        {
          "output_type": "execute_result",
          "data": {
            "text/plain": [
              "['scaler.save']"
            ]
          },
          "metadata": {
            "tags": []
          },
          "execution_count": 13
        }
      ]
    },
    {
      "cell_type": "code",
      "metadata": {
        "scrolled": true,
        "id": "EJS05r7pdJvQ"
      },
      "source": [
        "data2 = pd.DataFrame(X_scaled)\n",
        "\n",
        "from sklearn import preprocessing\n",
        "le = preprocessing.LabelEncoder()\n",
        "le.fit(data[\"Class\"])\n",
        "data2[\"Class\"]=le.transform(data.loc[:,\"Class\"])"
      ],
      "execution_count": 14,
      "outputs": []
    },
    {
      "cell_type": "code",
      "metadata": {
        "id": "WyrSZFKcdJvT",
        "colab": {
          "base_uri": "https://localhost:8080/",
          "height": 343
        },
        "outputId": "c3c88e8e-e8e7-4125-a46c-2eabc45a828c"
      },
      "source": [
        "order = []\n",
        "for i in np.unique(data2[\"Class\"]):\n",
        "    list_temp = []\n",
        "    for j in range (np.shape(data2)[0]):\n",
        "        if data2.loc[j,\"Class\"] == i:\n",
        "            list_temp.append(data2.loc[j,:])\n",
        "    order.append(list_temp)\n",
        "    \n",
        "neworder = []\n",
        "for k in range (np.shape(data2)[0]):\n",
        "    for i in range (np.shape(order)[0]):\n",
        "        if (np.shape(order[i])[0]) > 0:\n",
        "            neworder.append(order[i].pop(0))\n",
        "            \n",
        "data3 = pd.DataFrame(neworder).reset_index()\n",
        "data3 = data3.drop([\"index\"],axis = 1)\n",
        "data3.head(10)"
      ],
      "execution_count": 15,
      "outputs": [
        {
          "output_type": "execute_result",
          "data": {
            "text/html": [
              "<div>\n",
              "<style scoped>\n",
              "    .dataframe tbody tr th:only-of-type {\n",
              "        vertical-align: middle;\n",
              "    }\n",
              "\n",
              "    .dataframe tbody tr th {\n",
              "        vertical-align: top;\n",
              "    }\n",
              "\n",
              "    .dataframe thead th {\n",
              "        text-align: right;\n",
              "    }\n",
              "</style>\n",
              "<table border=\"1\" class=\"dataframe\">\n",
              "  <thead>\n",
              "    <tr style=\"text-align: right;\">\n",
              "      <th></th>\n",
              "      <th>0</th>\n",
              "      <th>1</th>\n",
              "      <th>2</th>\n",
              "      <th>3</th>\n",
              "      <th>4</th>\n",
              "      <th>5</th>\n",
              "      <th>6</th>\n",
              "      <th>7</th>\n",
              "      <th>8</th>\n",
              "      <th>9</th>\n",
              "      <th>Class</th>\n",
              "    </tr>\n",
              "  </thead>\n",
              "  <tbody>\n",
              "    <tr>\n",
              "      <th>0</th>\n",
              "      <td>0.309837</td>\n",
              "      <td>1.167002</td>\n",
              "      <td>0.334452</td>\n",
              "      <td>1.511744</td>\n",
              "      <td>-0.252794</td>\n",
              "      <td>1.751921</td>\n",
              "      <td>-1.604190</td>\n",
              "      <td>-0.858988</td>\n",
              "      <td>-1.726866</td>\n",
              "      <td>0.071336</td>\n",
              "      <td>0.0</td>\n",
              "    </tr>\n",
              "    <tr>\n",
              "      <th>1</th>\n",
              "      <td>0.821998</td>\n",
              "      <td>1.468628</td>\n",
              "      <td>1.527420</td>\n",
              "      <td>-1.612650</td>\n",
              "      <td>0.026571</td>\n",
              "      <td>-0.433356</td>\n",
              "      <td>-1.283852</td>\n",
              "      <td>-0.674343</td>\n",
              "      <td>0.894358</td>\n",
              "      <td>-0.946673</td>\n",
              "      <td>1.0</td>\n",
              "    </tr>\n",
              "    <tr>\n",
              "      <th>2</th>\n",
              "      <td>1.173682</td>\n",
              "      <td>-0.977894</td>\n",
              "      <td>-0.963777</td>\n",
              "      <td>-0.339749</td>\n",
              "      <td>-1.090888</td>\n",
              "      <td>-0.410826</td>\n",
              "      <td>-0.236833</td>\n",
              "      <td>-1.041046</td>\n",
              "      <td>0.894358</td>\n",
              "      <td>1.952349</td>\n",
              "      <td>2.0</td>\n",
              "    </tr>\n",
              "    <tr>\n",
              "      <th>3</th>\n",
              "      <td>0.309837</td>\n",
              "      <td>1.167002</td>\n",
              "      <td>0.334452</td>\n",
              "      <td>1.511744</td>\n",
              "      <td>-0.252794</td>\n",
              "      <td>-0.129190</td>\n",
              "      <td>-1.604190</td>\n",
              "      <td>-0.858988</td>\n",
              "      <td>-1.726866</td>\n",
              "      <td>0.071336</td>\n",
              "      <td>0.0</td>\n",
              "    </tr>\n",
              "    <tr>\n",
              "      <th>4</th>\n",
              "      <td>0.821998</td>\n",
              "      <td>1.468628</td>\n",
              "      <td>1.527420</td>\n",
              "      <td>-1.612650</td>\n",
              "      <td>0.026571</td>\n",
              "      <td>-0.129190</td>\n",
              "      <td>-1.283852</td>\n",
              "      <td>-0.674343</td>\n",
              "      <td>0.894358</td>\n",
              "      <td>-0.946673</td>\n",
              "      <td>1.0</td>\n",
              "    </tr>\n",
              "    <tr>\n",
              "      <th>5</th>\n",
              "      <td>1.224898</td>\n",
              "      <td>1.234030</td>\n",
              "      <td>-1.104127</td>\n",
              "      <td>-1.381213</td>\n",
              "      <td>-0.718402</td>\n",
              "      <td>-0.731240</td>\n",
              "      <td>0.951025</td>\n",
              "      <td>0.061651</td>\n",
              "      <td>-0.442867</td>\n",
              "      <td>1.108197</td>\n",
              "      <td>2.0</td>\n",
              "    </tr>\n",
              "    <tr>\n",
              "      <th>6</th>\n",
              "      <td>0.716151</td>\n",
              "      <td>-1.279520</td>\n",
              "      <td>0.615150</td>\n",
              "      <td>-0.802622</td>\n",
              "      <td>-0.345916</td>\n",
              "      <td>-1.071803</td>\n",
              "      <td>0.209189</td>\n",
              "      <td>-0.200649</td>\n",
              "      <td>0.894358</td>\n",
              "      <td>-0.196782</td>\n",
              "      <td>0.0</td>\n",
              "    </tr>\n",
              "    <tr>\n",
              "      <th>7</th>\n",
              "      <td>1.252213</td>\n",
              "      <td>-1.111950</td>\n",
              "      <td>0.685325</td>\n",
              "      <td>-0.571185</td>\n",
              "      <td>0.119692</td>\n",
              "      <td>-1.775243</td>\n",
              "      <td>1.078922</td>\n",
              "      <td>-1.614827</td>\n",
              "      <td>-1.519124</td>\n",
              "      <td>-0.787478</td>\n",
              "      <td>1.0</td>\n",
              "    </tr>\n",
              "    <tr>\n",
              "      <th>8</th>\n",
              "      <td>1.224898</td>\n",
              "      <td>1.234030</td>\n",
              "      <td>-1.104127</td>\n",
              "      <td>-1.381213</td>\n",
              "      <td>-0.718402</td>\n",
              "      <td>-0.129190</td>\n",
              "      <td>0.951025</td>\n",
              "      <td>0.061651</td>\n",
              "      <td>-0.442867</td>\n",
              "      <td>1.108197</td>\n",
              "      <td>2.0</td>\n",
              "    </tr>\n",
              "    <tr>\n",
              "      <th>9</th>\n",
              "      <td>0.716151</td>\n",
              "      <td>-1.279520</td>\n",
              "      <td>0.615150</td>\n",
              "      <td>-0.802622</td>\n",
              "      <td>-0.345916</td>\n",
              "      <td>-0.129190</td>\n",
              "      <td>0.209189</td>\n",
              "      <td>-0.200649</td>\n",
              "      <td>0.894358</td>\n",
              "      <td>-0.196782</td>\n",
              "      <td>0.0</td>\n",
              "    </tr>\n",
              "  </tbody>\n",
              "</table>\n",
              "</div>"
            ],
            "text/plain": [
              "          0         1         2         3  ...         7         8         9  Class\n",
              "0  0.309837  1.167002  0.334452  1.511744  ... -0.858988 -1.726866  0.071336    0.0\n",
              "1  0.821998  1.468628  1.527420 -1.612650  ... -0.674343  0.894358 -0.946673    1.0\n",
              "2  1.173682 -0.977894 -0.963777 -0.339749  ... -1.041046  0.894358  1.952349    2.0\n",
              "3  0.309837  1.167002  0.334452  1.511744  ... -0.858988 -1.726866  0.071336    0.0\n",
              "4  0.821998  1.468628  1.527420 -1.612650  ... -0.674343  0.894358 -0.946673    1.0\n",
              "5  1.224898  1.234030 -1.104127 -1.381213  ...  0.061651 -0.442867  1.108197    2.0\n",
              "6  0.716151 -1.279520  0.615150 -0.802622  ... -0.200649  0.894358 -0.196782    0.0\n",
              "7  1.252213 -1.111950  0.685325 -0.571185  ... -1.614827 -1.519124 -0.787478    1.0\n",
              "8  1.224898  1.234030 -1.104127 -1.381213  ...  0.061651 -0.442867  1.108197    2.0\n",
              "9  0.716151 -1.279520  0.615150 -0.802622  ... -0.200649  0.894358 -0.196782    0.0\n",
              "\n",
              "[10 rows x 11 columns]"
            ]
          },
          "metadata": {
            "tags": []
          },
          "execution_count": 15
        }
      ]
    },
    {
      "cell_type": "markdown",
      "metadata": {
        "id": "Wyiqm0d5ySla"
      },
      "source": [
        "we use K-Fold for cross validation. we only do 4 fold considering how small the data set is"
      ]
    },
    {
      "cell_type": "code",
      "metadata": {
        "id": "iUCIgwF5dJvV",
        "colab": {
          "base_uri": "https://localhost:8080/"
        },
        "outputId": "7b61f486-115b-4beb-e9d8-afb660c60696"
      },
      "source": [
        "nb_fold = 4\n",
        "sz_fold = int(np.shape(data3)[0] / nb_fold)\n",
        "\n",
        "print(\"Number of testing data : \", sz_fold)\n",
        "print(\"Number of train data : \", sz_fold*(nb_fold-1))\n",
        "print(\"Total : \", sz_fold*nb_fold )\n",
        "print(\"Residu : \", data.shape[0] - sz_fold*nb_fold )\n",
        "\n",
        "split_data = []\n",
        "dummy_data = data3\n",
        "#print(np.shape(dummy_data)[0])\n",
        "\n",
        "for k in range (nb_fold):\n",
        "    fold = []\n",
        "    split_data.append(data3.loc[(k*sz_fold):((k+1)*sz_fold),:])"
      ],
      "execution_count": 16,
      "outputs": [
        {
          "output_type": "stream",
          "text": [
            "Number of testing data :  187\n",
            "Number of train data :  561\n",
            "Total :  748\n",
            "Residu :  2\n"
          ],
          "name": "stdout"
        }
      ]
    },
    {
      "cell_type": "code",
      "metadata": {
        "id": "Z6ZS2TNRdJvX"
      },
      "source": [
        "from sklearn.preprocessing import OneHotEncoder\n",
        "\n",
        "def get_fold(data, k=0):\n",
        "    data_dummy = list(data)\n",
        "    test = data_dummy.pop(k)\n",
        "    #print(test)\n",
        "    train = pd.concat(data_dummy)\n",
        "    #print(train)\n",
        "    \n",
        "    X_train = train.loc[:,[0,1,2,3,4,5,6,7,8,9]]\n",
        "    X_test = test.loc[:,[0,1,2,3,4,5,6,7,8,9]]\n",
        "    \n",
        "    enc = OneHotEncoder()\n",
        "    Y_test = enc.fit_transform(test[[\"Class\"]]).toarray()\n",
        "    Y_train = enc.fit_transform(train[[\"Class\"]]).toarray()\n",
        "\n",
        "    return X_train, X_test, Y_train, Y_test"
      ],
      "execution_count": 17,
      "outputs": []
    },
    {
      "cell_type": "code",
      "metadata": {
        "id": "hOfLueqq1jzn",
        "colab": {
          "base_uri": "https://localhost:8080/"
        },
        "outputId": "31a49b53-3cc1-4792-df61-3e35c788ad02"
      },
      "source": [
        "uhu = list(data)\n",
        "testi = uhu.pop(0)\n",
        "print(testi)"
      ],
      "execution_count": 18,
      "outputs": [
        {
          "output_type": "stream",
          "text": [
            "kn\n"
          ],
          "name": "stdout"
        }
      ]
    },
    {
      "cell_type": "code",
      "metadata": {
        "id": "cL0uC55Sqm6t"
      },
      "source": [
        "#Y_train"
      ],
      "execution_count": 19,
      "outputs": []
    },
    {
      "cell_type": "markdown",
      "metadata": {
        "id": "nFcC4bUVyozA"
      },
      "source": [
        "On creating the model here we can use Stochastic Gradient Descent or Adam with variation in activation function. So far the best model is ReLU"
      ]
    },
    {
      "cell_type": "code",
      "metadata": {
        "id": "cdgl0cTWdJva"
      },
      "source": [
        "def build_model(X_size, Y_size,layer = 1, nodes = 1 ):\n",
        "    opt = Adam(lr=0.001)\n",
        "    model = Sequential()\n",
        "    model.add(Dense(nodes, input_dim = X_size, activation = 'relu', use_bias=True))\n",
        "    model.add(Dropout(0.2))\n",
        "    if layer != 1:\n",
        "      for i in range (layer-1):\n",
        "        model.add(Dense(nodes, activation = 'relu', use_bias=True))\n",
        "        model.add(Dropout(0.2))   \n",
        "    model.add(Dense(Y_size, activation = 'softmax'))\n",
        "    \n",
        "    # compile model\n",
        "    model.compile(opt, loss = 'categorical_crossentropy', metrics = ['accuracy'])\n",
        "    \n",
        "    return model"
      ],
      "execution_count": 20,
      "outputs": []
    },
    {
      "cell_type": "code",
      "metadata": {
        "id": "ERiQAnVPrl8v"
      },
      "source": [
        "#for k in range (nb_fold):\n",
        "#    X_train, X_test, Y_train, Y_test = get_fold(split_data, k)\n",
        "#    print(Y_test)"
      ],
      "execution_count": 21,
      "outputs": []
    },
    {
      "cell_type": "code",
      "metadata": {
        "id": "zrHs2eN6f9r3"
      },
      "source": [
        "import warnings\n",
        "warnings.simplefilter(action='ignore', category=FutureWarning)\n",
        "\n",
        "from keras.callbacks import TensorBoard\n",
        "cb = TensorBoard()\n",
        "\n",
        "\n",
        "def try_model (layer=1, nodes=50):  \n",
        "  list_acc = []\n",
        "\n",
        "  for k in range (nb_fold):\n",
        "      X_train, X_test, Y_train, Y_test = get_fold(split_data, k)\n",
        "\n",
        "      X_size = np.shape(X_train)[1]\n",
        "      Y_size = np.shape(Y_train)[1]\n",
        "\n",
        "      model = build_model(X_size, Y_size, layer=layer,nodes=nodes)\n",
        "\n",
        "      model.fit(X_train, Y_train,\n",
        "                              batch_size = 5,\n",
        "                              epochs = 100,\n",
        "                              verbose = 0,\n",
        "                              validation_data = (X_test, Y_test), callbacks = [cb])\n",
        "      score = model.evaluate(X_test, Y_test, verbose = 0)\n",
        "\n",
        "      print('Test los [fold : %.2f%%] = ' % (score[0]*100))\n",
        "      print('Test acc (fold-%.f) : %.2f%%' % (k, score[1]*100))\n",
        "\n",
        "      list_acc.append(score[1])\n",
        "\n",
        "  print(\"mean acc of %.f layer %.f nodes = %.2f%% (+/- %.2f%%)\" % (layer, nodes, np.mean(list_acc)*100, np.std(list_acc)*100))"
      ],
      "execution_count": 22,
      "outputs": []
    },
    {
      "cell_type": "markdown",
      "metadata": {
        "id": "NXY8t9mkKBht"
      },
      "source": [
        "In here we look at each fold accuracy. The accuracy different depend on how much layer and how many nodes we use. From here we pick the best number of layer and nodes for the model"
      ]
    },
    {
      "cell_type": "code",
      "metadata": {
        "id": "yrOpUE9UjCt1",
        "colab": {
          "base_uri": "https://localhost:8080/"
        },
        "outputId": "ef7320ad-f551-4f43-9640-2d49eac4055d"
      },
      "source": [
        "%%time\n",
        "for layer in (1,2):\n",
        "  for nodes in (1,3,5,10,20,50):\n",
        "    try_model(layer=layer,nodes=nodes)"
      ],
      "execution_count": 23,
      "outputs": [
        {
          "output_type": "stream",
          "text": [
            "Test los [fold : 122.27%] = \n",
            "Test acc (fold-0) : 50.53%\n",
            "Test los [fold : 78.02%] = \n",
            "Test acc (fold-1) : 64.36%\n",
            "Test los [fold : 75.56%] = \n",
            "Test acc (fold-2) : 66.49%\n",
            "Test los [fold : 63.39%] = \n",
            "Test acc (fold-3) : 68.09%\n",
            "mean acc of 1 layer 1 nodes = 62.37% (+/- 6.96%)\n",
            "Test los [fold : 121.08%] = \n",
            "Test acc (fold-0) : 56.38%\n",
            "Test los [fold : 64.43%] = \n",
            "Test acc (fold-1) : 69.15%\n",
            "Test los [fold : 53.48%] = \n",
            "Test acc (fold-2) : 78.72%\n",
            "Test los [fold : 61.92%] = \n",
            "Test acc (fold-3) : 68.09%\n",
            "mean acc of 1 layer 3 nodes = 68.09% (+/- 7.93%)\n",
            "Test los [fold : 114.02%] = \n",
            "Test acc (fold-0) : 54.26%\n",
            "Test los [fold : 52.00%] = \n",
            "Test acc (fold-1) : 71.28%\n",
            "Test los [fold : 48.36%] = \n",
            "Test acc (fold-2) : 78.72%\n",
            "Test los [fold : 59.72%] = \n",
            "Test acc (fold-3) : 69.68%\n",
            "mean acc of 1 layer 5 nodes = 68.48% (+/- 8.90%)\n",
            "Test los [fold : 139.44%] = \n",
            "Test acc (fold-0) : 57.98%\n",
            "Test los [fold : 54.33%] = \n",
            "Test acc (fold-1) : 72.87%\n",
            "Test los [fold : 51.95%] = \n",
            "Test acc (fold-2) : 76.06%\n",
            "Test los [fold : 59.12%] = \n",
            "Test acc (fold-3) : 71.28%\n",
            "mean acc of 1 layer 10 nodes = 69.55% (+/- 6.90%)\n",
            "Test los [fold : 175.81%] = \n",
            "Test acc (fold-0) : 49.47%\n",
            "Test los [fold : 53.32%] = \n",
            "Test acc (fold-1) : 71.28%\n",
            "Test los [fold : 55.33%] = \n",
            "Test acc (fold-2) : 77.66%\n",
            "Test los [fold : 63.35%] = \n",
            "Test acc (fold-3) : 70.21%\n",
            "mean acc of 1 layer 20 nodes = 67.15% (+/- 10.60%)\n",
            "Test los [fold : 197.71%] = \n",
            "Test acc (fold-0) : 55.32%\n",
            "Test los [fold : 59.81%] = \n",
            "Test acc (fold-1) : 72.34%\n",
            "Test los [fold : 61.35%] = \n",
            "Test acc (fold-2) : 74.47%\n",
            "Test los [fold : 74.44%] = \n",
            "Test acc (fold-3) : 68.62%\n",
            "mean acc of 1 layer 50 nodes = 67.69% (+/- 7.44%)\n",
            "Test los [fold : 109.86%] = \n",
            "Test acc (fold-0) : 33.51%\n",
            "Test los [fold : 109.86%] = \n",
            "Test acc (fold-1) : 32.98%\n",
            "Test los [fold : 87.51%] = \n",
            "Test acc (fold-2) : 64.36%\n",
            "Test los [fold : 85.71%] = \n",
            "Test acc (fold-3) : 68.09%\n",
            "mean acc of 2 layer 1 nodes = 49.73% (+/- 16.54%)\n",
            "Test los [fold : 95.17%] = \n",
            "Test acc (fold-0) : 57.45%\n",
            "Test los [fold : 57.77%] = \n",
            "Test acc (fold-1) : 73.40%\n",
            "Test los [fold : 74.45%] = \n",
            "Test acc (fold-2) : 75.00%\n",
            "Test los [fold : 78.40%] = \n",
            "Test acc (fold-3) : 71.81%\n",
            "mean acc of 2 layer 3 nodes = 69.41% (+/- 7.00%)\n",
            "Test los [fold : 112.73%] = \n",
            "Test acc (fold-0) : 55.85%\n",
            "Test los [fold : 55.62%] = \n",
            "Test acc (fold-1) : 69.68%\n",
            "Test los [fold : 54.51%] = \n",
            "Test acc (fold-2) : 79.26%\n",
            "Test los [fold : 58.61%] = \n",
            "Test acc (fold-3) : 75.00%\n",
            "mean acc of 2 layer 5 nodes = 69.95% (+/- 8.82%)\n",
            "Test los [fold : 147.94%] = \n",
            "Test acc (fold-0) : 56.91%\n",
            "Test los [fold : 52.44%] = \n",
            "Test acc (fold-1) : 68.62%\n",
            "Test los [fold : 50.88%] = \n",
            "Test acc (fold-2) : 80.32%\n",
            "Test los [fold : 60.83%] = \n",
            "Test acc (fold-3) : 70.74%\n",
            "mean acc of 2 layer 10 nodes = 69.15% (+/- 8.33%)\n",
            "Test los [fold : 210.63%] = \n",
            "Test acc (fold-0) : 52.66%\n",
            "Test los [fold : 59.53%] = \n",
            "Test acc (fold-1) : 69.68%\n",
            "Test los [fold : 58.11%] = \n",
            "Test acc (fold-2) : 76.06%\n",
            "Test los [fold : 79.75%] = \n",
            "Test acc (fold-3) : 68.09%\n",
            "mean acc of 2 layer 20 nodes = 66.62% (+/- 8.60%)\n",
            "Test los [fold : 282.79%] = \n",
            "Test acc (fold-0) : 53.19%\n",
            "Test los [fold : 85.55%] = \n",
            "Test acc (fold-1) : 68.62%\n",
            "Test los [fold : 88.94%] = \n",
            "Test acc (fold-2) : 72.34%\n",
            "Test los [fold : 114.53%] = \n",
            "Test acc (fold-3) : 68.62%\n",
            "mean acc of 2 layer 50 nodes = 65.69% (+/- 7.38%)\n",
            "CPU times: user 20min 3s, sys: 1min 8s, total: 21min 11s\n",
            "Wall time: 17min 42s\n"
          ],
          "name": "stdout"
        }
      ]
    },
    {
      "cell_type": "code",
      "metadata": {
        "colab": {
          "base_uri": "https://localhost:8080/"
        },
        "id": "X-x2W7BJLkPF",
        "outputId": "48a43861-0ef0-4e44-8b32-b7ba12d39edc"
      },
      "source": [
        "%%time\r\n",
        "for layer in (3,4):\r\n",
        "  for nodes in (1,3,5,10,20,50):\r\n",
        "    try_model(layer=layer,nodes=nodes)"
      ],
      "execution_count": 24,
      "outputs": [
        {
          "output_type": "stream",
          "text": [
            "Test los [fold : 109.86%] = \n",
            "Test acc (fold-0) : 33.51%\n",
            "Test los [fold : 109.86%] = \n",
            "Test acc (fold-1) : 32.98%\n",
            "Test los [fold : 109.86%] = \n",
            "Test acc (fold-2) : 32.98%\n",
            "Test los [fold : 109.86%] = \n",
            "Test acc (fold-3) : 32.98%\n",
            "mean acc of 3 layer 1 nodes = 33.11% (+/- 0.23%)\n",
            "Test los [fold : 120.54%] = \n",
            "Test acc (fold-0) : 49.47%\n",
            "Test los [fold : 74.05%] = \n",
            "Test acc (fold-1) : 66.49%\n",
            "Test los [fold : 109.95%] = \n",
            "Test acc (fold-2) : 33.51%\n",
            "Test los [fold : 70.07%] = \n",
            "Test acc (fold-3) : 62.77%\n",
            "mean acc of 3 layer 3 nodes = 53.06% (+/- 12.94%)\n",
            "Test los [fold : 103.75%] = \n",
            "Test acc (fold-0) : 56.91%\n",
            "Test los [fold : 55.66%] = \n",
            "Test acc (fold-1) : 70.74%\n",
            "Test los [fold : 62.00%] = \n",
            "Test acc (fold-2) : 77.13%\n",
            "Test los [fold : 67.84%] = \n",
            "Test acc (fold-3) : 73.94%\n",
            "mean acc of 3 layer 5 nodes = 69.68% (+/- 7.71%)\n",
            "Test los [fold : 138.79%] = \n",
            "Test acc (fold-0) : 55.32%\n",
            "Test los [fold : 61.31%] = \n",
            "Test acc (fold-1) : 71.81%\n",
            "Test los [fold : 48.68%] = \n",
            "Test acc (fold-2) : 79.26%\n",
            "Test los [fold : 64.07%] = \n",
            "Test acc (fold-3) : 69.68%\n",
            "mean acc of 3 layer 10 nodes = 69.02% (+/- 8.67%)\n",
            "Test los [fold : 200.48%] = \n",
            "Test acc (fold-0) : 54.79%\n",
            "Test los [fold : 53.83%] = \n",
            "Test acc (fold-1) : 73.94%\n",
            "Test los [fold : 59.75%] = \n",
            "Test acc (fold-2) : 77.13%\n",
            "Test los [fold : 78.79%] = \n",
            "Test acc (fold-3) : 65.96%\n",
            "mean acc of 3 layer 20 nodes = 67.95% (+/- 8.62%)\n",
            "Test los [fold : 323.01%] = \n",
            "Test acc (fold-0) : 55.32%\n",
            "Test los [fold : 86.37%] = \n",
            "Test acc (fold-1) : 69.68%\n",
            "Test los [fold : 92.48%] = \n",
            "Test acc (fold-2) : 75.00%\n",
            "Test los [fold : 129.11%] = \n",
            "Test acc (fold-3) : 71.81%\n",
            "mean acc of 3 layer 50 nodes = 67.95% (+/- 7.54%)\n",
            "Test los [fold : 109.86%] = \n",
            "Test acc (fold-0) : 32.98%\n",
            "Test los [fold : 109.87%] = \n",
            "Test acc (fold-1) : 32.98%\n",
            "Test los [fold : 109.87%] = \n",
            "Test acc (fold-2) : 32.98%\n",
            "Test los [fold : 109.86%] = \n",
            "Test acc (fold-3) : 33.51%\n",
            "mean acc of 4 layer 1 nodes = 33.11% (+/- 0.23%)\n",
            "Test los [fold : 189.00%] = \n",
            "Test acc (fold-0) : 52.13%\n",
            "Test los [fold : 86.50%] = \n",
            "Test acc (fold-1) : 65.43%\n",
            "Test los [fold : 72.26%] = \n",
            "Test acc (fold-2) : 76.06%\n",
            "Test los [fold : 86.46%] = \n",
            "Test acc (fold-3) : 60.64%\n",
            "mean acc of 4 layer 3 nodes = 63.56% (+/- 8.65%)\n",
            "Test los [fold : 100.14%] = \n",
            "Test acc (fold-0) : 53.19%\n",
            "Test los [fold : 57.07%] = \n",
            "Test acc (fold-1) : 67.02%\n",
            "Test los [fold : 51.96%] = \n",
            "Test acc (fold-2) : 78.19%\n",
            "Test los [fold : 78.73%] = \n",
            "Test acc (fold-3) : 70.74%\n",
            "mean acc of 4 layer 5 nodes = 67.29% (+/- 9.08%)\n",
            "Test los [fold : 109.68%] = \n",
            "Test acc (fold-0) : 55.32%\n",
            "Test los [fold : 52.99%] = \n",
            "Test acc (fold-1) : 70.21%\n",
            "Test los [fold : 54.40%] = \n",
            "Test acc (fold-2) : 77.66%\n",
            "Test los [fold : 74.76%] = \n",
            "Test acc (fold-3) : 71.28%\n",
            "mean acc of 4 layer 10 nodes = 68.62% (+/- 8.19%)\n",
            "Test los [fold : 158.94%] = \n",
            "Test acc (fold-0) : 55.32%\n",
            "Test los [fold : 58.25%] = \n",
            "Test acc (fold-1) : 68.62%\n",
            "Test los [fold : 63.45%] = \n",
            "Test acc (fold-2) : 76.60%\n",
            "Test los [fold : 72.38%] = \n",
            "Test acc (fold-3) : 69.15%\n",
            "mean acc of 4 layer 20 nodes = 67.42% (+/- 7.67%)\n",
            "Test los [fold : 261.87%] = \n",
            "Test acc (fold-0) : 56.38%\n",
            "Test los [fold : 94.68%] = \n",
            "Test acc (fold-1) : 73.94%\n",
            "Test los [fold : 88.46%] = \n",
            "Test acc (fold-2) : 77.13%\n",
            "Test los [fold : 115.70%] = \n",
            "Test acc (fold-3) : 66.49%\n",
            "mean acc of 4 layer 50 nodes = 68.48% (+/- 7.98%)\n",
            "CPU times: user 21min 41s, sys: 1min 11s, total: 22min 53s\n",
            "Wall time: 18min 48s\n"
          ],
          "name": "stdout"
        }
      ]
    },
    {
      "cell_type": "markdown",
      "metadata": {
        "id": "nAoSNx418gBW"
      },
      "source": [
        "From the result above, I will select a model with 2 layer and 5 nodes because ithave have a highest accuracy and smmalest difference between nodes. After selecting the highest accuracy based on the number of nodes and layer we now add the number of data to get a better result. "
      ]
    },
    {
      "cell_type": "code",
      "metadata": {
        "id": "sq2lbYJxjYtd",
        "colab": {
          "base_uri": "https://localhost:8080/",
          "height": 422
        },
        "outputId": "1ec0368c-658a-4efd-bdce-de46852edac6"
      },
      "source": [
        "from keras.callbacks import TensorBoard\n",
        "\n",
        "cb = TensorBoard()\n",
        "\n",
        "layer = 2\n",
        "nodes = 5\n",
        "\n",
        "X_train, X_test, Y_train, Y_test = get_fold(split_data, 1)\n",
        "\n",
        "X_size = np.shape(X_train)[1]\n",
        "Y_size = np.shape(Y_train)[1]\n",
        "\n",
        "model = build_model(X_size, Y_size, layer=layer,nodes=nodes)\n",
        "\n",
        "history_callback = model.fit(X_train, Y_train,\n",
        "                          batch_size = 5,\n",
        "                          epochs = 100,\n",
        "                          verbose = 0,\n",
        "                          validation_data = (X_test, Y_test), callbacks = [cb])\n",
        "score = model.evaluate(X_test, Y_test, verbose = 0)\n",
        "\n",
        "import matplotlib.pyplot as plt\n",
        "% matplotlib inline\n",
        "\n",
        "fig, (ax1,ax2) = plt.subplots(2, figsize = (8,6))\n",
        "\n",
        "acc = history_callback.history['accuracy']\n",
        "loss = history_callback.history['loss']\n",
        "val_acc = history_callback.history['val_accuracy']\n",
        "val_loss = history_callback.history['val_loss']\n",
        "ax1.plot(acc, label='train')\n",
        "ax1.plot(val_acc, label='test')\n",
        "ax2.plot(loss, label='train')\n",
        "ax2.plot(val_loss, label='test')\n",
        "ax1.set_ylabel('accuracy')\n",
        "ax2.set_ylabel('loss')\n",
        "ax2.set_xlabel('epochs')\n",
        "\n",
        "ax1.legend()\n",
        "ax2.legend()\n",
        "plt.show()\n",
        "\n",
        "print('Test loss:', score[0])\n",
        "print('Test accuracy:', score[1])"
      ],
      "execution_count": 29,
      "outputs": [
        {
          "output_type": "display_data",
          "data": {
            "image/png": "[encoded data removed]",
            "text/plain": [
              "<Figure size 576x432 with 2 Axes>"
            ]
          },
          "metadata": {
            "tags": [],
            "needs_background": "light"
          }
        },
        {
          "output_type": "stream",
          "text": [
            "Test loss: 0.537812352180481\n",
            "Test accuracy: 0.7021276354789734\n"
          ],
          "name": "stdout"
        }
      ]
    },
    {
      "cell_type": "code",
      "metadata": {
        "id": "D5k8YHhvxj99",
        "colab": {
          "base_uri": "https://localhost:8080/"
        },
        "outputId": "8b0fcc30-4c54-4aee-8885-c20361efc25f"
      },
      "source": [
        "pred_test = np.argmax(model.predict(X_test),axis=1)\n",
        "act_test = np.argmax(Y_test, axis=1)\n",
        "\n",
        "n = 0\n",
        "\n",
        "    \n",
        "def backtoclass(value):\n",
        "    if value == 0:\n",
        "        return 'A'\n",
        "    elif value == 1:\n",
        "        return 'B'\n",
        "    elif value == 2:\n",
        "        return 'C'\n",
        "\n",
        "\n",
        "print('Pred \\t Actual \\t Conclusion')\n",
        "for i in range (pred_test.shape[0]):\n",
        "    print(backtoclass(pred_test[i]),\n",
        "          \"\\t\", \n",
        "          backtoclass(act_test[i]),\n",
        "          \"\\t\\t\",\n",
        "          'True' if pred_test[i] == act_test[i] else 'False')\n",
        "    if pred_test[i] == act_test[i]: n=n+1\n",
        "    \n",
        "print('\\n Right Prediction = ', n, ', dari From Total = ', pred_test.shape[0])\n"
      ],
      "execution_count": 30,
      "outputs": [
        {
          "output_type": "stream",
          "text": [
            "Pred \t Actual \t Conclusion\n",
            "B \t B \t\t True\n",
            "C \t C \t\t True\n",
            "A \t A \t\t True\n",
            "B \t B \t\t True\n",
            "C \t C \t\t True\n",
            "A \t A \t\t True\n",
            "A \t B \t\t False\n",
            "C \t C \t\t True\n",
            "B \t A \t\t False\n",
            "A \t B \t\t False\n",
            "C \t C \t\t True\n",
            "B \t A \t\t False\n",
            "A \t B \t\t False\n",
            "C \t C \t\t True\n",
            "B \t A \t\t False\n",
            "A \t B \t\t False\n",
            "C \t C \t\t True\n",
            "B \t A \t\t False\n",
            "A \t B \t\t False\n",
            "C \t C \t\t True\n",
            "B \t A \t\t False\n",
            "B \t B \t\t True\n",
            "C \t C \t\t True\n",
            "A \t A \t\t True\n",
            "B \t B \t\t True\n",
            "C \t C \t\t True\n",
            "B \t A \t\t False\n",
            "A \t B \t\t False\n",
            "C \t C \t\t True\n",
            "B \t A \t\t False\n",
            "A \t B \t\t False\n",
            "C \t C \t\t True\n",
            "A \t A \t\t True\n",
            "A \t B \t\t False\n",
            "C \t C \t\t True\n",
            "A \t A \t\t True\n",
            "B \t B \t\t True\n",
            "C \t C \t\t True\n",
            "A \t A \t\t True\n",
            "B \t B \t\t True\n",
            "C \t C \t\t True\n",
            "A \t A \t\t True\n",
            "B \t B \t\t True\n",
            "C \t C \t\t True\n",
            "A \t A \t\t True\n",
            "B \t B \t\t True\n",
            "C \t C \t\t True\n",
            "A \t A \t\t True\n",
            "B \t B \t\t True\n",
            "C \t C \t\t True\n",
            "B \t A \t\t False\n",
            "B \t B \t\t True\n",
            "C \t C \t\t True\n",
            "B \t A \t\t False\n",
            "A \t B \t\t False\n",
            "C \t C \t\t True\n",
            "B \t A \t\t False\n",
            "A \t B \t\t False\n",
            "C \t C \t\t True\n",
            "B \t A \t\t False\n",
            "B \t B \t\t True\n",
            "C \t C \t\t True\n",
            "B \t A \t\t False\n",
            "B \t B \t\t True\n",
            "C \t C \t\t True\n",
            "B \t A \t\t False\n",
            "B \t B \t\t True\n",
            "C \t C \t\t True\n",
            "A \t A \t\t True\n",
            "B \t B \t\t True\n",
            "C \t C \t\t True\n",
            "A \t A \t\t True\n",
            "A \t B \t\t False\n",
            "C \t C \t\t True\n",
            "A \t A \t\t True\n",
            "A \t B \t\t False\n",
            "C \t C \t\t True\n",
            "A \t A \t\t True\n",
            "B \t B \t\t True\n",
            "C \t C \t\t True\n",
            "B \t A \t\t False\n",
            "A \t B \t\t False\n",
            "C \t C \t\t True\n",
            "B \t A \t\t False\n",
            "A \t B \t\t False\n",
            "C \t C \t\t True\n",
            "A \t A \t\t True\n",
            "B \t B \t\t True\n",
            "C \t C \t\t True\n",
            "A \t A \t\t True\n",
            "B \t B \t\t True\n",
            "C \t C \t\t True\n",
            "A \t A \t\t True\n",
            "B \t B \t\t True\n",
            "C \t C \t\t True\n",
            "A \t A \t\t True\n",
            "B \t B \t\t True\n",
            "C \t C \t\t True\n",
            "A \t A \t\t True\n",
            "A \t B \t\t False\n",
            "C \t C \t\t True\n",
            "A \t A \t\t True\n",
            "B \t B \t\t True\n",
            "C \t C \t\t True\n",
            "B \t A \t\t False\n",
            "B \t B \t\t True\n",
            "C \t C \t\t True\n",
            "B \t A \t\t False\n",
            "B \t B \t\t True\n",
            "C \t C \t\t True\n",
            "B \t A \t\t False\n",
            "B \t B \t\t True\n",
            "C \t C \t\t True\n",
            "A \t A \t\t True\n",
            "A \t B \t\t False\n",
            "C \t C \t\t True\n",
            "A \t A \t\t True\n",
            "A \t B \t\t False\n",
            "C \t C \t\t True\n",
            "A \t A \t\t True\n",
            "A \t B \t\t False\n",
            "C \t C \t\t True\n",
            "B \t A \t\t False\n",
            "A \t B \t\t False\n",
            "C \t C \t\t True\n",
            "B \t A \t\t False\n",
            "C \t B \t\t False\n",
            "C \t C \t\t True\n",
            "A \t A \t\t True\n",
            "C \t B \t\t False\n",
            "C \t C \t\t True\n",
            "A \t A \t\t True\n",
            "B \t B \t\t True\n",
            "C \t C \t\t True\n",
            "B \t A \t\t False\n",
            "B \t B \t\t True\n",
            "C \t C \t\t True\n",
            "B \t A \t\t False\n",
            "B \t B \t\t True\n",
            "C \t C \t\t True\n",
            "A \t A \t\t True\n",
            "B \t B \t\t True\n",
            "C \t C \t\t True\n",
            "A \t A \t\t True\n",
            "B \t B \t\t True\n",
            "C \t C \t\t True\n",
            "A \t A \t\t True\n",
            "B \t B \t\t True\n",
            "C \t C \t\t True\n",
            "B \t A \t\t False\n",
            "B \t B \t\t True\n",
            "C \t C \t\t True\n",
            "B \t A \t\t False\n",
            "B \t B \t\t True\n",
            "C \t C \t\t True\n",
            "A \t A \t\t True\n",
            "B \t B \t\t True\n",
            "C \t C \t\t True\n",
            "B \t A \t\t False\n",
            "B \t B \t\t True\n",
            "C \t C \t\t True\n",
            "B \t A \t\t False\n",
            "B \t B \t\t True\n",
            "C \t C \t\t True\n",
            "A \t A \t\t True\n",
            "B \t B \t\t True\n",
            "C \t C \t\t True\n",
            "A \t A \t\t True\n",
            "A \t B \t\t False\n",
            "C \t C \t\t True\n",
            "A \t A \t\t True\n",
            "A \t B \t\t False\n",
            "C \t C \t\t True\n",
            "A \t A \t\t True\n",
            "A \t B \t\t False\n",
            "C \t C \t\t True\n",
            "B \t A \t\t False\n",
            "A \t B \t\t False\n",
            "C \t C \t\t True\n",
            "B \t A \t\t False\n",
            "B \t B \t\t True\n",
            "C \t C \t\t True\n",
            "B \t A \t\t False\n",
            "B \t B \t\t True\n",
            "C \t C \t\t True\n",
            "B \t A \t\t False\n",
            "A \t B \t\t False\n",
            "C \t C \t\t True\n",
            "\n",
            " Right Prediction =  132 , dari From Total =  188\n"
          ],
          "name": "stdout"
        }
      ]
    },
    {
      "cell_type": "markdown",
      "metadata": {
        "id": "XOa5SaGIEj4C"
      },
      "source": [
        "Looking the result if we dont add Drop Out Nodes"
      ]
    },
    {
      "cell_type": "code",
      "metadata": {
        "id": "9hM-hNfXjmmr",
        "colab": {
          "base_uri": "https://localhost:8080/",
          "height": 422
        },
        "outputId": "8edcdb1b-c80c-450e-bae3-e691929eadb2"
      },
      "source": [
        "def build_model_noDO(layer = 1, nodes = 1 ):\n",
        "    opt = Adam(lr=0.001)\n",
        "    model = Sequential()\n",
        "    model.add(Dense(nodes, input_dim = X_size, activation = 'relu', use_bias=True))\n",
        "    model.add(Dropout(0.2))\n",
        "    for i in range (layer-1):\n",
        "        model.add(Dense(nodes, activation = 'relu', use_bias=True))\n",
        "        model.add(Dropout(0.2))   \n",
        "    model.add(Dense(Y_size, activation = 'softmax'))\n",
        "    \n",
        "    # compile model\n",
        "    model.compile(opt, loss = 'categorical_crossentropy', metrics = ['accuracy'])\n",
        "    \n",
        "    return model\n",
        "\n",
        "\n",
        "from keras.callbacks import TensorBoard\n",
        "\n",
        "cb = TensorBoard()\n",
        "\n",
        "layer = 2\n",
        "nodes = 5\n",
        "\n",
        "X_train, X_test, Y_train, Y_test = get_fold(split_data, 2)\n",
        "\n",
        "X_size = np.shape(X_train)[1]\n",
        "Y_size = np.shape(Y_train)[1]\n",
        "\n",
        "model = build_model_noDO(layer=2,nodes=5)\n",
        "\n",
        "history_callback = model.fit(X_train, Y_train,\n",
        "                          batch_size = 5,\n",
        "                          epochs = 100,\n",
        "                          verbose = 0,\n",
        "                          validation_data = (X_test, Y_test), callbacks = [cb])\n",
        "score = model.evaluate(X_test, Y_test, verbose = 0)\n",
        "\n",
        "import matplotlib.pyplot as plt\n",
        "% matplotlib inline\n",
        "\n",
        "fig, (ax1,ax2) = plt.subplots(2, figsize = (8,6))\n",
        "\n",
        "acc = history_callback.history['accuracy']\n",
        "loss = history_callback.history['loss']\n",
        "val_acc = history_callback.history['val_accuracy']\n",
        "val_loss = history_callback.history['val_loss']\n",
        "ax1.plot(acc, label='test')\n",
        "ax1.plot(val_acc, label='train')\n",
        "ax2.plot(loss, label='test')\n",
        "ax2.plot(val_loss, label='train')\n",
        "ax1.set_ylabel('accuracy')\n",
        "ax2.set_ylabel('loss')\n",
        "ax2.set_xlabel('epochs')\n",
        "\n",
        "ax1.legend()\n",
        "ax2.legend()\n",
        "plt.show()\n",
        "\n",
        "print('Test loss:', score[0])\n",
        "print('Test accuracy:', score[1])"
      ],
      "execution_count": 31,
      "outputs": [
        {
          "output_type": "display_data",
          "data": {
            "image/png": "[encoded data removed]",
            "text/plain": [
              "<Figure size 576x432 with 2 Axes>"
            ]
          },
          "metadata": {
            "tags": [],
            "needs_background": "light"
          }
        },
        {
          "output_type": "stream",
          "text": [
            "Test loss: 0.5162384510040283\n",
            "Test accuracy: 0.7872340679168701\n"
          ],
          "name": "stdout"
        }
      ]
    },
    {
      "cell_type": "code",
      "metadata": {
        "id": "_UogZUPxPNKF"
      },
      "source": [
        "#for i in range (np.shape(acc)[0]):\n",
        "#  print(loss[i], val_loss[i])"
      ],
      "execution_count": null,
      "outputs": []
    },
    {
      "cell_type": "markdown",
      "metadata": {
        "id": "CR2v4uM1FTB-"
      },
      "source": [
        "From the result above we could see that the accuracy of the model is still low, this is because the number of dataset is not sufficient enough to create a good model. But even though it's low, it is still above 30% (the data is classified into A, B and C). By adding more data point we could increase the model accuracy"
      ]
    }
  ]
}